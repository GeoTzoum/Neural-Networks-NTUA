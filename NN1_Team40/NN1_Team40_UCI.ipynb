{
  "cells": [
    {
      "cell_type": "markdown",
      "metadata": {
        "id": "Mya4KlijkVWa"
      },
      "source": [
        "# Νευρωνικά Δίκτυα\n",
        "# Εργαστηριακή Άσκηση 1: ΜΕΡΟΣ 1 - UCI Dataset\n",
        "\n",
        "### **ΟΜΑΔΑ 40**\n",
        "*   Μαριαλένα Βαγγελάτου (03118141)\n",
        "*   Νικόλαος Μπλέτσας (03118899)\n",
        "*   Γεώργιος Τζουμανέκας (03118095)\n"
      ]
    },
    {
      "cell_type": "markdown",
      "metadata": {
        "id": "FLBwY7wjmOXU"
      },
      "source": [
        "## Εισαγωγή και επισκόπηση"
      ]
    },
    {
      "cell_type": "markdown",
      "metadata": {
        "id": "AO_ebsW1oMkW"
      },
      "source": [
        "**Περιγραφή**:\n",
        "Το dataset πρόκειται για ενα simulation αποτύπωσης σωματιδιων γάμμα υψηλής ενέργειας από ένα επίγειο τηλεσκόπιο Chernikov. Το τηλεσκόπιο αποτυπώνει τα σωματίδια με τα χαρακτηριστικά τους και τα κατηγοριοποιεί σε δυο κλάσεις ανάλογα, την κλάση gamma και την κλάση hadron.\n",
        "\n",
        "Dataset link: http://archive.ics.uci.edu/ml/datasets/MAGIC+Gamma+Telescope"
      ]
    },
    {
      "cell_type": "code",
      "execution_count": null,
      "metadata": {
        "id": "m-HLh0jQmWpt",
        "colab": {
          "base_uri": "https://localhost:8080/"
        },
        "outputId": "8e3fda00-6102-4e2d-c35f-026b35ca2da5"
      },
      "outputs": [
        {
          "output_type": "stream",
          "name": "stdout",
          "text": [
            "Looking in indexes: https://pypi.org/simple, https://us-python.pkg.dev/colab-wheels/public/simple/\n",
            "Requirement already satisfied: pip in /usr/local/lib/python3.7/dist-packages (22.3.1)\n",
            "\u001b[33mWARNING: Running pip as the 'root' user can result in broken permissions and conflicting behaviour with the system package manager. It is recommended to use a virtual environment instead: https://pip.pypa.io/warnings/venv\u001b[0m\u001b[33m\n",
            "\u001b[0mLooking in indexes: https://pypi.org/simple, https://us-python.pkg.dev/colab-wheels/public/simple/\n",
            "Requirement already satisfied: scikit-learn in /usr/local/lib/python3.7/dist-packages (1.0.2)\n",
            "Requirement already satisfied: numpy>=1.14.6 in /usr/local/lib/python3.7/dist-packages (from scikit-learn) (1.21.6)\n",
            "Requirement already satisfied: scipy>=1.1.0 in /usr/local/lib/python3.7/dist-packages (from scikit-learn) (1.7.3)\n",
            "Requirement already satisfied: threadpoolctl>=2.0.0 in /usr/local/lib/python3.7/dist-packages (from scikit-learn) (3.1.0)\n",
            "Requirement already satisfied: joblib>=0.11 in /usr/local/lib/python3.7/dist-packages (from scikit-learn) (1.2.0)\n",
            "\u001b[33mWARNING: Running pip as the 'root' user can result in broken permissions and conflicting behaviour with the system package manager. It is recommended to use a virtual environment instead: https://pip.pypa.io/warnings/venv\u001b[0m\u001b[33m\n",
            "\u001b[0mLooking in indexes: https://pypi.org/simple, https://us-python.pkg.dev/colab-wheels/public/simple/\n",
            "Requirement already satisfied: numpy in /usr/local/lib/python3.7/dist-packages (1.21.6)\n",
            "\u001b[33mWARNING: Running pip as the 'root' user can result in broken permissions and conflicting behaviour with the system package manager. It is recommended to use a virtual environment instead: https://pip.pypa.io/warnings/venv\u001b[0m\u001b[33m\n",
            "\u001b[0mLooking in indexes: https://pypi.org/simple, https://us-python.pkg.dev/colab-wheels/public/simple/\n",
            "Requirement already satisfied: pandas in /usr/local/lib/python3.7/dist-packages (1.3.5)\n",
            "Requirement already satisfied: python-dateutil>=2.7.3 in /usr/local/lib/python3.7/dist-packages (from pandas) (2.8.2)\n",
            "Requirement already satisfied: numpy>=1.17.3 in /usr/local/lib/python3.7/dist-packages (from pandas) (1.21.6)\n",
            "Requirement already satisfied: pytz>=2017.3 in /usr/local/lib/python3.7/dist-packages (from pandas) (2022.6)\n",
            "Requirement already satisfied: six>=1.5 in /usr/local/lib/python3.7/dist-packages (from python-dateutil>=2.7.3->pandas) (1.15.0)\n",
            "\u001b[33mWARNING: Running pip as the 'root' user can result in broken permissions and conflicting behaviour with the system package manager. It is recommended to use a virtual environment instead: https://pip.pypa.io/warnings/venv\u001b[0m\u001b[33m\n",
            "\u001b[0m"
          ]
        }
      ],
      "source": [
        "#upgrade the packages\n",
        "!pip install --upgrade pip\n",
        "!pip install scikit-learn --upgrade\n",
        "!pip install numpy --upgrade\n",
        "!pip install pandas --upgrade"
      ]
    },
    {
      "cell_type": "code",
      "execution_count": null,
      "metadata": {
        "id": "k0y96kt6p2ek"
      },
      "outputs": [],
      "source": [
        "import pandas as pd, numpy as np, matplotlib.pyplot as plt, time\n",
        "from imblearn.over_sampling import RandomOverSampler\n",
        "from sklearn.model_selection import train_test_split,GridSearchCV\n",
        "from sklearn.impute import SimpleImputer\n",
        "from sklearn.dummy import DummyClassifier\n",
        "from sklearn.neighbors import KNeighborsClassifier\n",
        "from sklearn.linear_model import LogisticRegression\n",
        "from sklearn.naive_bayes import GaussianNB\n",
        "from sklearn.metrics import accuracy_score,classification_report,confusion_matrix\n",
        "from sklearn.metrics import precision_recall_fscore_support,f1_score\n",
        "from sklearn.feature_selection import VarianceThreshold\n",
        "from sklearn import preprocessing\n",
        "from sklearn.preprocessing import StandardScaler,MinMaxScaler\n",
        "from sklearn.decomposition import PCA\n",
        "from imblearn.pipeline import Pipeline\n",
        "from sklearn.utils import shuffle\n",
        "from sklearn.model_selection import cross_validate\n",
        "import seaborn as sns"
      ]
    },
    {
      "cell_type": "markdown",
      "metadata": {
        "id": "kTooCXs5qaU4"
      },
      "source": [
        "Αφού έχουμε κάνει τα διαδικαστικά του setup προχωράμε στο data proccessing. Θα ανεβάσομε το αρχείο magic04.data για να διαβάσουμε το dataset μας και θα το βάλουμε στην μεταβλητή data με το κατάλληλο format."
      ]
    },
    {
      "cell_type": "code",
      "execution_count": null,
      "metadata": {
        "colab": {
          "base_uri": "https://localhost:8080/"
        },
        "id": "4Ml1-bF3qnXn",
        "outputId": "402e915a-3028-4f9e-f7ee-850cbcf136f0"
      },
      "outputs": [
        {
          "output_type": "stream",
          "name": "stdout",
          "text": [
            "The dataset contains 19020 samples, 10 features and a label.\n",
            "\n",
            "\n",
            "The data are shown here:\n",
            "[[28.7967 16.0021 2.6449 ... 40.092 81.8828 'g']\n",
            " [31.6036 11.7235 2.5185 ... 6.3609 205.261 'g']\n",
            " [162.052 136.031 4.0612 ... 76.96 256.788 'g']\n",
            " ...\n",
            " [75.4455 47.5305 3.4483 ... 30.2987 256.5166 'h']\n",
            " [120.5135 76.9018 3.9939 ... 84.6874 408.3166 'h']\n",
            " [187.1814 53.0014 3.2093 ... 52.731 272.3174 'h']]\n"
          ]
        }
      ],
      "source": [
        "df = pd.read_csv(\"magic04.data\",header=None)\n",
        "data = df.to_numpy()\n",
        "print(\"The dataset contains\", data.shape[0],\"samples,\" ,data.shape[1]-1, \"features and a label.\")\n",
        "print(\"\\n\")\n",
        "print(\"The data are shown here:\")\n",
        "print(data)"
      ]
    },
    {
      "cell_type": "markdown",
      "metadata": {
        "id": "a81M222RrWb2"
      },
      "source": [
        "Προκύπτει ότι το dataset αποτελείται από 19020 δείγματα, καθένα εκ των οποίων έχει 10 χαρακτηριστικά και μια binary ετικέτα. Στη συνέχεια εξετάζουμε το είδος των χαρακτηριστικών μέσω του δείγματος αφού από το dataset δεν λείπουν τιμές."
      ]
    },
    {
      "cell_type": "markdown",
      "metadata": {
        "id": "4E5GrMURsSxQ"
      },
      "source": [
        "Δεν υπάρχουν επικεφαλίδες στο dataset ή αρίθμηση γραμμών όπως βλέπουμε από το sample."
      ]
    },
    {
      "cell_type": "code",
      "execution_count": null,
      "metadata": {
        "colab": {
          "base_uri": "https://localhost:8080/"
        },
        "id": "PK6K4KjVrNNH",
        "outputId": "69e7e56f-9dee-4a20-cb9b-736d5ad4f715"
      },
      "outputs": [
        {
          "output_type": "stream",
          "name": "stdout",
          "text": [
            "Data types of features: {<class 'float'>, <class 'str'>}\n",
            "\n",
            "\n",
            "Inspection of features: [28.7967 16.0021 2.6449 0.3918 0.1982 27.7004 22.011 -8.2027 40.092\n",
            " 81.8828 'g']\n"
          ]
        }
      ],
      "source": [
        "print(\"Data types of features:\", set([type(feature) for feature in data[0]]))\n",
        "print(\"\\n\")\n",
        "print(\"Inspection of features:\", data[0])"
      ]
    },
    {
      "cell_type": "markdown",
      "metadata": {
        "id": "k4n7oiGcs2_X"
      },
      "source": [
        "Παρατηρούμε από την πρώτη γραμμή των δεδομένων ότι οι τιμές είναι real (float) πέρα από την τελεταία στήλη που είναι string (συγκεκριμένα \"g\" για gamma ή \"h\" για hadron)."
      ]
    },
    {
      "cell_type": "markdown",
      "metadata": {
        "id": "g7Wd7Jd8tqiC"
      },
      "source": [
        "Σύμφωνα και με το documentation και με προηγουμένως οι ετικέτες των δειγμάτων είναι οι τιμές g (gamma) ή h (hadron) και βρίσκονται στην τελευταία κολώνα."
      ]
    },
    {
      "cell_type": "code",
      "execution_count": null,
      "metadata": {
        "colab": {
          "base_uri": "https://localhost:8080/"
        },
        "id": "7n-JSmxBt9ck",
        "outputId": "76d76767-12bf-40ae-903f-443013dea8fd"
      },
      "outputs": [
        {
          "output_type": "stream",
          "name": "stdout",
          "text": [
            "Labels of the Dataset: {'h', 'g'}\n",
            "\n",
            "\n",
            "The array of Labels of the Dataset: \n",
            "['g' 'g' 'g' ... 'h' 'h' 'h']\n",
            "\n",
            "\n",
            "The array of Feats of the Dataset: \n",
            "[[28.7967 16.0021 2.6449 ... -8.2027 40.092 81.8828]\n",
            " [31.6036 11.7235 2.5185 ... -9.9574 6.3609 205.261]\n",
            " [162.052 136.031 4.0612 ... -45.216 76.96 256.788]\n",
            " ...\n",
            " [75.4455 47.5305 3.4483 ... -9.4662 30.2987 256.5166]\n",
            " [120.5135 76.9018 3.9939 ... -63.8389 84.6874 408.3166]\n",
            " [187.1814 53.0014 3.2093 ... 31.4755 52.731 272.3174]]\n"
          ]
        }
      ],
      "source": [
        "labels = data[:,-1]\n",
        "feats  = data[:,:-1]\n",
        "print(\"Labels of the Dataset:\",set(labels))\n",
        "print(\"\\n\")\n",
        "print(\"The array of Labels of the Dataset: \")\n",
        "print(labels)\n",
        "print(\"\\n\")\n",
        "print(\"The array of Feats of the Dataset: \")\n",
        "print(feats)"
      ]
    },
    {
      "cell_type": "markdown",
      "metadata": {
        "id": "YjGevCMvuWBI"
      },
      "source": [
        "Ξέρουμε από το documentation ότι δεν υπάρχουν missing values, κάτι που ελέγχουμε και παρακάτω:"
      ]
    },
    {
      "cell_type": "code",
      "source": [
        "df.isnull().values.any() #check if the dataframe has any missing values"
      ],
      "metadata": {
        "colab": {
          "base_uri": "https://localhost:8080/"
        },
        "id": "Sms58tHj8ePx",
        "outputId": "8be74e47-23cd-4e90-a1e4-75f20886ea13"
      },
      "execution_count": null,
      "outputs": [
        {
          "output_type": "execute_result",
          "data": {
            "text/plain": [
              "False"
            ]
          },
          "metadata": {},
          "execution_count": 8
        }
      ]
    },
    {
      "cell_type": "markdown",
      "metadata": {
        "id": "-cQNT131u75v"
      },
      "source": [
        "Αφού το dataset μας δεν έχει κενά στοιχεία και δεν χρειάζεται κάποια περαιτέρω επεξεργασία, μπορούμε να εξετάσουμε την ισορροπία του. Λόγω της binary φύσης των labels, μπορούμε να εκτιμήσουμε απευθείας πόσα στοιχεία ανήκουν σε κάθε κλάση με τη συνάρτηση sum(), για να αποφανθούμε."
      ]
    },
    {
      "cell_type": "code",
      "execution_count": null,
      "metadata": {
        "colab": {
          "base_uri": "https://localhost:8080/"
        },
        "id": "iEmX5mGNvf8N",
        "outputId": "30586dc9-f12b-471c-e64f-d74245f4cd49"
      },
      "outputs": [
        {
          "output_type": "stream",
          "name": "stdout",
          "text": [
            "['g' 'g' 'g' ... 'h' 'h' 'h']\n",
            "(19020, 10)\n",
            "12332 samples are gamma and 6688  samples are hadron\n",
            "The balance is 65.0 % in favour of the gamma samples\n"
          ]
        }
      ],
      "source": [
        "np_labels = np.array(labels)\n",
        "print(np_labels)\n",
        "print(feats.shape)\n",
        "g = len(np_labels[np_labels=='g']) #gamma samples\n",
        "h = len(np_labels[np_labels=='h']) #hardop samples\n",
        "print(g,\"samples are gamma and\",h,\" samples are hadron\")\n",
        "print(\"The balance is\", round(g/len(labels),2) * 100, \"% in favour of the gamma samples\")"
      ]
    },
    {
      "cell_type": "markdown",
      "metadata": {
        "id": "KlQf-l35w8fl"
      },
      "source": [
        "Tα δεδομένα κλίνουν κατά ένα βαθμό στην κλάση gamma, άρα δεν είναι καλώς ισορροπημένα. Το ποσοστό παραμένει ελαφρώς μικρότερο του 2/3 (που αναφέρεται και στην εκφώνηση ως το όριο), άρα θα μπορούσαμε να μην το επεξεργαστούμε περαιτέρω. Επιλέγουμε όμως να εφαρμόσουμε oversampling, αφού προηγηθεί το split, θεωρώντας ότι όσο πιο ισορροπημένο είναι το dataset, τόσο καλύτερα θα είναι τα αποτελέσματα."
      ]
    },
    {
      "cell_type": "markdown",
      "metadata": {
        "id": "QSJGevDWyHOR"
      },
      "source": [
        "## Προετοιμασία"
      ]
    },
    {
      "cell_type": "markdown",
      "source": [
        "Τώρα θα χωρίσουμε τα δεδομένα σε train και test set μέσω της αντίστοιχης συνάρτησης train_test_split() της Scikit-learn. Αντίστοιχα χωρίζουμε και τα labels. Επιλέγουμε όπως τονίζεται στην εκφώνηση το 30% για το test set:"
      ],
      "metadata": {
        "id": "2gSURDNe7GnD"
      }
    },
    {
      "cell_type": "code",
      "source": [
        "x_train,x_test,y_train,y_test = train_test_split(feats,labels,test_size=0.3,random_state=0)"
      ],
      "metadata": {
        "id": "vLvUb6YR9kZP"
      },
      "execution_count": null,
      "outputs": []
    },
    {
      "cell_type": "markdown",
      "source": [
        "Τώρα θα εφαρμόσουμε oversampling ώστε να εξισορροπήσουμε το dataset, όπως είπαμε και προηγουμένως ότι θα κάνουμε μετά το split. Η έννοια του oversampling ειναι πρακτικά η επανάληψη samples από την κλάση που υπολείπεται (εδώ η κλάση hardop), ώστε ο λόγος τους να τείνει προς το ιδανικό 50%. Θα εφαρμόσουμε για αυτό το σκοπό την συνάρτηση της Scikit-learn:"
      ],
      "metadata": {
        "id": "INFvH6A99rFR"
      }
    },
    {
      "cell_type": "code",
      "source": [
        "ros = RandomOverSampler(random_state = 0)\n",
        "x_train, y_train = ros.fit_resample(x_train,y_train)\n",
        "balance = len(y_train[y_train=='g'])/len(y_train) * 100\n",
        "\n",
        "print(\"The balance of the train set is\", balance, \"%\")"
      ],
      "metadata": {
        "colab": {
          "base_uri": "https://localhost:8080/"
        },
        "id": "JjMGycr8-643",
        "outputId": "eae0bb36-5482-4e73-f865-6a3619f80d95"
      },
      "execution_count": null,
      "outputs": [
        {
          "output_type": "stream",
          "name": "stdout",
          "text": [
            "The balance of the train set is 50.0 %\n"
          ]
        }
      ]
    },
    {
      "cell_type": "markdown",
      "source": [
        "Παρατηρούμε την απευθείας βελτίωση στην ισορροπία του dataset, αφού ο λόγος των δύο κλάσεων έφτασε στο 0,5. Σημειώνουμε πως επιλέγουμε να ισορροπήσουμε μόνο τα δεδομένα εκπαίδευσης (train set), τα οποία είναι και τα μόνα που χρειάζεται να είναι ισορροπημένα. Γενικώς αποφεύγουμε οποιαδήποτε περαιτέρω επεξεργασία στα test δεδομένα.\n"
      ],
      "metadata": {
        "id": "eZ-7ohnM_NO1"
      }
    },
    {
      "cell_type": "markdown",
      "source": [
        "## Ταξινόμηση"
      ],
      "metadata": {
        "id": "1jQeopP1_nf3"
      }
    },
    {
      "cell_type": "markdown",
      "source": [
        "Οι ταξινομητές που θα μελετήσουμε είναι οι:\n",
        "\n",
        "*   Dummy\n",
        "*   Gaussian Naive Bayes (GNB)\n",
        "*   KNearestNeighbors (kNN)\n",
        "*   Logistic Regression (LR)"
      ],
      "metadata": {
        "id": "-LuRgWJLAzuY"
      }
    },
    {
      "cell_type": "markdown",
      "source": [
        "\n",
        "Ορίζουμε αρχικά μία συνάρτηση που εκπαιδεύει τους dummy classifiers με default τιμές και επιστρέφει σε ένα dictionary τα predictions κάθε ταξινομητή, την ακρίβεια του καθώς και τους χρόνους fit και train.\n",
        "\n",
        "\n",
        "Τα είδη των dummy classifiers που εξετάζουμε είναι τα εξής:\n",
        "* uniform: ο ταξινομητής προβλέπει τυχαία και ομοιόμορφα\n",
        "* constant: ο ταξινομητής προβλέπει πάντα μία κατηγορία που διαλέγουμε (gamma και hadron)\n",
        "* stratified: ο ταξινομητής προβλέπει διατηρώντας την κατανομή των κλάσεων στο training set\n",
        "* most_frequent: ο ταξινομητής προβλέπει πάντα την πιο συχνή κατηγορία στο training set"
      ],
      "metadata": {
        "id": "VsLHJS7K_tku"
      }
    },
    {
      "cell_type": "code",
      "source": [
        "def DummyClassification(x_train,y_train,x_test,y_test):\n",
        "    \n",
        "    scores, predictions, fit_times, pred_times = {}, {}, {}, {}\n",
        "\n",
        "    ## Initialization\n",
        "    \n",
        "    dc_uniform  = DummyClassifier(strategy=\"uniform\")\n",
        "    dc_const_gamma = DummyClassifier(strategy=\"constant\",constant='g')\n",
        "    dc_const_hadron = DummyClassifier(strategy=\"constant\",constant='h')\n",
        "    dc_stratified = DummyClassifier(strategy=\"stratified\")\n",
        "    dc_frequent = DummyClassifier(strategy=\"most_frequent\")\n",
        "\n",
        "    ## Fit times\n",
        "    \n",
        "    start_time = time.time()\n",
        "    dc_uniform.fit(x_train, y_train)\n",
        "    fit_times['uniform'] = time.time()-start_time\n",
        "    \n",
        "    start_time = time.time()\n",
        "    dc_const_gamma.fit(x_train, y_train)\n",
        "    fit_times['const_gamma'] = time.time()-start_time\n",
        "    \n",
        "    start_time = time.time()\n",
        "    dc_const_hadron.fit(x_train, y_train)\n",
        "    fit_times['const_hadron'] = time.time()-start_time\n",
        "    \n",
        "    start_time = time.time()\n",
        "    dc_stratified.fit(x_train, y_train)\n",
        "    fit_times['stratified'] = time.time()-start_time\n",
        "    \n",
        "    start_time = time.time()\n",
        "    dc_frequent.fit(x_train,y_train)\n",
        "    fit_times['frequent'] = time.time()-start_time\n",
        "    \n",
        "    ## Predictions and prediction times\n",
        "    \n",
        "    start_time = time.time()\n",
        "    predictions['uniform']  = dc_uniform.predict(x_test)\n",
        "    pred_times['uniform'] = time.time()-start_time\n",
        "    \n",
        "    start_time = time.time()\n",
        "    predictions['const_gamma']  = dc_const_gamma.predict(x_test)\n",
        "    pred_times['const_gamma'] = time.time()-start_time\n",
        "    \n",
        "    start_time = time.time()\n",
        "    predictions['const_hadron']  = dc_const_hadron.predict(x_test)\n",
        "    pred_times['const_hadron'] = time.time()-start_time\n",
        "    \n",
        "    start_time = time.time()\n",
        "    predictions['stratified']  = dc_stratified.predict(x_test)\n",
        "    pred_times['stratified'] = time.time()-start_time\n",
        "    \n",
        "    start_time = time.time()\n",
        "    predictions['frequent'] = dc_frequent.predict(x_test)\n",
        "    pred_times['frequent'] = time.time()-start_time\n",
        "\n",
        "    ## Score\n",
        "    \n",
        "    scores['uniform']  = dc_uniform.score(x_test, y_test)\n",
        "    scores['const_gamma']  = dc_const_gamma.score(x_test, y_test)\n",
        "    scores['const_hadron']  = dc_const_hadron.score(x_test, y_test)\n",
        "    scores['stratified']  = dc_stratified.score(x_test, y_test)\n",
        "    scores['frequent'] = dc_frequent.score(x_test,y_test)\n",
        "    \n",
        "    return predictions, scores, fit_times, pred_times"
      ],
      "metadata": {
        "id": "a6X_1zrmBo3x"
      },
      "execution_count": null,
      "outputs": []
    },
    {
      "cell_type": "markdown",
      "source": [
        "## Επίδοση out-of-the-box\n",
        "Τρέχουμε όλους τους ταξινομητές χωρίς καμία βελτιστοποίηση:"
      ],
      "metadata": {
        "id": "ndBmhd11CVqD"
      }
    },
    {
      "cell_type": "markdown",
      "source": [
        "Για το F1 score, χωρίζουμε το micro και macro. Αναμένουμε ότι επειδή έχουμε ισορροπήσει το dataset μας, το macro F1 score θα μας δώσει καλύτερα αποτελέσματα."
      ],
      "metadata": {
        "id": "1trIGUSEFoDt"
      }
    },
    {
      "cell_type": "markdown",
      "source": [
        "### *dummy*\n",
        "\n",
        "\n"
      ],
      "metadata": {
        "id": "sHTn0HbdFDrc"
      }
    },
    {
      "cell_type": "code",
      "source": [
        "predictions, accuracies, _, _ = DummyClassification(x_train, y_train, x_test, y_test)\n",
        "\n",
        "print(\"Confusion Matrices of the Dummy Classifier: \\n\")\n",
        "for strategy in predictions:\n",
        "  print(f'For strategy -> {strategy}:\\n {confusion_matrix(y_test, predictions[strategy])}')\n",
        "\n",
        "print(\"\\n\")\n",
        "print(\"F1 Score of the Dummy Classifier: \\n\")\n",
        "for strategy in predictions:\n",
        "  print(f'For strategy -> {strategy}:')\n",
        "  print(f'\\tMicro: {f1_score(y_test, predictions[strategy], average = \"micro\")}')\n",
        "  print(f'\\tMacro: {f1_score(y_test, predictions[strategy], average = \"macro\")}\\n')\n",
        "\n",
        "print(\"\\n\")\n",
        "print(\"Accuracy of the Dummy Classifier: \\n\")\n",
        "for strategy in accuracies:\n",
        "  print(f'For strategy -> {strategy}: {accuracies[strategy]}')"
      ],
      "metadata": {
        "colab": {
          "base_uri": "https://localhost:8080/"
        },
        "id": "DKuEiYaYFIuM",
        "outputId": "6feb7399-e1e7-4d92-d953-f8f53992c6e3"
      },
      "execution_count": null,
      "outputs": [
        {
          "output_type": "stream",
          "name": "stdout",
          "text": [
            "Confusion Matrices of the Dummy Classifier: \n",
            "\n",
            "For strategy -> uniform:\n",
            " [[1828 1861]\n",
            " [1007 1010]]\n",
            "For strategy -> const_gamma:\n",
            " [[3689    0]\n",
            " [2017    0]]\n",
            "For strategy -> const_hadron:\n",
            " [[   0 3689]\n",
            " [   0 2017]]\n",
            "For strategy -> stratified:\n",
            " [[1861 1828]\n",
            " [1009 1008]]\n",
            "For strategy -> frequent:\n",
            " [[3689    0]\n",
            " [2017    0]]\n",
            "\n",
            "\n",
            "F1 Score of the Dummy Classifier: \n",
            "\n",
            "For strategy -> uniform:\n",
            "\tMicro: 0.49737118822292326\n",
            "\tMacro: 0.48682467655620787\n",
            "\n",
            "For strategy -> const_gamma:\n",
            "\tMicro: 0.6465124430424115\n",
            "\tMacro: 0.3926556679084619\n",
            "\n",
            "For strategy -> const_hadron:\n",
            "\tMicro: 0.3534875569575885\n",
            "\tMacro: 0.2611679399197203\n",
            "\n",
            "For strategy -> stratified:\n",
            "\tMicro: 0.5028040658955485\n",
            "\tMacro: 0.4914388495152827\n",
            "\n",
            "For strategy -> frequent:\n",
            "\tMicro: 0.6465124430424115\n",
            "\tMacro: 0.3926556679084619\n",
            "\n",
            "\n",
            "\n",
            "Accuracy of the Dummy Classifier: \n",
            "\n",
            "For strategy -> uniform: 0.4977216964598668\n",
            "For strategy -> const_gamma: 0.6465124430424115\n",
            "For strategy -> const_hadron: 0.3534875569575885\n",
            "For strategy -> stratified: 0.4933403434980722\n",
            "For strategy -> frequent: 0.6465124430424115\n"
          ]
        }
      ]
    },
    {
      "cell_type": "markdown",
      "source": [
        "### *Gaussian Naive Bayes (GNB)*\n"
      ],
      "metadata": {
        "id": "56YcPhBIGfmI"
      }
    },
    {
      "cell_type": "code",
      "source": [
        "bayes = GaussianNB()\n",
        "bayes.fit(x_train, y_train)\n",
        "predictions['bayes'] = bayes.predict(x_test)\n",
        "accuracies['bayes'] = bayes.score(x_test, y_test)\n",
        "\n",
        "print(f'Confusion Matrices of the Gaussian Naive Bayes Classifier:\\n {confusion_matrix(y_test, predictions[\"bayes\"])}')\n",
        "\n",
        "print(\"\\n\")\n",
        "print(\"F1 Score of the Gaussian Naive Bayes Classifier: \\n\")\n",
        "print(f'\\tMicro: {f1_score(y_test, predictions[\"bayes\"], average = \"micro\")}')\n",
        "print(f'\\tMacro: {f1_score(y_test, predictions[\"bayes\"], average = \"macro\")}\\n')\n",
        "\n",
        "print(\"\\n\")\n",
        "print(\"Accuracy of the Gaussian Naive Bayes Classifier: \\n\")\n",
        "print(f'{accuracies[\"bayes\"]}')"
      ],
      "metadata": {
        "colab": {
          "base_uri": "https://localhost:8080/"
        },
        "id": "G3HUYEoLGXne",
        "outputId": "b572d370-d38d-4a0b-8ad8-bbae0690690d"
      },
      "execution_count": null,
      "outputs": [
        {
          "output_type": "stream",
          "name": "stdout",
          "text": [
            "Confusion Matrices of the Gaussian Naive Bayes Classifier:\n",
            " [[3317  372]\n",
            " [1214  803]]\n",
            "\n",
            "\n",
            "F1 Score of the Gaussian Naive Bayes Classifier: \n",
            "\n",
            "\tMicro: 0.7220469681037505\n",
            "\tMacro: 0.6550943965753802\n",
            "\n",
            "\n",
            "\n",
            "Accuracy of the Gaussian Naive Bayes Classifier: \n",
            "\n",
            "0.7220469681037505\n"
          ]
        }
      ]
    },
    {
      "cell_type": "markdown",
      "source": [
        "### *KNeirestNeighbors (kNN)*"
      ],
      "metadata": {
        "id": "mccGtxF0G5zx"
      }
    },
    {
      "cell_type": "code",
      "source": [
        "knn = KNeighborsClassifier(n_neighbors = 1)\n",
        "knn.fit(x_train, y_train)\n",
        "predictions['knn'] = knn.predict(x_test)\n",
        "accuracies['knn'] = knn.score(x_test, y_test)\n",
        "\n",
        "print(f'Confusion Matrices of the kNN Classifier:\\n {confusion_matrix(y_test, predictions[\"knn\"])}')\n",
        "\n",
        "print(\"\\n\")\n",
        "print(\"F1 Score of the kNN Classifier: \\n\")\n",
        "print(f'\\tMicro: {f1_score(y_test, predictions[\"knn\"], average = \"micro\")}')\n",
        "print(f'\\tMacro: {f1_score(y_test, predictions[\"knn\"], average = \"macro\")}\\n')\n",
        "\n",
        "print(\"\\n\")\n",
        "print(\"Accuracy of the kNN Classifier: \\n\")\n",
        "print(f'{accuracies[\"knn\"]}')\n",
        "\n",
        "print(\"\\n\")\n",
        "knn_validate = cross_validate(knn, x_train, y = y_train, cv = 10, return_train_score = True, scoring = ['accuracy'])\n",
        "print(\"average:\", np.mean(np.array(knn_validate[\"test_accuracy\"])))"
      ],
      "metadata": {
        "colab": {
          "base_uri": "https://localhost:8080/"
        },
        "id": "zuab9ASjHF4V",
        "outputId": "c8f310e9-959a-4d2c-9557-dd4ad622894c"
      },
      "execution_count": null,
      "outputs": [
        {
          "output_type": "stream",
          "name": "stdout",
          "text": [
            "Confusion Matrices of the kNN Classifier:\n",
            " [[3189  500]\n",
            " [ 765 1252]]\n",
            "\n",
            "\n",
            "F1 Score of the kNN Classifier: \n",
            "\n",
            "\tMicro: 0.778303540133193\n",
            "\tMacro: 0.7494281405630201\n",
            "\n",
            "\n",
            "\n",
            "Accuracy of the kNN Classifier: \n",
            "\n",
            "0.7783035401331931\n",
            "\n",
            "\n",
            "average: 0.8840195440524388\n"
          ]
        }
      ]
    },
    {
      "cell_type": "markdown",
      "source": [
        "### *Logistic Regression (LR)*"
      ],
      "metadata": {
        "id": "fwvZtc1AIGW4"
      }
    },
    {
      "cell_type": "code",
      "source": [
        "lr = LogisticRegression(solver='lbfgs', max_iter=1000)\n",
        "lr.fit(x_train, y_train)\n",
        "predictions['lr'] = lr.predict(x_test)\n",
        "accuracies['lr'] = lr.score(x_test, y_test)\n",
        "\n",
        "print(f'Confusion Matrices of the Logistic Regression Classifier:\\n {confusion_matrix(y_test, predictions[\"lr\"])}')\n",
        "\n",
        "print(\"\\n\")\n",
        "print(\"F1 Score of the Logistic Regression Classifier: \\n\")\n",
        "print(f'\\tMicro: {f1_score(y_test, predictions[\"lr\"], average = \"micro\")}')\n",
        "print(f'\\tMacro: {f1_score(y_test, predictions[\"lr\"], average = \"macro\")}\\n')\n",
        "\n",
        "print(\"\\n\")\n",
        "print(\"Accuracy of the Logistic Regression Classifier: \\n\")\n",
        "print(f'{accuracies[\"lr\"]}')\n",
        "\n",
        "print(\"\\n\")\n",
        "lr_validate = cross_validate(lr, x_train, y = y_train, cv = 10, return_train_score = True, scoring = ['accuracy'])\n",
        "print(\"average:\", np.mean(np.array(lr_validate[\"test_accuracy\"])))"
      ],
      "metadata": {
        "colab": {
          "base_uri": "https://localhost:8080/"
        },
        "id": "PkFW3-nzIOt4",
        "outputId": "650187ca-1dc1-4220-84d8-defe2125d6d5"
      },
      "execution_count": null,
      "outputs": [
        {
          "output_type": "stream",
          "name": "stdout",
          "text": [
            "Confusion Matrices of the Logistic Regression Classifier:\n",
            " [[3041  648]\n",
            " [ 553 1464]]\n",
            "\n",
            "\n",
            "F1 Score of the Logistic Regression Classifier: \n",
            "\n",
            "\tMicro: 0.7895198037153873\n",
            "\tMacro: 0.7721129838953531\n",
            "\n",
            "\n",
            "\n",
            "Accuracy of the Logistic Regression Classifier: \n",
            "\n",
            "0.7895198037153873\n",
            "\n",
            "\n",
            "average: 0.7675003146220251\n"
          ]
        }
      ]
    },
    {
      "cell_type": "markdown",
      "source": [
        "### Markdown πίνακας"
      ],
      "metadata": {
        "id": "ozP0Qa1EYdpz"
      }
    },
    {
      "cell_type": "markdown",
      "source": [
        "| Classifier | F1 Score (Micro) | F1 Score (Macro) | Accuracy |\n",
        "|:----:|:------:|:-------:|:--------:|\n",
        "| **dc_uniform** | 0.4973 |0.4868 |0.4978|\n",
        "| **dc_const_gamma** |0.6465 | 0.3926|0.6465|\n",
        "| **dc_const_hadron**|0.3534 |0.2611|0.3534|\n",
        "| **dc_stratified**|0.5028 | 0.4914|0.4933|\n",
        "| **dc_frequent**|0.6465 |0.3926 |0.6465|\n",
        "| **gnb**|0.7220 | 0.6550  |0.7220|\n",
        "| **knn**| 0.7783 | 0.7494 |0.7783|\n",
        "| **lr** | 0.7895 | 0.7721|0.7895|"
      ],
      "metadata": {
        "id": "d3I7KuXdbAtX"
      }
    },
    {
      "cell_type": "markdown",
      "source": [
        "### Bar Plot για τα F1 scores"
      ],
      "metadata": {
        "id": "QOL5Wyh1WHVr"
      }
    },
    {
      "cell_type": "code",
      "source": [
        "f1_macros, f1_micros, labels = [],[],[]\n",
        "for clf in predictions:  \n",
        "    f1_micros.append(f1_score(y_test,predictions[clf],average='micro'))\n",
        "    f1_macros.append(f1_score(y_test,predictions[clf],average='macro'))\n",
        "    labels.append(clf)\n",
        "\n",
        "x = np.arange(len(labels))\n",
        "width = 0.25\n",
        "\n",
        "fig, ax = plt.subplots()\n",
        "rects1 = ax.bar(x - width/2, f1_micros, width, label='f1_micro', color = \"blue\")\n",
        "rects2 = ax.bar(x + width/2, f1_macros, width, label='f1_macro', color = \"red\")\n",
        "\n",
        "fig.set_size_inches(18.5, 10.5)\n",
        "ax.set_ylabel('Scores')\n",
        "ax.set_title('Performance Comparison on F1-Score')\n",
        "ax.set_xticks(x)\n",
        "ax.set_xticklabels(labels)\n",
        "ax.legend()\n",
        "\n",
        "plt.show()"
      ],
      "metadata": {
        "colab": {
          "base_uri": "https://localhost:8080/",
          "height": 636
        },
        "id": "799c-DzbObIl",
        "outputId": "dc28a63c-7d42-4f19-a91d-d19c31213e2e"
      },
      "execution_count": null,
      "outputs": [
        {
          "output_type": "display_data",
          "data": {
            "text/plain": [
              "<Figure size 1332x756 with 1 Axes>"
            ],
            "image/png": "[encoded data removed]"
          },
          "metadata": {
            "needs_background": "light"
          }
        }
      ]
    },
    {
      "cell_type": "markdown",
      "source": [
        "### Bar plot για τα accuracies"
      ],
      "metadata": {
        "id": "4QUcLeo6W8Mu"
      }
    },
    {
      "cell_type": "code",
      "source": [
        "scores, acc_labels = [],[]\n",
        "for clf in accuracies:  \n",
        "    scores.append(accuracies[clf])\n",
        "    acc_labels.append(clf)\n",
        "\n",
        "x = np.arange(len(acc_labels))\n",
        "width = 0.25\n",
        "\n",
        "fig, ax = plt.subplots()\n",
        "rects1 = ax.bar(x - width/2, scores, width, label='accuracy', color = \"blue\")\n",
        "\n",
        "fig.set_size_inches(18.5, 10.5)\n",
        "ax.set_ylabel('Scores')\n",
        "ax.set_title('Performance Comparison on Accuracy')\n",
        "ax.set_xticks(x)\n",
        "ax.set_xticklabels(acc_labels)\n",
        "ax.legend()\n",
        "\n",
        "plt.show()"
      ],
      "metadata": {
        "colab": {
          "base_uri": "https://localhost:8080/",
          "height": 636
        },
        "id": "2dcdmkDTW6_p",
        "outputId": "baf710af-e3a3-4b92-bd67-e9b93a0ebf59"
      },
      "execution_count": null,
      "outputs": [
        {
          "output_type": "display_data",
          "data": {
            "text/plain": [
              "<Figure size 1332x756 with 1 Axes>"
            ],
            "image/png": "[encoded data removed]"
          },
          "metadata": {
            "needs_background": "light"
          }
        }
      ]
    },
    {
      "cell_type": "markdown",
      "source": [
        "### Σχολιασμός\n"
      ],
      "metadata": {
        "id": "H00f_TH4dWcI"
      }
    },
    {
      "cell_type": "markdown",
      "source": [
        "Μεταξύ των dummy ταξινομητών, η καλύτερη στρατηγική είναι να διαλέγουμε πάντοτε την πιο συχνή κλάση (frequent) ή ισοδύναμα σταθερά την κλάση που είναι η πιο συχνή (constant-gamma), αφού το test set δεν είναι ισορροπημένο.\n",
        "\n",
        "Εαν δοκιμάσουμε πολλά runs, θα παρατηρήσουμε ότι η επιλογή stratified, δηλαδή το να επιλέγουμε τυχαία κλάση διατηρώντας την κατανομή των κλάσεων στο train set, ενώ στη γενική περίπτωση θα έδινε καλύτερα αποτελέσματα από τη random επιλογή, στη προκειμένη, λόγω της ισορροπίας του train dataset, οι δύο μέθοδοι είναι ισοδύναμες.\n",
        "\n",
        "Ο kNN ταξινομητής δίνει καλύτερο αποτέλεσμα από τους dummy classifiers, αφού βασίζεται σε έναν αλγόριθμο λογικής ανάλυσης των δεδομένων εν αντιθέσει με τους dummy ταξινομητές. Επιπλέον λόγω του μεγάλου μεγέθους του test dataset, το αποτέλεσμα του ταξινομητή είναι αρκετά ικανοποιητικό.\n",
        "\n",
        "Ο Gaussian Naive Bayes εμφανίζει επίσης βελτιωμένα αποτελέσματα συγκριτικά με τους dummy ταξινομητές, αλλά όχι καλύτερα από τον kNN ταξινομητή. Αυτό οφείλεται στις \"αφελείς\" παραδοχές του συγκεκριμένου ταξινομήτη, όπως την υπόθεση ότι τα features ακολουθούν κανονική κατανομή και είναι ανεξάρτητα μεταξύ τους.\n",
        "\n",
        "Τέλος, ο LR εμφανίζει τη καλύτερη επίδοση μεταξύ όλων των ταξινομητών."
      ],
      "metadata": {
        "id": "kEyPO9o-dc0B"
      }
    },
    {
      "cell_type": "markdown",
      "source": [
        "## Βελτιστοποίηση\n"
      ],
      "metadata": {
        "id": "fzAshGALiJAJ"
      }
    },
    {
      "cell_type": "markdown",
      "source": [
        "Τώρα θα τρέξουμε τους ταξινομητές μετά από βελτιστοποιήσεις που θα κάνουμε.\n",
        "Αρχικά τονίζουμε πως δεν έχει νόημα να κάνουμε βελτιστοποίηση στον Gaussian Naive Bayes και στους Dummy Classifiers, αφού δεν επηρεάζονται από το pre-processing που θα ακολουθήσουμε, γιατί δεν έχουν παραμέτρους για βελτιστοποίηση."
      ],
      "metadata": {
        "id": "nTZnopxW1Kfj"
      }
    },
    {
      "cell_type": "markdown",
      "source": [
        "### Pre-processing\n",
        "Αρχικοποιούμε τους εκτιμητές:"
      ],
      "metadata": {
        "id": "o8ogI1dqkrEJ"
      }
    },
    {
      "cell_type": "code",
      "source": [
        "selector = VarianceThreshold()\n",
        "minmax = MinMaxScaler()\n",
        "pca = PCA()"
      ],
      "metadata": {
        "id": "8KslceSNiLjx"
      },
      "execution_count": null,
      "outputs": []
    },
    {
      "cell_type": "markdown",
      "source": [
        "Η διαδικασία εύρεσης των βέλτιστων υπερπαραμέτρων είναι χρονοβόρα και επαναληπτική διαδικασία πειραματισμών. Γι'αυτό λόγω του μεγάλου μεγέθους του dataset, αρκεί να χρησιμοποιήσουμε μόνο ένα υποσύνολο των διαθέσιμων δειγμάτων αφού τα ανακατέψουμε:"
      ],
      "metadata": {
        "id": "OUPWzaBClDXS"
      }
    },
    {
      "cell_type": "code",
      "source": [
        "x_train_copy = x_train\n",
        "y_train_copy = y_train\n",
        "x_test_copy  = x_test\n",
        "y_test_copy  = y_test\n",
        "\n",
        "x_train_sample, y_train_sample = shuffle(x_train, y_train, random_state=3)\n",
        "x_train_sample = x_train_sample[0:2000,:]\n",
        "y_train_sample = y_train_sample[0:2000]"
      ],
      "metadata": {
        "id": "j0pwjbrwlC2G"
      },
      "execution_count": null,
      "outputs": []
    },
    {
      "cell_type": "markdown",
      "source": [
        "Μπορούμε τώρα να προχωρήσουμε στην εύρεση των βέλτιστων παραμέτρων των μοντέλων μας. Θα εξετάσουμε χωριστά τις παραμέτρους των ταξινομητών kΝΝ και Logistic Regression. Επίσης, επιλέγουμε να μην κάνουμε feature selection καθώς ο αριθμός των features είναι ήδη αρκετά μικρός σε σύγκριση με την ποσότητα των δεδομένων."
      ],
      "metadata": {
        "id": "G3snCtdllNPj"
      }
    },
    {
      "cell_type": "code",
      "source": [
        "fit_times, pred_times, new_predictions, new_accuracies = {}, {}, {}, {}\n",
        "\n",
        "for strategy in predictions:\n",
        "  new_predictions[strategy] = predictions[strategy]\n",
        "for strategy in accuracies:\n",
        "  new_accuracies[strategy] = accuracies[strategy]"
      ],
      "metadata": {
        "id": "HvHMNc6plRjH"
      },
      "execution_count": null,
      "outputs": []
    },
    {
      "cell_type": "markdown",
      "source": [
        "### kΝΝ\n"
      ],
      "metadata": {
        "id": "GgQhxyiVmEm4"
      }
    },
    {
      "cell_type": "code",
      "source": [
        "knn = KNeighborsClassifier(n_jobs=-1)\n",
        "\n",
        "n_components = np.arange(1,11)\n",
        "k = np.arange(1,50,5)\n",
        "knn_weights = ['uniform','distance']\n",
        "knn_metrics = ['euclidean','manhattan','chebyshev']"
      ],
      "metadata": {
        "id": "AXi-ggnemHd0"
      },
      "execution_count": null,
      "outputs": []
    },
    {
      "cell_type": "markdown",
      "source": [
        "*kNN pipelines*"
      ],
      "metadata": {
        "id": "EqKpWeTTmj_7"
      }
    },
    {
      "cell_type": "code",
      "source": [
        "pipe = Pipeline(steps=[('scaler', minmax),('selector', selector),('pca', pca),('kNN', knn)])\n",
        "knn_estimator = GridSearchCV(pipe, dict(pca__n_components = n_components,\n",
        "                                        kNN__n_neighbors = k,\n",
        "                                        kNN__weights = knn_weights,\n",
        "                                        kNN__metric = knn_metrics), cv=10, scoring='f1_macro', n_jobs=-1,verbose=1)\n",
        "\n",
        "start_time = time.time()\n",
        "knn_estimator.fit(x_train_sample, y_train_sample)\n",
        "knn_estimator.predict(x_test)\n",
        "print(\"Overall fit and predict time: %s seconds\" % (time.time()-start_time))\n",
        "print(\"Best parameters\",knn_estimator.best_params_)"
      ],
      "metadata": {
        "colab": {
          "base_uri": "https://localhost:8080/"
        },
        "id": "fpAsT7cymaLM",
        "outputId": "03c7c390-a6fc-4cda-c191-f72fde118243"
      },
      "execution_count": null,
      "outputs": [
        {
          "output_type": "stream",
          "name": "stdout",
          "text": [
            "Fitting 10 folds for each of 600 candidates, totalling 6000 fits\n",
            "Overall fit and predict time: 371.98040866851807 seconds\n",
            "Best parameters {'kNN__metric': 'manhattan', 'kNN__n_neighbors': 6, 'kNN__weights': 'distance', 'pca__n_components': 10}\n"
          ]
        }
      ]
    },
    {
      "cell_type": "markdown",
      "source": [
        "Έχοντας εξάγει παραμέτρους για ένα μικρό δείγμα του train set, επαναλαμβάνουμε την διαδικασία για όλο το dataset με πολύ μικρότερο εύρος παραμέτρων, για μεγάλη ακρίβεια."
      ],
      "metadata": {
        "id": "o4iQaSGpnXhx"
      }
    },
    {
      "cell_type": "code",
      "source": [
        "n_components = np.arange(9,11) # best pca_n parameter is 10 as shown above\n",
        "k = np.arange(3,9) #best k parameter is 6 as shown above\n",
        "knn_weights = ['distance']\n",
        "knn_metrics = ['manhattan']\n",
        "\n",
        "\n",
        "pipe = Pipeline(steps=[('scaler', minmax),('selector', selector),('pca', pca),('kNN', knn)])\n",
        "knn_estimator = GridSearchCV(pipe, dict(pca__n_components = n_components,\n",
        "                                        kNN__n_neighbors = k,\n",
        "                                        kNN__weights = knn_weights,\n",
        "                                        kNN__metric = knn_metrics), cv=10, scoring='f1_macro', n_jobs=-1,verbose=1)\n",
        "\n",
        "start_time = time.time()\n",
        "knn_estimator.fit(x_train, y_train)\n",
        "knn_estimator.predict(x_test)\n",
        "print(\"Overall fit and predict time: %s seconds\" % (time.time()-start_time))\n",
        "print(\"Best parameters\",knn_estimator.best_params_)"
      ],
      "metadata": {
        "colab": {
          "base_uri": "https://localhost:8080/"
        },
        "id": "rOXLAJfunhWe",
        "outputId": "cce86c06-c86b-4eea-e40d-fd8e92227e2f"
      },
      "execution_count": null,
      "outputs": [
        {
          "output_type": "stream",
          "name": "stdout",
          "text": [
            "Fitting 10 folds for each of 12 candidates, totalling 120 fits\n",
            "Overall fit and predict time: 24.6235613822937 seconds\n",
            "Best parameters {'kNN__metric': 'manhattan', 'kNN__n_neighbors': 8, 'kNN__weights': 'distance', 'pca__n_components': 10}\n"
          ]
        }
      ]
    },
    {
      "cell_type": "markdown",
      "source": [
        "Με τις βέλτιστες παραμέτρους, εκπαιδεύουμε το train set με kNN ταξινομητή."
      ],
      "metadata": {
        "id": "y2aTwp6DnpqA"
      }
    },
    {
      "cell_type": "code",
      "source": [
        "x_train_copy = minmax.fit_transform(x_train)\n",
        "x_test_copy = minmax.fit_transform(x_test)\n",
        "\n",
        "pca_complete = PCA(knn_estimator.best_params_['pca__n_components'])\n",
        "\n",
        "x_train_copy = pca_complete.fit_transform(x_train_copy)\n",
        "x_test_copy = pca_complete.fit_transform(x_test_copy)\n",
        "\n",
        "knn = KNeighborsClassifier(n_neighbors=knn_estimator.best_params_['kNN__n_neighbors'],\n",
        "                           weights=knn_estimator.best_params_['kNN__weights'],\n",
        "                           metric=knn_estimator.best_params_['kNN__metric'])\n",
        "\n",
        "start_time = time.time()\n",
        "knn.fit(x_train_copy,y_train_copy)\n",
        "fit_times['knn'] = time.time() - start_time\n",
        "\n",
        "start_time = time.time()\n",
        "new_predictions['knn'] = knn.predict(x_test_copy)\n",
        "pred_times['knn'] = time.time() - start_time\n",
        "\n",
        "new_accuracies['knn'] = knn.score(x_test_copy,y_test)\n",
        "\n",
        "\n",
        "print(f'Confusion Matrices of the kNN Classifier:\\n {confusion_matrix(y_test, new_predictions[\"knn\"])}')\n",
        "\n",
        "print(\"\\n\")\n",
        "print(\"Accuracy of the kNN Classifier:\")\n",
        "print(f'{new_accuracies[\"knn\"]}')\n",
        "\n",
        "print(\"\\n\")\n",
        "print(\"\\nClassification Report of k-NN:\\n\", classification_report(y_test,new_predictions['knn']))"
      ],
      "metadata": {
        "colab": {
          "base_uri": "https://localhost:8080/"
        },
        "id": "sAbMGEzInzQQ",
        "outputId": "bbb23ac3-2176-4aa8-aa95-49a2d67b42a7"
      },
      "execution_count": null,
      "outputs": [
        {
          "output_type": "stream",
          "name": "stdout",
          "text": [
            "Confusion Matrices of the kNN Classifier:\n",
            " [[3021  668]\n",
            " [ 484 1533]]\n",
            "\n",
            "\n",
            "Accuracy of the kNN Classifier:\n",
            "0.7981072555205048\n",
            "\n",
            "\n",
            "\n",
            "Classification Report of k-NN:\n",
            "               precision    recall  f1-score   support\n",
            "\n",
            "           g       0.86      0.82      0.84      3689\n",
            "           h       0.70      0.76      0.73      2017\n",
            "\n",
            "    accuracy                           0.80      5706\n",
            "   macro avg       0.78      0.79      0.78      5706\n",
            "weighted avg       0.80      0.80      0.80      5706\n",
            "\n"
          ]
        }
      ]
    },
    {
      "cell_type": "markdown",
      "source": [
        "### Logistic Regression"
      ],
      "metadata": {
        "id": "-g9bE7BrnuRB"
      }
    },
    {
      "cell_type": "code",
      "source": [
        "lr = LogisticRegression()\n",
        "\n",
        "params = [{'lr__penalty': ['l1'], 'lr__C': [0.01, 0.1, 1, 10, 100], 'lr__solver': ['liblinear', 'saga'], 'pca__n_components' : np.arange(1,11)},\n",
        "          {'lr__penalty': ['l2'], 'lr__C': [0.01, 0.1, 1, 10, 100], 'lr__solver': ['sag', 'liblinear', 'newton-cg', 'lbfgs', 'saga'], 'pca__n_components' : np.arange(1,11)}, \n",
        "          {'lr__penalty': ['l1', 'l2'], 'lr__C': [0.01, 0.1, 1, 10, 100], 'lr__solver': ['liblinear', 'saga'], 'pca__n_components' : np.arange(1,11)},\n",
        "          {'lr__penalty': ['l1','l2', 'elasticnet', 'none'], 'lr__C': [0.01, 0.1, 1, 10, 100], 'lr__l1_ratio': [0, 0.5, 1], 'lr__solver': ['saga'], 'pca__n_components' : np.arange(1,11)},\n",
        "          {'lr__penalty': ['l2', 'none'], 'lr__C': [0.01, 0.1, 1, 10, 100], 'lr__solver': ['sag', 'newton-cg', 'lbfgs', 'saga'], 'pca__n_components' : np.arange(1,11)},\n",
        "          {'lr__penalty': ['l1', 'none'], 'lr__C': [0.01, 0.1, 1, 10, 100], 'lr__solver': ['saga'], 'pca__n_components' : np.arange(1,11)},\n",
        "          {'lr__penalty': ['none'], 'lr__C': [0.01, 0.1, 1, 10, 100], 'lr__solver': ['sag', 'newton-cg', 'lbfgs', 'saga'], 'pca__n_components' : np.arange(1,11)}]\n"
      ],
      "metadata": {
        "id": "MgSciN0foaFA"
      },
      "execution_count": null,
      "outputs": []
    },
    {
      "cell_type": "markdown",
      "source": [
        "*LR Pipelines*"
      ],
      "metadata": {
        "id": "__FImMmEo4xi"
      }
    },
    {
      "cell_type": "code",
      "source": [
        "pipe = Pipeline(steps=[('scaler', minmax),('selector', selector),('pca', pca),('lr', lr)])\n",
        "lr_estimator = GridSearchCV(pipe, params, cv=10, scoring='f1_macro', n_jobs=-1,verbose=1)\n",
        "\n",
        "start_time = time.time()\n",
        "lr_estimator.fit(x_train_sample, y_train_sample)\n",
        "lr_estimator.predict(x_test)\n",
        "print(\"Overall fit and predict time: %s seconds\" % (time.time()-start_time))\n",
        "print(\"Best parameters\",lr_estimator.best_params_)"
      ],
      "metadata": {
        "colab": {
          "base_uri": "https://localhost:8080/"
        },
        "id": "AAdbarOxoytJ",
        "outputId": "cd26daec-63a1-4209-ec27-8443515fe8f4"
      },
      "execution_count": null,
      "outputs": [
        {
          "output_type": "stream",
          "name": "stdout",
          "text": [
            "Fitting 10 folds for each of 1850 candidates, totalling 18500 fits\n",
            "Overall fit and predict time: 300.6483087539673 seconds\n",
            "Best parameters {'lr__C': 1, 'lr__penalty': 'l1', 'lr__solver': 'saga', 'pca__n_components': 10}\n"
          ]
        }
      ]
    },
    {
      "cell_type": "markdown",
      "source": [
        "Επαναλαμβάνουμε την διαδικασία για όλο το dataset:"
      ],
      "metadata": {
        "id": "gl8pF4h8pA1Y"
      }
    },
    {
      "cell_type": "code",
      "source": [
        "params = [{'lr__penalty': ['l1'], 'lr__C': [0.1, 1, 10], 'lr__solver': ['saga'], 'pca__n_components' : np.arange(8,11)}] #we choose the best parameters\n",
        "\n",
        "pipe = Pipeline(steps=[('scaler', minmax),('selector', selector),('pca', pca),('lr', lr)])\n",
        "lr_estimator = GridSearchCV(pipe, params, cv=10, scoring='f1_macro', n_jobs=-1,verbose=1)\n",
        "\n",
        "start_time = time.time()\n",
        "lr_estimator.fit(x_train, y_train)\n",
        "lr_estimator.predict(x_test)\n",
        "print(\"Overall fit and predict time: %s seconds\" % (time.time()-start_time))\n",
        "print(\"Best parameters\",lr_estimator.best_params_)"
      ],
      "metadata": {
        "colab": {
          "base_uri": "https://localhost:8080/"
        },
        "id": "2XmAYLQLpIQO",
        "outputId": "76912db5-b54d-4f4d-e816-152c731efacd"
      },
      "execution_count": null,
      "outputs": [
        {
          "output_type": "stream",
          "name": "stdout",
          "text": [
            "Fitting 10 folds for each of 9 candidates, totalling 90 fits\n",
            "Overall fit and predict time: 15.058523416519165 seconds\n",
            "Best parameters {'lr__C': 10, 'lr__penalty': 'l1', 'lr__solver': 'saga', 'pca__n_components': 10}\n"
          ]
        }
      ]
    },
    {
      "cell_type": "markdown",
      "source": [
        "Εκπαιδεύομε το train set με τον LR ταξινομητή"
      ],
      "metadata": {
        "id": "MxpPy8uEpR67"
      }
    },
    {
      "cell_type": "code",
      "source": [
        "x_train_copy = minmax.fit_transform(x_train)\n",
        "x_test_copy = minmax.fit_transform(x_test)\n",
        "\n",
        "pca_complete = PCA(lr_estimator.best_params_['pca__n_components'])\n",
        "\n",
        "x_train_copy = pca_complete.fit_transform(x_train_copy)\n",
        "x_test_copy = pca_complete.fit_transform(x_test_copy)\n",
        "\n",
        "logreg = LogisticRegression(C=lr_estimator.best_params_['lr__C'],\n",
        "                        penalty=lr_estimator.best_params_['lr__penalty'],\n",
        "                        solver=lr_estimator.best_params_['lr__solver'],\n",
        "                        max_iter=500, tol=1e5)\n",
        "\n",
        "start_time = time.time()\n",
        "logreg.fit(x_train_copy,y_train_copy)\n",
        "fit_times['lr'] = time.time() - start_time\n",
        "\n",
        "start_time = time.time()\n",
        "new_predictions['lr'] = logreg.predict(x_test_copy)\n",
        "pred_times['lr'] = time.time() - start_time\n",
        "\n",
        "new_accuracies['lr'] = logreg.score(x_test_copy,y_test)\n",
        "\n",
        "\n",
        "print(f'Confusion Matrices of the lr Classifier:\\n {confusion_matrix(y_test, new_predictions[\"lr\"])}')\n",
        "\n",
        "print(\"\\n\")\n",
        "print(\"Accuracy of the lr Classifier:\")\n",
        "print(f'{new_accuracies[\"lr\"]}')\n",
        "\n",
        "print(\"\\n\")\n",
        "print(\"Classification Report of lr:\\n\", classification_report(y_test,new_predictions['lr']))"
      ],
      "metadata": {
        "colab": {
          "base_uri": "https://localhost:8080/"
        },
        "id": "MtU81ocppdpg",
        "outputId": "e2aa7166-bbfc-42ec-9ada-d9b545b70f51"
      },
      "execution_count": null,
      "outputs": [
        {
          "output_type": "stream",
          "name": "stdout",
          "text": [
            "Confusion Matrices of the lr Classifier:\n",
            " [[2971  718]\n",
            " [ 521 1496]]\n",
            "\n",
            "\n",
            "Accuracy of the lr Classifier:\n",
            "0.7828601472134595\n",
            "\n",
            "\n",
            "Classification Report of lr:\n",
            "               precision    recall  f1-score   support\n",
            "\n",
            "           g       0.85      0.81      0.83      3689\n",
            "           h       0.68      0.74      0.71      2017\n",
            "\n",
            "    accuracy                           0.78      5706\n",
            "   macro avg       0.76      0.77      0.77      5706\n",
            "weighted avg       0.79      0.78      0.78      5706\n",
            "\n"
          ]
        }
      ]
    },
    {
      "cell_type": "markdown",
      "source": [
        "## Αποτελέσματα και συμπεράσματα"
      ],
      "metadata": {
        "id": "OUKAnheDrcOq"
      }
    },
    {
      "cell_type": "markdown",
      "source": [
        "### Markdown πίνακας"
      ],
      "metadata": {
        "id": "AqPSCo3AtDBg"
      }
    },
    {
      "cell_type": "markdown",
      "source": [
        "Παρουσιάζονται οι out-of-the-box τιμές και η διαφορά με τις νέες (μόνο για τον kNN ταξινομητή και τον LR ταξινομητή) στη στήλη delta."
      ],
      "metadata": {
        "id": "3hya040vvjnf"
      }
    },
    {
      "cell_type": "markdown",
      "source": [
        "| Classifier | F1 Score (Micro) | F1 Score (Macro) | Accuracy | Delta_F1 Score (Macro) | Delta_Accuracy |\n",
        "|:----:|:------:|:-------:|:--------:|:--------:|:--------:|\n",
        "| **dc_uniform** |0.4924 |0.4797|0.4978|0.0|0.0|\n",
        "| **dc_const_gamma**|0.6465|0.3926|0.6465|0.0|0.0|\n",
        "| **dc_const_hadron**|0.3534|0.2611|0.3534|0.0|0.0|\n",
        "| **dc_stratified**|0.5021|0.4890|0.5108|0.0|0.0|\n",
        "| **dc_frequent**|0.6465 |0.3926|0.6465|0.0|0.0|\n",
        "| **gnb**|0.7220|0.6550|0.7220|0.0|0.0|\n",
        "| **knn**|0.7783|0.7494|0.7783|0.78 - 0.7494 = **0.0306**|0.7981 - 0.7783 = **0.0198**|\n",
        "| **lr**|0.7895|0.7721|0.7895|0.77 - 0.7721 = **-0.0021**|0.7828 - 0.7895 = **-0.0067**|"
      ],
      "metadata": {
        "id": "mO2RYGYDtEja"
      }
    },
    {
      "cell_type": "markdown",
      "source": [
        "### Bar plot για τα F1 scores"
      ],
      "metadata": {
        "id": "LwGM0MalQ4bx"
      }
    },
    {
      "cell_type": "code",
      "source": [
        "new_f1_macros, new_f1_micros, new_labels = [],[],[]\n",
        "for clf in new_predictions:  \n",
        "    new_f1_micros.append(f1_score(y_test,new_predictions[clf],average='micro'))\n",
        "    new_f1_macros.append(f1_score(y_test,new_predictions[clf],average='macro'))\n",
        "    new_labels.append(clf)\n",
        "\n",
        "x = np.arange(len(new_labels))\n",
        "width = 0.25\n",
        "\n",
        "diffs_macros, diffs_micros = [], []\n",
        "for i in range(len(new_f1_micros)):\n",
        "  diffs_micros.append(new_f1_micros[i] - f1_micros[i])\n",
        "  diffs_macros.append(new_f1_macros[i] - f1_macros[i])\n",
        "\n",
        "fig, ax = plt.subplots()\n",
        "rects1 = ax.bar(x - width/4, new_f1_micros, width, label='f1_micros', color = \"blue\")\n",
        "rects2 = ax.bar(x + width/4, new_f1_macros, width, label='f1_macros', color = \"red\")\n",
        "rects3 = ax.bar(x - width/2, diffs_micros, width, label='diffs_f1_micros', color = \"green\")\n",
        "rects4 = ax.bar(x + width/2, diffs_macros, width, label='diffs_f1_macros', color = \"yellow\")\n",
        "\n",
        "fig.set_size_inches(18.5, 10.5)\n",
        "ax.set_ylabel('Scores')\n",
        "ax.set_title('Performance Comparison on F1-Score')\n",
        "ax.set_xticks(x)\n",
        "ax.set_xticklabels(new_labels)\n",
        "ax.legend()\n",
        "\n",
        "plt.show()"
      ],
      "metadata": {
        "colab": {
          "base_uri": "https://localhost:8080/",
          "height": 636
        },
        "id": "9Q9g7XEYratB",
        "outputId": "8d52e10d-6f8a-410e-8410-2ee2060243a0"
      },
      "execution_count": null,
      "outputs": [
        {
          "output_type": "display_data",
          "data": {
            "text/plain": [
              "<Figure size 1332x756 with 1 Axes>"
            ],
            "image/png": "[encoded data removed]"
          },
          "metadata": {
            "needs_background": "light"
          }
        }
      ]
    },
    {
      "cell_type": "markdown",
      "source": [
        "### Bar plot για τα accuracies"
      ],
      "metadata": {
        "id": "vLOWGC59R3aU"
      }
    },
    {
      "cell_type": "code",
      "source": [
        "new_scores, new_acc_labels = [],[]\n",
        "for clf in accuracies:  \n",
        "    new_scores.append(new_accuracies[clf])\n",
        "    new_acc_labels.append(clf)\n",
        "\n",
        "x = np.arange(len(new_acc_labels))\n",
        "width = 0.25\n",
        "\n",
        "diffs_accuracies = []\n",
        "for i in range(len(new_scores)):\n",
        "  diffs_accuracies.append(new_scores[i] - scores[i])\n",
        "\n",
        "fig, ax = plt.subplots()\n",
        "rects1 = ax.bar(x - width/2, new_scores, width, label='accuracy', color = \"blue\")\n",
        "rects2 = ax.bar(x + width/2, diffs_accuracies, width, label='diffs_accuracy', color = \"red\")\n",
        "\n",
        "fig.set_size_inches(18.5, 10.5)\n",
        "ax.set_ylabel('Scores')\n",
        "ax.set_title('Performance Comparison on Accuracy')\n",
        "ax.set_xticks(x)\n",
        "ax.set_xticklabels(new_acc_labels)\n",
        "ax.legend()\n",
        "\n",
        "plt.show()"
      ],
      "metadata": {
        "colab": {
          "base_uri": "https://localhost:8080/",
          "height": 636
        },
        "id": "WE-D9xFFr-66",
        "outputId": "1d6c5630-543f-4e56-d0ab-74d63135c409"
      },
      "execution_count": null,
      "outputs": [
        {
          "output_type": "display_data",
          "data": {
            "text/plain": [
              "<Figure size 1332x756 with 1 Axes>"
            ],
            "image/png": "[encoded data removed]"
          },
          "metadata": {
            "needs_background": "light"
          }
        }
      ]
    },
    {
      "cell_type": "markdown",
      "source": [
        "### Σχολιασμός\n"
      ],
      "metadata": {
        "id": "v2hPFukGyuZp"
      }
    },
    {
      "cell_type": "markdown",
      "source": [
        "Ο καλύτερος ταξινομητής είναι αναμφίβολα ο kNN και ο χειρότερος ο Naive Bayes. Προφανώς αυτό ήταν αναμενόμενο. Η αφελής τακτική του Bayes τον καθιστά ανίκανο να επιλύσει αποδοτικά τα περισσότερα προβλήματα, ενώ ο kNN, είναι ιδανικός για το πρόβλημα αυτό αφού παρουσιάζει πολύ καλή επίδοση.\n",
        "Τα δεδομένα μας είναι δυαδικά (δυαδικές τιμές για τα labels), ο kNN θα λειτουργήσει σαν μια ευθεία που θα τα διαχωρίσει και με αρκετούς γείτονες k, θα βελτιστοποιηθεί η λύση του προβλήματος.\n",
        "\n",
        "Ο Linear Regression παρατηρούμε ότι μείωσε ελάχιστα την επίδοσή του παρά τις όλες βελτιστοποιήσεις μας. Αυτό συμβαίνει καθώς η φύση του ταξινομητή είναι ιδιαίτερα ασταθής και δουλεύει ήδη πολύ καλά για το συγκεκριμένο dataset από την out-of-the-box τακτική και οι by default παράμετροι του Linear Regression είναι οριακά ιδανικοί.\n",
        "\n",
        "Έπειτα για τους πίνακες σύγχυσης:"
      ],
      "metadata": {
        "id": "UZi6S6Yn0hDu"
      }
    },
    {
      "cell_type": "code",
      "source": [
        "print(sns.heatmap(confusion_matrix(y_test, new_predictions[\"bayes\"]), annot=True)) #for kNN"
      ],
      "metadata": {
        "colab": {
          "base_uri": "https://localhost:8080/",
          "height": 282
        },
        "id": "vmIi3sjNsR0E",
        "outputId": "d9fa26e6-4ac9-4f22-80e6-ac4cf6400295"
      },
      "execution_count": null,
      "outputs": [
        {
          "output_type": "stream",
          "name": "stdout",
          "text": [
            "AxesSubplot(0.125,0.125;0.62x0.755)\n"
          ]
        },
        {
          "output_type": "display_data",
          "data": {
            "text/plain": [
              "<Figure size 432x288 with 2 Axes>"
            ],
            "image/png": "[encoded data removed]"
          },
          "metadata": {
            "needs_background": "light"
          }
        }
      ]
    },
    {
      "cell_type": "code",
      "source": [
        "print(sns.heatmap(confusion_matrix(y_test, new_predictions[\"knn\"]), annot=True)) #for Bayes"
      ],
      "metadata": {
        "colab": {
          "base_uri": "https://localhost:8080/",
          "height": 285
        },
        "id": "AuaDdUMMsWTk",
        "outputId": "973c77fc-ffd1-48df-ae96-b780dd5c081a"
      },
      "execution_count": null,
      "outputs": [
        {
          "output_type": "stream",
          "name": "stdout",
          "text": [
            "AxesSubplot(0.125,0.125;0.62x0.755)\n"
          ]
        },
        {
          "output_type": "display_data",
          "data": {
            "text/plain": [
              "<Figure size 432x288 with 2 Axes>"
            ],
            "image/png": "[encoded data removed]"
          },
          "metadata": {
            "needs_background": "light"
          }
        }
      ]
    },
    {
      "cell_type": "code",
      "source": [
        "print(sns.heatmap(confusion_matrix(y_test, new_predictions[\"lr\"]), annot=True)) #for lr"
      ],
      "metadata": {
        "colab": {
          "base_uri": "https://localhost:8080/",
          "height": 282
        },
        "id": "SqjT-KtkLTdU",
        "outputId": "e9ae7197-688d-458f-e01a-e5d522087ac0"
      },
      "execution_count": null,
      "outputs": [
        {
          "output_type": "stream",
          "name": "stdout",
          "text": [
            "AxesSubplot(0.125,0.125;0.62x0.755)\n"
          ]
        },
        {
          "output_type": "display_data",
          "data": {
            "text/plain": [
              "<Figure size 432x288 with 2 Axes>"
            ],
            "image/png": "[encoded data removed]"
          },
          "metadata": {
            "needs_background": "light"
          }
        }
      ]
    },
    {
      "cell_type": "markdown",
      "source": [
        "Συμπερασματικά, ο kNN ταξινομητής έχει το υψηλότερο accuracy και f1 score. Ωστόσο, ίσως ο LR θα μπορούσε να αποτελέσει πολύ καλή επιλογή, μιας και έχει υψηλές μετρικές και χωρίς τις βελτιστοποιήσεις και αφού ο kNN έχει μεγάλη πολυπλοκότητα και στην πράξη ίσως να μην είναι ο πιο εύχρηστος."
      ],
      "metadata": {
        "id": "c_Dqd-fXzs-S"
      }
    }
  ],
  "metadata": {
    "colab": {
      "provenance": []
    },
    "kernelspec": {
      "display_name": "Python 3",
      "name": "python3"
    },
    "language_info": {
      "name": "python"
    }
  },
  "nbformat": 4,
  "nbformat_minor": 0
}