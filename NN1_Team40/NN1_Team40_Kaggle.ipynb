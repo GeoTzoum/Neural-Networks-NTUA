{
  "nbformat": 4,
  "nbformat_minor": 0,
  "metadata": {
    "colab": {
      "provenance": [],
      "collapsed_sections": [
        "fsGdzu2puK0v",
        "WoBlPFNk4uEM",
        "2zj92LwxBX1S",
        "aMlnVEfs411c",
        "xKHzSTbTFqdu",
        "FF7YsUgA5AdY",
        "ZMPNsc7GKEEA",
        "2Bmu_gFJPUqd"
      ]
    },
    "kernelspec": {
      "name": "python3",
      "display_name": "Python 3"
    },
    "language_info": {
      "name": "python"
    }
  },
  "cells": [
    {
      "cell_type": "markdown",
      "source": [
        "# Νευρωνικά Δίκτυα\n",
        "# Εργαστηριακή Άσκηση 1: ΜΕΡΟΣ 2 - Kaggle Dataset\n",
        "\n",
        "### **ΟΜΑΔΑ 40**\n",
        "*   Μαριαλένα Βαγγελάτου (03118141)\n",
        "*   Νικόλαος Μπλέτσας (03118899)\n",
        "*   Γεώργιος Τζουμανέκας (03118095)\n"
      ],
      "metadata": {
        "id": "U4qE6uDyRHlw"
      }
    },
    {
      "cell_type": "markdown",
      "source": [
        "## Εισαγωγή του dataset"
      ],
      "metadata": {
        "id": "_wcBCh3KWIB7"
      }
    },
    {
      "cell_type": "markdown",
      "source": [
        "Φορτώνουμε αρχικά τα δεδομένα από το csv αρχείο. "
      ],
      "metadata": {
        "id": "qIKzvQBgTNqt"
      }
    },
    {
      "cell_type": "code",
      "execution_count": null,
      "metadata": {
        "id": "MaWzuZiRKJG5"
      },
      "outputs": [],
      "source": [
        "import pandas as pd\n",
        "import numpy as np\n",
        "from sklearn.model_selection import train_test_split\n",
        "from sklearn.dummy import DummyClassifier\n",
        "import time\n",
        "import matplotlib.pyplot as plt\n",
        "from sklearn.metrics import precision_score, recall_score , f1_score , confusion_matrix , ConfusionMatrixDisplay\n",
        "from sklearn.neural_network import MLPClassifier\n",
        "from sklearn.svm import SVC \n",
        "from sklearn.svm import LinearSVC\n",
        "import seaborn as sns"
      ]
    },
    {
      "cell_type": "code",
      "source": [
        "import warnings\n",
        "warnings.filterwarnings(\"ignore\", category=Warning)"
      ],
      "metadata": {
        "id": "W_tLatrlVWnq"
      },
      "execution_count": null,
      "outputs": []
    },
    {
      "cell_type": "code",
      "source": [
        "from google.colab import drive\n",
        "drive.mount('/content/drive')"
      ],
      "metadata": {
        "colab": {
          "base_uri": "https://localhost:8080/"
        },
        "id": "4YyaeBA7QeSM",
        "outputId": "9f33326f-1942-43aa-8ab5-845a874f8467"
      },
      "execution_count": null,
      "outputs": [
        {
          "output_type": "stream",
          "name": "stdout",
          "text": [
            "Mounted at /content/drive\n"
          ]
        }
      ]
    },
    {
      "cell_type": "code",
      "source": [
        "df = pd.read_csv('/content/drive/MyDrive/data.csv')\n",
        "df"
      ],
      "metadata": {
        "id": "C-NUYD1ORPWr",
        "colab": {
          "base_uri": "https://localhost:8080/",
          "height": 574
        },
        "outputId": "74de4ed7-f111-4585-90e2-6676599d9fa1"
      },
      "execution_count": null,
      "outputs": [
        {
          "output_type": "execute_result",
          "data": {
            "text/plain": [
              "      Bankrupt?   ROA(C) before interest and depreciation before interest  \\\n",
              "0             1                                           0.370594          \n",
              "1             1                                           0.464291          \n",
              "2             1                                           0.426071          \n",
              "3             1                                           0.399844          \n",
              "4             1                                           0.465022          \n",
              "...         ...                                                ...          \n",
              "6814          0                                           0.493687          \n",
              "6815          0                                           0.475162          \n",
              "6816          0                                           0.472725          \n",
              "6817          0                                           0.506264          \n",
              "6818          0                                           0.493053          \n",
              "\n",
              "       ROA(A) before interest and % after tax  \\\n",
              "0                                    0.424389   \n",
              "1                                    0.538214   \n",
              "2                                    0.499019   \n",
              "3                                    0.451265   \n",
              "4                                    0.538432   \n",
              "...                                       ...   \n",
              "6814                                 0.539468   \n",
              "6815                                 0.538269   \n",
              "6816                                 0.533744   \n",
              "6817                                 0.559911   \n",
              "6818                                 0.570105   \n",
              "\n",
              "       ROA(B) before interest and depreciation after tax  \\\n",
              "0                                              0.405750    \n",
              "1                                              0.516730    \n",
              "2                                              0.472295    \n",
              "3                                              0.457733    \n",
              "4                                              0.522298    \n",
              "...                                                 ...    \n",
              "6814                                           0.543230    \n",
              "6815                                           0.524172    \n",
              "6816                                           0.520638    \n",
              "6817                                           0.554045    \n",
              "6818                                           0.549548    \n",
              "\n",
              "       Operating Gross Margin   Realized Sales Gross Margin  \\\n",
              "0                    0.601457                      0.601457   \n",
              "1                    0.610235                      0.610235   \n",
              "2                    0.601450                      0.601364   \n",
              "3                    0.583541                      0.583541   \n",
              "4                    0.598783                      0.598783   \n",
              "...                       ...                           ...   \n",
              "6814                 0.604455                      0.604462   \n",
              "6815                 0.598308                      0.598308   \n",
              "6816                 0.610444                      0.610213   \n",
              "6817                 0.607850                      0.607850   \n",
              "6818                 0.627409                      0.627409   \n",
              "\n",
              "       Operating Profit Rate   Pre-tax net Interest Rate  \\\n",
              "0                   0.998969                    0.796887   \n",
              "1                   0.998946                    0.797380   \n",
              "2                   0.998857                    0.796403   \n",
              "3                   0.998700                    0.796967   \n",
              "4                   0.998973                    0.797366   \n",
              "...                      ...                         ...   \n",
              "6814                0.998992                    0.797409   \n",
              "6815                0.998992                    0.797414   \n",
              "6816                0.998984                    0.797401   \n",
              "6817                0.999074                    0.797500   \n",
              "6818                0.998080                    0.801987   \n",
              "\n",
              "       After-tax net Interest Rate  \\\n",
              "0                         0.808809   \n",
              "1                         0.809301   \n",
              "2                         0.808388   \n",
              "3                         0.808966   \n",
              "4                         0.809304   \n",
              "...                            ...   \n",
              "6814                      0.809331   \n",
              "6815                      0.809327   \n",
              "6816                      0.809317   \n",
              "6817                      0.809399   \n",
              "6818                      0.813800   \n",
              "\n",
              "       Non-industry income and expenditure/revenue  ...  \\\n",
              "0                                         0.302646  ...   \n",
              "1                                         0.303556  ...   \n",
              "2                                         0.302035  ...   \n",
              "3                                         0.303350  ...   \n",
              "4                                         0.303475  ...   \n",
              "...                                            ...  ...   \n",
              "6814                                      0.303510  ...   \n",
              "6815                                      0.303520  ...   \n",
              "6816                                      0.303512  ...   \n",
              "6817                                      0.303498  ...   \n",
              "6818                                      0.313415  ...   \n",
              "\n",
              "       Net Income to Total Assets   Total assets to GNP price  \\\n",
              "0                        0.716845                    0.009219   \n",
              "1                        0.795297                    0.008323   \n",
              "2                        0.774670                    0.040003   \n",
              "3                        0.739555                    0.003252   \n",
              "4                        0.795016                    0.003878   \n",
              "...                           ...                         ...   \n",
              "6814                     0.799927                    0.000466   \n",
              "6815                     0.799748                    0.001959   \n",
              "6816                     0.797778                    0.002840   \n",
              "6817                     0.811808                    0.002837   \n",
              "6818                     0.815956                    0.000707   \n",
              "\n",
              "       No-credit Interval   Gross Profit to Sales  \\\n",
              "0                0.622879                0.601453   \n",
              "1                0.623652                0.610237   \n",
              "2                0.623841                0.601449   \n",
              "3                0.622929                0.583538   \n",
              "4                0.623521                0.598782   \n",
              "...                   ...                     ...   \n",
              "6814             0.623620                0.604455   \n",
              "6815             0.623931                0.598306   \n",
              "6816             0.624156                0.610441   \n",
              "6817             0.623957                0.607846   \n",
              "6818             0.626680                0.627408   \n",
              "\n",
              "       Net Income to Stockholder's Equity   Liability to Equity  \\\n",
              "0                                0.827890              0.290202   \n",
              "1                                0.839969              0.283846   \n",
              "2                                0.836774              0.290189   \n",
              "3                                0.834697              0.281721   \n",
              "4                                0.839973              0.278514   \n",
              "...                                   ...                   ...   \n",
              "6814                             0.840359              0.279606   \n",
              "6815                             0.840306              0.278132   \n",
              "6816                             0.840138              0.275789   \n",
              "6817                             0.841084              0.277547   \n",
              "6818                             0.841019              0.275114   \n",
              "\n",
              "       Degree of Financial Leverage (DFL)  \\\n",
              "0                                0.026601   \n",
              "1                                0.264577   \n",
              "2                                0.026555   \n",
              "3                                0.026697   \n",
              "4                                0.024752   \n",
              "...                                   ...   \n",
              "6814                             0.027064   \n",
              "6815                             0.027009   \n",
              "6816                             0.026791   \n",
              "6817                             0.026822   \n",
              "6818                             0.026793   \n",
              "\n",
              "       Interest Coverage Ratio (Interest expense to EBIT)   Net Income Flag  \\\n",
              "0                                              0.564050                   1   \n",
              "1                                              0.570175                   1   \n",
              "2                                              0.563706                   1   \n",
              "3                                              0.564663                   1   \n",
              "4                                              0.575617                   1   \n",
              "...                                                 ...                 ...   \n",
              "6814                                           0.566193                   1   \n",
              "6815                                           0.566018                   1   \n",
              "6816                                           0.565158                   1   \n",
              "6817                                           0.565302                   1   \n",
              "6818                                           0.565167                   1   \n",
              "\n",
              "       Equity to Liability  \n",
              "0                 0.016469  \n",
              "1                 0.020794  \n",
              "2                 0.016474  \n",
              "3                 0.023982  \n",
              "4                 0.035490  \n",
              "...                    ...  \n",
              "6814              0.029890  \n",
              "6815              0.038284  \n",
              "6816              0.097649  \n",
              "6817              0.044009  \n",
              "6818              0.233902  \n",
              "\n",
              "[6819 rows x 96 columns]"
            ],
            "text/html": [
              "\n",
              "  <div id=\"df-763befaf-fda4-422d-afd2-ce7145141214\">\n",
              "    <div class=\"colab-df-container\">\n",
              "      <div>\n",
              "<style scoped>\n",
              "    .dataframe tbody tr th:only-of-type {\n",
              "        vertical-align: middle;\n",
              "    }\n",
              "\n",
              "    .dataframe tbody tr th {\n",
              "        vertical-align: top;\n",
              "    }\n",
              "\n",
              "    .dataframe thead th {\n",
              "        text-align: right;\n",
              "    }\n",
              "</style>\n",
              "<table border=\"1\" class=\"dataframe\">\n",
              "  <thead>\n",
              "    <tr style=\"text-align: right;\">\n",
              "      <th></th>\n",
              "      <th>Bankrupt?</th>\n",
              "      <th>ROA(C) before interest and depreciation before interest</th>\n",
              "      <th>ROA(A) before interest and % after tax</th>\n",
              "      <th>ROA(B) before interest and depreciation after tax</th>\n",
              "      <th>Operating Gross Margin</th>\n",
              "      <th>Realized Sales Gross Margin</th>\n",
              "      <th>Operating Profit Rate</th>\n",
              "      <th>Pre-tax net Interest Rate</th>\n",
              "      <th>After-tax net Interest Rate</th>\n",
              "      <th>Non-industry income and expenditure/revenue</th>\n",
              "      <th>...</th>\n",
              "      <th>Net Income to Total Assets</th>\n",
              "      <th>Total assets to GNP price</th>\n",
              "      <th>No-credit Interval</th>\n",
              "      <th>Gross Profit to Sales</th>\n",
              "      <th>Net Income to Stockholder's Equity</th>\n",
              "      <th>Liability to Equity</th>\n",
              "      <th>Degree of Financial Leverage (DFL)</th>\n",
              "      <th>Interest Coverage Ratio (Interest expense to EBIT)</th>\n",
              "      <th>Net Income Flag</th>\n",
              "      <th>Equity to Liability</th>\n",
              "    </tr>\n",
              "  </thead>\n",
              "  <tbody>\n",
              "    <tr>\n",
              "      <th>0</th>\n",
              "      <td>1</td>\n",
              "      <td>0.370594</td>\n",
              "      <td>0.424389</td>\n",
              "      <td>0.405750</td>\n",
              "      <td>0.601457</td>\n",
              "      <td>0.601457</td>\n",
              "      <td>0.998969</td>\n",
              "      <td>0.796887</td>\n",
              "      <td>0.808809</td>\n",
              "      <td>0.302646</td>\n",
              "      <td>...</td>\n",
              "      <td>0.716845</td>\n",
              "      <td>0.009219</td>\n",
              "      <td>0.622879</td>\n",
              "      <td>0.601453</td>\n",
              "      <td>0.827890</td>\n",
              "      <td>0.290202</td>\n",
              "      <td>0.026601</td>\n",
              "      <td>0.564050</td>\n",
              "      <td>1</td>\n",
              "      <td>0.016469</td>\n",
              "    </tr>\n",
              "    <tr>\n",
              "      <th>1</th>\n",
              "      <td>1</td>\n",
              "      <td>0.464291</td>\n",
              "      <td>0.538214</td>\n",
              "      <td>0.516730</td>\n",
              "      <td>0.610235</td>\n",
              "      <td>0.610235</td>\n",
              "      <td>0.998946</td>\n",
              "      <td>0.797380</td>\n",
              "      <td>0.809301</td>\n",
              "      <td>0.303556</td>\n",
              "      <td>...</td>\n",
              "      <td>0.795297</td>\n",
              "      <td>0.008323</td>\n",
              "      <td>0.623652</td>\n",
              "      <td>0.610237</td>\n",
              "      <td>0.839969</td>\n",
              "      <td>0.283846</td>\n",
              "      <td>0.264577</td>\n",
              "      <td>0.570175</td>\n",
              "      <td>1</td>\n",
              "      <td>0.020794</td>\n",
              "    </tr>\n",
              "    <tr>\n",
              "      <th>2</th>\n",
              "      <td>1</td>\n",
              "      <td>0.426071</td>\n",
              "      <td>0.499019</td>\n",
              "      <td>0.472295</td>\n",
              "      <td>0.601450</td>\n",
              "      <td>0.601364</td>\n",
              "      <td>0.998857</td>\n",
              "      <td>0.796403</td>\n",
              "      <td>0.808388</td>\n",
              "      <td>0.302035</td>\n",
              "      <td>...</td>\n",
              "      <td>0.774670</td>\n",
              "      <td>0.040003</td>\n",
              "      <td>0.623841</td>\n",
              "      <td>0.601449</td>\n",
              "      <td>0.836774</td>\n",
              "      <td>0.290189</td>\n",
              "      <td>0.026555</td>\n",
              "      <td>0.563706</td>\n",
              "      <td>1</td>\n",
              "      <td>0.016474</td>\n",
              "    </tr>\n",
              "    <tr>\n",
              "      <th>3</th>\n",
              "      <td>1</td>\n",
              "      <td>0.399844</td>\n",
              "      <td>0.451265</td>\n",
              "      <td>0.457733</td>\n",
              "      <td>0.583541</td>\n",
              "      <td>0.583541</td>\n",
              "      <td>0.998700</td>\n",
              "      <td>0.796967</td>\n",
              "      <td>0.808966</td>\n",
              "      <td>0.303350</td>\n",
              "      <td>...</td>\n",
              "      <td>0.739555</td>\n",
              "      <td>0.003252</td>\n",
              "      <td>0.622929</td>\n",
              "      <td>0.583538</td>\n",
              "      <td>0.834697</td>\n",
              "      <td>0.281721</td>\n",
              "      <td>0.026697</td>\n",
              "      <td>0.564663</td>\n",
              "      <td>1</td>\n",
              "      <td>0.023982</td>\n",
              "    </tr>\n",
              "    <tr>\n",
              "      <th>4</th>\n",
              "      <td>1</td>\n",
              "      <td>0.465022</td>\n",
              "      <td>0.538432</td>\n",
              "      <td>0.522298</td>\n",
              "      <td>0.598783</td>\n",
              "      <td>0.598783</td>\n",
              "      <td>0.998973</td>\n",
              "      <td>0.797366</td>\n",
              "      <td>0.809304</td>\n",
              "      <td>0.303475</td>\n",
              "      <td>...</td>\n",
              "      <td>0.795016</td>\n",
              "      <td>0.003878</td>\n",
              "      <td>0.623521</td>\n",
              "      <td>0.598782</td>\n",
              "      <td>0.839973</td>\n",
              "      <td>0.278514</td>\n",
              "      <td>0.024752</td>\n",
              "      <td>0.575617</td>\n",
              "      <td>1</td>\n",
              "      <td>0.035490</td>\n",
              "    </tr>\n",
              "    <tr>\n",
              "      <th>...</th>\n",
              "      <td>...</td>\n",
              "      <td>...</td>\n",
              "      <td>...</td>\n",
              "      <td>...</td>\n",
              "      <td>...</td>\n",
              "      <td>...</td>\n",
              "      <td>...</td>\n",
              "      <td>...</td>\n",
              "      <td>...</td>\n",
              "      <td>...</td>\n",
              "      <td>...</td>\n",
              "      <td>...</td>\n",
              "      <td>...</td>\n",
              "      <td>...</td>\n",
              "      <td>...</td>\n",
              "      <td>...</td>\n",
              "      <td>...</td>\n",
              "      <td>...</td>\n",
              "      <td>...</td>\n",
              "      <td>...</td>\n",
              "      <td>...</td>\n",
              "    </tr>\n",
              "    <tr>\n",
              "      <th>6814</th>\n",
              "      <td>0</td>\n",
              "      <td>0.493687</td>\n",
              "      <td>0.539468</td>\n",
              "      <td>0.543230</td>\n",
              "      <td>0.604455</td>\n",
              "      <td>0.604462</td>\n",
              "      <td>0.998992</td>\n",
              "      <td>0.797409</td>\n",
              "      <td>0.809331</td>\n",
              "      <td>0.303510</td>\n",
              "      <td>...</td>\n",
              "      <td>0.799927</td>\n",
              "      <td>0.000466</td>\n",
              "      <td>0.623620</td>\n",
              "      <td>0.604455</td>\n",
              "      <td>0.840359</td>\n",
              "      <td>0.279606</td>\n",
              "      <td>0.027064</td>\n",
              "      <td>0.566193</td>\n",
              "      <td>1</td>\n",
              "      <td>0.029890</td>\n",
              "    </tr>\n",
              "    <tr>\n",
              "      <th>6815</th>\n",
              "      <td>0</td>\n",
              "      <td>0.475162</td>\n",
              "      <td>0.538269</td>\n",
              "      <td>0.524172</td>\n",
              "      <td>0.598308</td>\n",
              "      <td>0.598308</td>\n",
              "      <td>0.998992</td>\n",
              "      <td>0.797414</td>\n",
              "      <td>0.809327</td>\n",
              "      <td>0.303520</td>\n",
              "      <td>...</td>\n",
              "      <td>0.799748</td>\n",
              "      <td>0.001959</td>\n",
              "      <td>0.623931</td>\n",
              "      <td>0.598306</td>\n",
              "      <td>0.840306</td>\n",
              "      <td>0.278132</td>\n",
              "      <td>0.027009</td>\n",
              "      <td>0.566018</td>\n",
              "      <td>1</td>\n",
              "      <td>0.038284</td>\n",
              "    </tr>\n",
              "    <tr>\n",
              "      <th>6816</th>\n",
              "      <td>0</td>\n",
              "      <td>0.472725</td>\n",
              "      <td>0.533744</td>\n",
              "      <td>0.520638</td>\n",
              "      <td>0.610444</td>\n",
              "      <td>0.610213</td>\n",
              "      <td>0.998984</td>\n",
              "      <td>0.797401</td>\n",
              "      <td>0.809317</td>\n",
              "      <td>0.303512</td>\n",
              "      <td>...</td>\n",
              "      <td>0.797778</td>\n",
              "      <td>0.002840</td>\n",
              "      <td>0.624156</td>\n",
              "      <td>0.610441</td>\n",
              "      <td>0.840138</td>\n",
              "      <td>0.275789</td>\n",
              "      <td>0.026791</td>\n",
              "      <td>0.565158</td>\n",
              "      <td>1</td>\n",
              "      <td>0.097649</td>\n",
              "    </tr>\n",
              "    <tr>\n",
              "      <th>6817</th>\n",
              "      <td>0</td>\n",
              "      <td>0.506264</td>\n",
              "      <td>0.559911</td>\n",
              "      <td>0.554045</td>\n",
              "      <td>0.607850</td>\n",
              "      <td>0.607850</td>\n",
              "      <td>0.999074</td>\n",
              "      <td>0.797500</td>\n",
              "      <td>0.809399</td>\n",
              "      <td>0.303498</td>\n",
              "      <td>...</td>\n",
              "      <td>0.811808</td>\n",
              "      <td>0.002837</td>\n",
              "      <td>0.623957</td>\n",
              "      <td>0.607846</td>\n",
              "      <td>0.841084</td>\n",
              "      <td>0.277547</td>\n",
              "      <td>0.026822</td>\n",
              "      <td>0.565302</td>\n",
              "      <td>1</td>\n",
              "      <td>0.044009</td>\n",
              "    </tr>\n",
              "    <tr>\n",
              "      <th>6818</th>\n",
              "      <td>0</td>\n",
              "      <td>0.493053</td>\n",
              "      <td>0.570105</td>\n",
              "      <td>0.549548</td>\n",
              "      <td>0.627409</td>\n",
              "      <td>0.627409</td>\n",
              "      <td>0.998080</td>\n",
              "      <td>0.801987</td>\n",
              "      <td>0.813800</td>\n",
              "      <td>0.313415</td>\n",
              "      <td>...</td>\n",
              "      <td>0.815956</td>\n",
              "      <td>0.000707</td>\n",
              "      <td>0.626680</td>\n",
              "      <td>0.627408</td>\n",
              "      <td>0.841019</td>\n",
              "      <td>0.275114</td>\n",
              "      <td>0.026793</td>\n",
              "      <td>0.565167</td>\n",
              "      <td>1</td>\n",
              "      <td>0.233902</td>\n",
              "    </tr>\n",
              "  </tbody>\n",
              "</table>\n",
              "<p>6819 rows × 96 columns</p>\n",
              "</div>\n",
              "      <button class=\"colab-df-convert\" onclick=\"convertToInteractive('df-763befaf-fda4-422d-afd2-ce7145141214')\"\n",
              "              title=\"Convert this dataframe to an interactive table.\"\n",
              "              style=\"display:none;\">\n",
              "        \n",
              "  <svg xmlns=\"http://www.w3.org/2000/svg\" height=\"24px\"viewBox=\"0 0 24 24\"\n",
              "       width=\"24px\">\n",
              "    <path d=\"M0 0h24v24H0V0z\" fill=\"none\"/>\n",
              "    <path d=\"M18.56 5.44l.94 2.06.94-2.06 2.06-.94-2.06-.94-.94-2.06-.94 2.06-2.06.94zm-11 1L8.5 8.5l.94-2.06 2.06-.94-2.06-.94L8.5 2.5l-.94 2.06-2.06.94zm10 10l.94 2.06.94-2.06 2.06-.94-2.06-.94-.94-2.06-.94 2.06-2.06.94z\"/><path d=\"M17.41 7.96l-1.37-1.37c-.4-.4-.92-.59-1.43-.59-.52 0-1.04.2-1.43.59L10.3 9.45l-7.72 7.72c-.78.78-.78 2.05 0 2.83L4 21.41c.39.39.9.59 1.41.59.51 0 1.02-.2 1.41-.59l7.78-7.78 2.81-2.81c.8-.78.8-2.07 0-2.86zM5.41 20L4 18.59l7.72-7.72 1.47 1.35L5.41 20z\"/>\n",
              "  </svg>\n",
              "      </button>\n",
              "      \n",
              "  <style>\n",
              "    .colab-df-container {\n",
              "      display:flex;\n",
              "      flex-wrap:wrap;\n",
              "      gap: 12px;\n",
              "    }\n",
              "\n",
              "    .colab-df-convert {\n",
              "      background-color: #E8F0FE;\n",
              "      border: none;\n",
              "      border-radius: 50%;\n",
              "      cursor: pointer;\n",
              "      display: none;\n",
              "      fill: #1967D2;\n",
              "      height: 32px;\n",
              "      padding: 0 0 0 0;\n",
              "      width: 32px;\n",
              "    }\n",
              "\n",
              "    .colab-df-convert:hover {\n",
              "      background-color: #E2EBFA;\n",
              "      box-shadow: 0px 1px 2px rgba(60, 64, 67, 0.3), 0px 1px 3px 1px rgba(60, 64, 67, 0.15);\n",
              "      fill: #174EA6;\n",
              "    }\n",
              "\n",
              "    [theme=dark] .colab-df-convert {\n",
              "      background-color: #3B4455;\n",
              "      fill: #D2E3FC;\n",
              "    }\n",
              "\n",
              "    [theme=dark] .colab-df-convert:hover {\n",
              "      background-color: #434B5C;\n",
              "      box-shadow: 0px 1px 3px 1px rgba(0, 0, 0, 0.15);\n",
              "      filter: drop-shadow(0px 1px 2px rgba(0, 0, 0, 0.3));\n",
              "      fill: #FFFFFF;\n",
              "    }\n",
              "  </style>\n",
              "\n",
              "      <script>\n",
              "        const buttonEl =\n",
              "          document.querySelector('#df-763befaf-fda4-422d-afd2-ce7145141214 button.colab-df-convert');\n",
              "        buttonEl.style.display =\n",
              "          google.colab.kernel.accessAllowed ? 'block' : 'none';\n",
              "\n",
              "        async function convertToInteractive(key) {\n",
              "          const element = document.querySelector('#df-763befaf-fda4-422d-afd2-ce7145141214');\n",
              "          const dataTable =\n",
              "            await google.colab.kernel.invokeFunction('convertToInteractive',\n",
              "                                                     [key], {});\n",
              "          if (!dataTable) return;\n",
              "\n",
              "          const docLinkHtml = 'Like what you see? Visit the ' +\n",
              "            '<a target=\"_blank\" href=https://colab.research.google.com/notebooks/data_table.ipynb>data table notebook</a>'\n",
              "            + ' to learn more about interactive tables.';\n",
              "          element.innerHTML = '';\n",
              "          dataTable['output_type'] = 'display_data';\n",
              "          await google.colab.output.renderOutput(dataTable, element);\n",
              "          const docLink = document.createElement('div');\n",
              "          docLink.innerHTML = docLinkHtml;\n",
              "          element.appendChild(docLink);\n",
              "        }\n",
              "      </script>\n",
              "    </div>\n",
              "  </div>\n",
              "  "
            ]
          },
          "metadata": {},
          "execution_count": 4
        }
      ]
    },
    {
      "cell_type": "markdown",
      "source": [
        "## Επισκόπηση του dataset"
      ],
      "metadata": {
        "id": "QFT70eoFNNsH"
      }
    },
    {
      "cell_type": "code",
      "source": [
        "data = df.to_numpy()\n",
        "print(\"The dataset contains\", data.shape[0],\"samples,\" ,data.shape[1]-1, \"features and a label.\")\n",
        "print(\"\\n\")\n",
        "print(\"The data are shown here:\")\n",
        "print(data)"
      ],
      "metadata": {
        "colab": {
          "base_uri": "https://localhost:8080/"
        },
        "id": "_O-QQuF_9XT7",
        "outputId": "af47d4c5-072d-4d05-b366-8e787ff5a104"
      },
      "execution_count": null,
      "outputs": [
        {
          "output_type": "stream",
          "name": "stdout",
          "text": [
            "The dataset contains 6819 samples, 95 features and a label.\n",
            "\n",
            "\n",
            "The data are shown here:\n",
            "[[1.         0.37059426 0.42438945 ... 0.56405011 1.         0.01646874]\n",
            " [1.         0.46429094 0.53821413 ... 0.57017495 1.         0.02079431]\n",
            " [1.         0.42607127 0.49901875 ... 0.56370608 1.         0.01647411]\n",
            " ...\n",
            " [0.         0.47272461 0.533744   ... 0.5651584  1.         0.09764874]\n",
            " [0.         0.50626432 0.5599106  ... 0.56530151 1.         0.04400945]\n",
            " [0.         0.49305319 0.57010467 ... 0.56516694 1.         0.23390224]]\n"
          ]
        }
      ]
    },
    {
      "cell_type": "markdown",
      "source": [
        "Πρόκειται για ένα dataset που περιέχει πληροφορίες για χρεοκοπημένες και μη εταιρίες από το 1999 έως το 2009 από το Taiwan Economic Journal. Το dataset αποτελέιται από 6819 δείγματα, καθένα των οποίων έχει 95 χαρακτηριστικά, που αντιστοιχούν σε χρηματιστηριακούς δείκτες(FRs) και μια binary ετικέτα.\n",
        "\n",
        "Το classification γίνεται σε δύο κλασεις: χρεοκοπημένη (τιμή 1) και μη χρεοκοπημένη (τιμή 0)."
      ],
      "metadata": {
        "id": "xYn5LIsz9fQT"
      }
    },
    {
      "cell_type": "markdown",
      "source": [
        "Αρχικά ελέγχουμε την ισορροπία του dataset:"
      ],
      "metadata": {
        "id": "JFXuPqSK9Nax"
      }
    },
    {
      "cell_type": "code",
      "source": [
        "np_labels = np.array(df['Bankrupt?'].values)\n",
        "\n",
        "bankrupt = len(np_labels[np_labels==1])\n",
        "not_bankrupt = len(np_labels[np_labels==0])\n",
        "print(bankrupt,\"samples are for bankrupt companies and\",not_bankrupt,\" samples are for non-bankrupt companies\")\n",
        "\n",
        "print(\"The balance is\", round(bankrupt/len(np_labels),2) * 100, \"% in favour of the bankrupt samples\")"
      ],
      "metadata": {
        "colab": {
          "base_uri": "https://localhost:8080/"
        },
        "id": "GzmQVBq8WpG8",
        "outputId": "9130063a-3f8c-41be-e273-83d78e04980a"
      },
      "execution_count": null,
      "outputs": [
        {
          "output_type": "stream",
          "name": "stdout",
          "text": [
            "220 samples are for bankrupt companies and 6599  samples are for non-bankrupt companies\n",
            "The balance is 3.0 % in favour of the bankrupt samples\n"
          ]
        }
      ]
    },
    {
      "cell_type": "markdown",
      "source": [
        "Παρατηρούμε ότι το dataset είναι υπερβολικά unbalanced με έναν πολύ μικρό αριθμό δειγμάτων στην κλάση 1 (χρεοκοπημένες εταιρίες) σε σχέση με τον αριθμό δειγμάτων στην κλάση 0 (μη χρεοκοπημένες εταιρίες). Τονίζουμε πως για την out-of-the-box τεχνική δε θα βελτιώσουμε την ισορροπία του set, κάτι που θα κάνουμε στην βελτιστοποίηση των ταξινομητών."
      ],
      "metadata": {
        "id": "r7DiZrLshmOt"
      }
    },
    {
      "cell_type": "code",
      "source": [
        "y = [bankrupt, not_bankrupt]\n",
        "x = ['Bankrupt', 'Not Bankrupt']\n",
        "\n",
        "bars = plt.bar(x,y)\n",
        "bars[0].set_color('blue')\n",
        "bars[1].set_color('green')\n",
        "plt.title(\"Distribution of samples\")\n",
        "plt.ylabel(\"Number of examples\")\n",
        "plt.xlabel(\"Labels\")\n",
        "plt.show()"
      ],
      "metadata": {
        "colab": {
          "base_uri": "https://localhost:8080/",
          "height": 295
        },
        "id": "41soCnizy-tC",
        "outputId": "56c6f4f8-1565-4040-806c-ac60b2db1b79"
      },
      "execution_count": null,
      "outputs": [
        {
          "output_type": "display_data",
          "data": {
            "text/plain": [
              "<Figure size 432x288 with 1 Axes>"
            ],
            "image/png": "[encoded data removed]"
          },
          "metadata": {
            "needs_background": "light"
          }
        }
      ]
    },
    {
      "cell_type": "markdown",
      "source": [
        "Αξίζει να σημειωθεί ότι δεν υπάρχουν κενές τιμές στα χαρακτηριστικά, όπως επιβεβαιώνεται και παρακάτω:"
      ],
      "metadata": {
        "id": "7_noxFua1e7i"
      }
    },
    {
      "cell_type": "code",
      "source": [
        "df.isnull().values.any()"
      ],
      "metadata": {
        "colab": {
          "base_uri": "https://localhost:8080/"
        },
        "id": "RTev4JIq1ZL5",
        "outputId": "54a21f51-06a0-4684-9310-da1500c5ea00"
      },
      "execution_count": null,
      "outputs": [
        {
          "output_type": "execute_result",
          "data": {
            "text/plain": [
              "False"
            ]
          },
          "metadata": {},
          "execution_count": 8
        }
      ]
    },
    {
      "cell_type": "markdown",
      "source": [
        "Παρατηρούμε ότι από τα 95 χαρακτηριστικά τα 93 παίρνουν τιμές float και 2 παίρνουν τιμές binary (int όπως φαίνεται, αλλά είναι μόνο οι τιμές 1 και 0 άρα πρακτικά binary). Η ετικέτα παίρνει επίσης binary τιμές."
      ],
      "metadata": {
        "id": "JV4hzow9_JN4"
      }
    },
    {
      "cell_type": "code",
      "source": [
        "df.dtypes"
      ],
      "metadata": {
        "colab": {
          "base_uri": "https://localhost:8080/"
        },
        "id": "J879ezEU-HV2",
        "outputId": "74575d2b-d95c-4d3c-d016-41b841d11013"
      },
      "execution_count": null,
      "outputs": [
        {
          "output_type": "execute_result",
          "data": {
            "text/plain": [
              "Bankrupt?                                                     int64\n",
              " ROA(C) before interest and depreciation before interest    float64\n",
              " ROA(A) before interest and % after tax                     float64\n",
              " ROA(B) before interest and depreciation after tax          float64\n",
              " Operating Gross Margin                                     float64\n",
              "                                                             ...   \n",
              " Liability to Equity                                        float64\n",
              " Degree of Financial Leverage (DFL)                         float64\n",
              " Interest Coverage Ratio (Interest expense to EBIT)         float64\n",
              " Net Income Flag                                              int64\n",
              " Equity to Liability                                        float64\n",
              "Length: 96, dtype: object"
            ]
          },
          "metadata": {},
          "execution_count": 9
        }
      ]
    },
    {
      "cell_type": "markdown",
      "source": [
        "Συγκεκριμένα μελετώντας το dataset εστιάζουμε την προσοχή μας στους εξης binary δείκτες:\n",
        "\n",
        "* Liability-Assets Flag: 1 if Total Liability exceeds Total Assets, 0 otherwise\n",
        "\n",
        "* Net Income Flag: 1 if Net Income is Negative for the last two years, 0 otherwise"
      ],
      "metadata": {
        "id": "9l3TL612E6Ur"
      }
    },
    {
      "cell_type": "code",
      "source": [
        "print(df[\" Liability-Assets Flag\"].value_counts()) #count the values for Liability-Assets Flag\n",
        "print(\"\\n\")\n",
        "print(df[\" Net Income Flag\"].value_counts()) #count the values for Net Income Flag"
      ],
      "metadata": {
        "colab": {
          "base_uri": "https://localhost:8080/"
        },
        "id": "awPuH6gK_9ZH",
        "outputId": "1e2d7f4c-d944-4a0b-b462-36556b491275"
      },
      "execution_count": null,
      "outputs": [
        {
          "output_type": "stream",
          "name": "stdout",
          "text": [
            "0    6811\n",
            "1       8\n",
            "Name:  Liability-Assets Flag, dtype: int64\n",
            "\n",
            "\n",
            "1    6819\n",
            "Name:  Net Income Flag, dtype: int64\n"
          ]
        }
      ]
    },
    {
      "cell_type": "markdown",
      "source": [
        "Άρα βλέπουμε ότι οι τιμές για το χαρακτηριστικό Net Income Flag είναι πάντα 1. Άρα μπορούμε να κάνουμε drop αυτή την στήλη:"
      ],
      "metadata": {
        "id": "Y5aRs9xdE-mL"
      }
    },
    {
      "cell_type": "code",
      "source": [
        "df = df.drop(\" Net Income Flag\", axis=1)"
      ],
      "metadata": {
        "id": "KYds84V5GBkv"
      },
      "execution_count": null,
      "outputs": []
    },
    {
      "cell_type": "markdown",
      "source": [
        "## Ταξινομητές"
      ],
      "metadata": {
        "id": "gz0VpXliOBjp"
      }
    },
    {
      "cell_type": "markdown",
      "source": [
        "Θα δουλέψουμε με δύο ταξινομητές:\n",
        "\n",
        "* Mylti-Layer Perceptron (MLP)\n",
        "\n",
        "* Support Vector Machines (SVM)\n",
        "\n",
        "Για χάριν σύγκρισης των επιδόσεων παραθέτουμε και τους dummy ταξινομητές ως baseline και με όλες τις παραμέτρους σε default τιμές, όπως ζητήθηκε κι από την εκφώνηση. Οι τύποι των dummy ταξινομητών που θα μελετήσουμε είναι:\n",
        "\n",
        "* uniform: ο ταξινομητής προβλέπει τυχαία και ομοιόμορφα\n",
        "* constant: ο ταξινομητής προβλέπει πάντα μία κατηγορία που διαλέγουμε (gamma και hadron)\n",
        "* stratified: ο ταξινομητής προβλέπει διατηρώντας την κατανομή των κλάσεων στο training set\n",
        "* most_frequent: ο ταξινομητής προβλέπει πάντα την πιο συχνή κατηγορία στο training set"
      ],
      "metadata": {
        "id": "JJQUKVIzQKj8"
      }
    },
    {
      "cell_type": "markdown",
      "source": [
        "## Μετρικές"
      ],
      "metadata": {
        "id": "MiuI69xmP9hQ"
      }
    },
    {
      "cell_type": "markdown",
      "source": [
        "Αρχικά θέλουμε να δούμε πώς συμπεριφέρονται οι ταξινομητές χωρίς καμία βελτιστοποίηση (out-of-the-box). Επομένως, θα χρησιμοποιήσουμε το dataset ως έχει και θα αξιολογήσουμε την επίδοσή τους με βάση μετρικές που ενδείκνυνται για ένα unbalanced set. Έτσι, δεν θα χρησιμοποιήσουμε το accuracy, μα άλλες μετρικές όπως το F1-score (τα precision και recall μπορούν επίσης να μελετηθούν στο συγκεκριμένο πρόβλημα κατηγοριοποίησης). Έμφαση θα δoθούν ειδικότερα στις παρακάτω μετρικές:\n",
        "\n",
        "* confusion matrix\n",
        "* f1-micro average (F1-score που \"ζυγίζει\" κάθε δείγμα ισότιμα)\n",
        "* f1-macro average (F1-score που \"ζυγίζει\" κάθε τάξη ισότιμα)"
      ],
      "metadata": {
        "id": "cJ58DcO3QI9k"
      }
    },
    {
      "cell_type": "markdown",
      "source": [
        "## Train-test split"
      ],
      "metadata": {
        "id": "6qYXNMkug2GR"
      }
    },
    {
      "cell_type": "markdown",
      "source": [
        "Αρχικά χωρίζουμε το dataset σε χαρακτηριστικά (feats) και ετικέτες (labels)."
      ],
      "metadata": {
        "id": "xJOELVaOoROg"
      }
    },
    {
      "cell_type": "code",
      "source": [
        "data = df.to_numpy() #γιατί έχουμε κάνει drop τη μία στήλη\n",
        "labels = df['Bankrupt?'].to_numpy()\n",
        "feats = data[:,1:]"
      ],
      "metadata": {
        "id": "D1cZ4vTVg4R7"
      },
      "execution_count": null,
      "outputs": []
    },
    {
      "cell_type": "code",
      "source": [
        "print(\"The array of Labels of the Dataset: \")\n",
        "print(labels)\n",
        "print(\"\\n\")\n",
        "print(\"The array of Feats of the Dataset: \")\n",
        "print(feats)"
      ],
      "metadata": {
        "colab": {
          "base_uri": "https://localhost:8080/"
        },
        "id": "wasragWRg9GN",
        "outputId": "753ea422-52af-4f8f-e874-3eceba05f065"
      },
      "execution_count": null,
      "outputs": [
        {
          "output_type": "stream",
          "name": "stdout",
          "text": [
            "The array of Labels of the Dataset: \n",
            "[1 1 1 ... 0 0 0]\n",
            "\n",
            "\n",
            "The array of Feats of the Dataset: \n",
            "[[0.37059426 0.42438945 0.40574977 ... 0.02660063 0.56405011 0.01646874]\n",
            " [0.46429094 0.53821413 0.51673002 ... 0.26457682 0.57017495 0.02079431]\n",
            " [0.42607127 0.49901875 0.47229509 ... 0.02655472 0.56370608 0.01647411]\n",
            " ...\n",
            " [0.47272461 0.533744   0.52063815 ... 0.02679116 0.5651584  0.09764874]\n",
            " [0.50626432 0.5599106  0.55404465 ... 0.02682205 0.56530151 0.04400945]\n",
            " [0.49305319 0.57010467 0.54954762 ... 0.02679295 0.56516694 0.23390224]]\n"
          ]
        }
      ]
    },
    {
      "cell_type": "markdown",
      "source": [
        "Τώρα προβαίνουμε στον διαχωρισμό του συνόλου δεδομένων σε σύνολο εκπαίδευσης (train set) και σύνολο τεστ (test set) με 30% των δειγμάτων στο test set, μέσω της συνάρτησης της Scikit-learn. Ο διαχωρισμός 70/30 είναι καλή επιλογή, καθώς θέλουμε ένα μεγάλο αριθμό δειγμάτων στο train set."
      ],
      "metadata": {
        "id": "LQrpOK0moyxH"
      }
    },
    {
      "cell_type": "code",
      "source": [
        "x_train,x_test,y_train,y_test = train_test_split(feats,labels,test_size=0.3,random_state=0)"
      ],
      "metadata": {
        "id": "k20JCGq9o1wx"
      },
      "execution_count": null,
      "outputs": []
    },
    {
      "cell_type": "markdown",
      "source": [
        "## Out-of-the-box"
      ],
      "metadata": {
        "id": "ZvgJex2Qtsut"
      }
    },
    {
      "cell_type": "markdown",
      "source": [
        "### *dummy*"
      ],
      "metadata": {
        "id": "fsGdzu2puK0v"
      }
    },
    {
      "cell_type": "markdown",
      "source": [
        "Ορίζουμε τους ταξινομητές Dummy που εξηγήσαμε και παραπάνω και παίρνουμε τις μετρικές που θέλουμε για να τους συγκρίνουμε."
      ],
      "metadata": {
        "id": "nLcRAmczyRhn"
      }
    },
    {
      "cell_type": "code",
      "source": [
        "def DummyClassification(x_train,y_train,x_test,y_test):\n",
        "    \n",
        "    scores, predictions, fit_times, pred_times = {}, {}, {}, {}\n",
        "\n",
        "    ## Initialization\n",
        "    \n",
        "    dc_uniform  = DummyClassifier(strategy=\"uniform\")\n",
        "    dc_const_0 = DummyClassifier(strategy=\"constant\",constant= 0)\n",
        "    dc_const_1 = DummyClassifier(strategy=\"constant\",constant= 1)\n",
        "    dc_stratified = DummyClassifier(strategy=\"stratified\")\n",
        "    dc_frequent = DummyClassifier(strategy=\"most_frequent\")\n",
        "\n",
        "    ## Fit times\n",
        "    \n",
        "    start_time = time.time()\n",
        "    dc_uniform.fit(x_train, y_train)\n",
        "    fit_times['uniform'] = time.time()-start_time\n",
        "    \n",
        "    start_time = time.time()\n",
        "    dc_const_0.fit(x_train, y_train)\n",
        "    fit_times['const_0'] = time.time()-start_time\n",
        "    \n",
        "    start_time = time.time()\n",
        "    dc_const_1.fit(x_train, y_train)\n",
        "    fit_times['const_1'] = time.time()-start_time\n",
        "    \n",
        "    start_time = time.time()\n",
        "    dc_stratified.fit(x_train, y_train)\n",
        "    fit_times['stratified'] = time.time()-start_time\n",
        "    \n",
        "    start_time = time.time()\n",
        "    dc_frequent.fit(x_train,y_train)\n",
        "    fit_times['frequent'] = time.time()-start_time\n",
        "    \n",
        "    ## Predictions and prediction times\n",
        "    \n",
        "    start_time = time.time()\n",
        "    predictions['uniform']  = dc_uniform.predict(x_test)\n",
        "    pred_times['uniform'] = time.time()-start_time\n",
        "    \n",
        "    start_time = time.time()\n",
        "    predictions['const_0']  = dc_const_0.predict(x_test)\n",
        "    pred_times['const_0'] = time.time()-start_time\n",
        "    \n",
        "    start_time = time.time()\n",
        "    predictions['const_1']  = dc_const_1.predict(x_test)\n",
        "    pred_times['const_1'] = time.time()-start_time\n",
        "    \n",
        "    start_time = time.time()\n",
        "    predictions['stratified']  = dc_stratified.predict(x_test)\n",
        "    pred_times['stratified'] = time.time()-start_time\n",
        "    \n",
        "    start_time = time.time()\n",
        "    predictions['frequent'] = dc_frequent.predict(x_test)\n",
        "    pred_times['frequent'] = time.time()-start_time\n",
        "\n",
        "    ## Score\n",
        "    \n",
        "    scores['uniform']  = dc_uniform.score(x_test, y_test)\n",
        "    scores['const_0']  = dc_const_0.score(x_test, y_test)\n",
        "    scores['const_1']  = dc_const_1.score(x_test, y_test)\n",
        "    scores['stratified']  = dc_stratified.score(x_test, y_test)\n",
        "    scores['frequent'] = dc_frequent.score(x_test,y_test)\n",
        "    \n",
        "    return predictions, scores, fit_times, pred_times"
      ],
      "metadata": {
        "id": "nATALhvztzHq"
      },
      "execution_count": null,
      "outputs": []
    },
    {
      "cell_type": "code",
      "source": [
        "predictions, _, _, _ = DummyClassification(x_train, y_train, x_test, y_test)\n",
        "\n",
        "print(\"Confusion Matrices of the Dummy Classifier: \\n\")\n",
        "for strategy in predictions:\n",
        "  print(f'For strategy -> {strategy}:\\n {confusion_matrix(y_test, predictions[strategy])}')"
      ],
      "metadata": {
        "colab": {
          "base_uri": "https://localhost:8080/"
        },
        "id": "SFD2-ReBwWPn",
        "outputId": "63212b56-35ed-4a5d-ed3d-da5206b00950"
      },
      "execution_count": null,
      "outputs": [
        {
          "output_type": "stream",
          "name": "stdout",
          "text": [
            "Confusion Matrices of the Dummy Classifier: \n",
            "\n",
            "For strategy -> uniform:\n",
            " [[990 997]\n",
            " [ 31  28]]\n",
            "For strategy -> const_0:\n",
            " [[1987    0]\n",
            " [  59    0]]\n",
            "For strategy -> const_1:\n",
            " [[   0 1987]\n",
            " [   0   59]]\n",
            "For strategy -> stratified:\n",
            " [[1914   73]\n",
            " [  59    0]]\n",
            "For strategy -> frequent:\n",
            " [[1987    0]\n",
            " [  59    0]]\n"
          ]
        }
      ]
    },
    {
      "cell_type": "markdown",
      "source": [
        "Ενδεικτικά, κάνουμε plot το confusion matrix του dummy classifier με στρατηγική stratified."
      ],
      "metadata": {
        "id": "mfu6OwRazzcf"
      }
    },
    {
      "cell_type": "code",
      "source": [
        "cm = sns.heatmap(confusion_matrix(y_test, predictions[\"stratified\"]), annot=True)\n",
        "cm.plot()\n",
        "plt.title(\"Confusion matrix for the stratified strategy\")\n",
        "plt.show()"
      ],
      "metadata": {
        "colab": {
          "base_uri": "https://localhost:8080/",
          "height": 281
        },
        "id": "Mv_ILJHPzzwP",
        "outputId": "6e28a8d8-8269-424f-c987-d88c7deb6528"
      },
      "execution_count": null,
      "outputs": [
        {
          "output_type": "display_data",
          "data": {
            "text/plain": [
              "<Figure size 432x288 with 2 Axes>"
            ],
            "image/png": "[encoded data removed]"
          },
          "metadata": {
            "needs_background": "light"
          }
        }
      ]
    },
    {
      "cell_type": "markdown",
      "source": [
        "Για τη στρατηγική constant, δεν έχουμε καμία πρόβλεψη για την αντίθετη κλάση, γι'αυτό δεν έχουμε και false positives / false negatives.\n",
        "\n",
        "Αντίστοιχα στο most frequent, όπου η κλάση 0 εμφανίζεται υπερβολικά περισσότερες φορές, έχουμε ίδιο αποτέλεσμα με την constant_0 στρατηγική.\n",
        "\n",
        "Η uniform ναι μεν παράγει τυχαία αποτελέσματα αλλά με ομοιόμορφη κατανομή και βλέπουμε πως αποτυγχάνει στην κλάση 1, καθώς η ομοιόμορφη κατανομή ευνοεί την πολυπληθέστερη κλάση.\n",
        "\n",
        "Στην stratified έχουμε επίσης πολλά miss, ιδιαίτερα για στην κλάση 1 καθώς τα predictions γίνονται πιθανοτικά. Αφού λοιπόν, τα συντριπτικά περισσότερα κλάσεις δείγματα ανήκουν στην κλάση 0, προφανώς η πιθανότητα \"γέρνει\" συνεχώς προς αυτή.\n",
        "\n",
        "Παρατηρούμε από τις μετρικές ότι προκύπτουν αποδόσεις υπερβολικά καλές για να είναι αληθινές."
      ],
      "metadata": {
        "id": "n9pGs-R-1zWt"
      }
    },
    {
      "cell_type": "code",
      "source": [
        "print(\"F1 Score of the Dummy Classifier: \\n\")\n",
        "for strategy in predictions:\n",
        "  print(f'For strategy -> {strategy}:')\n",
        "  print(f'\\tMicro: {f1_score(y_test, predictions[strategy], average = \"micro\")}')\n",
        "  print(f'\\tMacro: {f1_score(y_test, predictions[strategy], average = \"macro\")}\\n')"
      ],
      "metadata": {
        "colab": {
          "base_uri": "https://localhost:8080/"
        },
        "id": "b9A5o-GW1yXP",
        "outputId": "78cea85e-494e-4ab5-c28a-d22c16484dc5"
      },
      "execution_count": null,
      "outputs": [
        {
          "output_type": "stream",
          "name": "stdout",
          "text": [
            "F1 Score of the Dummy Classifier: \n",
            "\n",
            "For strategy -> uniform:\n",
            "\tMicro: 0.4975562072336266\n",
            "\tMacro: 0.3549525987281149\n",
            "\n",
            "For strategy -> const_0:\n",
            "\tMicro: 0.9711632453567938\n",
            "\tMacro: 0.4926853458963551\n",
            "\n",
            "For strategy -> const_1:\n",
            "\tMicro: 0.028836754643206255\n",
            "\tMacro: 0.028028503562945367\n",
            "\n",
            "For strategy -> stratified:\n",
            "\tMicro: 0.9354838709677419\n",
            "\tMacro: 0.4833333333333333\n",
            "\n",
            "For strategy -> frequent:\n",
            "\tMicro: 0.9711632453567938\n",
            "\tMacro: 0.4926853458963551\n",
            "\n"
          ]
        }
      ]
    },
    {
      "cell_type": "markdown",
      "source": [
        "Παρατηρούμε ότι χρησιμοποιώντας f1-macro έχουμε πολύ χαμηλές αποδόσεις, πράγμα αναμενόμενο, καθώς η macro δεν λαμβάνει υπόψιν την ανισοροπία του set, δηλαδή υπολογίζει το precision ξεχωριστά για κάθε κλάση και μετά διαιρεί απλά με τον αριθμό των κλάσεων. Αν χρησιμοποιήσουμε όμως την f1-micro, τότε παρατηρούμε πιο σωστά αποτελέσματα αφού η micro \"ζυγίζει\" την συνεισφορά της κάθε κλάσης.\n",
        "\n",
        "Ωστόσο η ακρίβεια είναι πολύ μικρή στην πραγματικότητα αν δούμε τους confusion matrices. Αυτό είναι λογικό, καθώς τα δεδομένα είναι ακραία unbalanced και δεν υπάρχει περιθώριο \"εκπαίδευσης\" του ταξινομητή, πόσο μάλλον του dummy classifier που είναι αδύναμος από την φύση του."
      ],
      "metadata": {
        "id": "l-kAqQbT3Wk7"
      }
    },
    {
      "cell_type": "markdown",
      "source": [
        "### *MLP*"
      ],
      "metadata": {
        "id": "WoBlPFNk4uEM"
      }
    },
    {
      "cell_type": "code",
      "source": [
        "mlp =  MLPClassifier()    # Multi-Layer Perceptron\n",
        "mlp.fit(x_train, y_train)\n",
        "predictions[\"mlp\"] = mlp.predict(x_test)"
      ],
      "metadata": {
        "id": "emeyULGh4yEL"
      },
      "execution_count": null,
      "outputs": []
    },
    {
      "cell_type": "code",
      "source": [
        "mlp_cm = confusion_matrix(y_test, predictions[\"mlp\"])\n",
        "print(\"Confusion matrix for the MLP:\")\n",
        "print(mlp_cm)\n",
        "\n",
        "print(\"\\n\")\n",
        "print(\"F1 Score of the MLP Classifier: \\n\")\n",
        "print(f'\\tMicro: {f1_score(y_test, predictions[\"mlp\"], average = \"micro\")}')\n",
        "print(f'\\tMacro: {f1_score(y_test, predictions[\"mlp\"], average = \"macro\")}\\n')"
      ],
      "metadata": {
        "colab": {
          "base_uri": "https://localhost:8080/"
        },
        "id": "XwDGftr-5YrI",
        "outputId": "982c2de7-666d-4ceb-d6ea-529fb3f851a1"
      },
      "execution_count": null,
      "outputs": [
        {
          "output_type": "stream",
          "name": "stdout",
          "text": [
            "Confusion matrix for the MLP:\n",
            "[[1945   42]\n",
            " [  50    9]]\n",
            "\n",
            "\n",
            "F1 Score of the MLP Classifier: \n",
            "\n",
            "\tMicro: 0.9550342130987293\n",
            "\tMacro: 0.5702661978905074\n",
            "\n"
          ]
        }
      ]
    },
    {
      "cell_type": "code",
      "source": [
        "cm = sns.heatmap(confusion_matrix(y_test, predictions[\"mlp\"]), annot=True)\n",
        "cm.plot()\n",
        "plt.title(\"Confusion matrix for the stratified strategy\")\n",
        "plt.show()"
      ],
      "metadata": {
        "colab": {
          "base_uri": "https://localhost:8080/",
          "height": 281
        },
        "id": "andqnGIa5e4y",
        "outputId": "4eccd73e-c87b-4cf0-b3f8-8d18f39f71a3"
      },
      "execution_count": null,
      "outputs": [
        {
          "output_type": "display_data",
          "data": {
            "text/plain": [
              "<Figure size 432x288 with 2 Axes>"
            ],
            "image/png": "[encoded data removed]"
          },
          "metadata": {
            "needs_background": "light"
          }
        }
      ]
    },
    {
      "cell_type": "markdown",
      "source": [
        "Και εδώ βλέπουμε καλύτερα αποτελέσματα σε σχέση με τους προηγούμενους classifiers. Συγκεκριμένα βλέπουμε καλύτερη απόδοση στην κλάση 0, πιθανότατα γιατί ο classifier έχει μάθει καλύτερα να διακρίνει entries από αυτή την κλάση, αφού το dataset μας είναι unbalanced με κλίση προς την κλάση 0."
      ],
      "metadata": {
        "id": "MgR2eQy26OCH"
      }
    },
    {
      "cell_type": "markdown",
      "source": [
        "### *SVM*"
      ],
      "metadata": {
        "id": "vitFrAsE4yey"
      }
    },
    {
      "cell_type": "markdown",
      "source": [
        "Η παράμετρος kernel της SVC καθορίζει την μέθοδο της ταξινόμησης ως:\n",
        "* linear\n",
        "* rbf\n",
        "* sigmoid\n",
        "* poly"
      ],
      "metadata": {
        "id": "GfmsLTeO8NjK"
      }
    },
    {
      "cell_type": "markdown",
      "source": [
        "#### linear"
      ],
      "metadata": {
        "id": "sne0n5Eh1dtO"
      }
    },
    {
      "cell_type": "code",
      "source": [
        "model_svm_linear = LinearSVC(dual=False)  # Support vector classifier\n",
        "model_svm_linear.fit(x_train, y_train)\n",
        "predictions[\"svm_linear\"] = model_svm_linear.predict(x_test)"
      ],
      "metadata": {
        "id": "sY0cyRzQ6Too"
      },
      "execution_count": null,
      "outputs": []
    },
    {
      "cell_type": "code",
      "source": [
        "svm_linear_cm = confusion_matrix(y_test, predictions[\"svm_linear\"])\n",
        "print(\"Confusion matrix for the SVM Linear:\")\n",
        "print(svm_linear_cm)\n",
        "\n",
        "print(\"\\n\")\n",
        "print(\"F1 Score of the SVM Linear Classifier: \\n\")\n",
        "print(f'\\tMicro: {f1_score(y_test, predictions[\"svm_linear\"], average = \"micro\")}')\n",
        "print(f'\\tMacro: {f1_score(y_test, predictions[\"svm_linear\"], average = \"macro\")}\\n')\n",
        "\n",
        "cm = sns.heatmap(confusion_matrix(y_test, predictions[\"svm_linear\"]), annot=True)\n",
        "cm.plot()\n",
        "plt.title(\"Confusion matrix for the SVM Linear strategy\")\n",
        "plt.show()"
      ],
      "metadata": {
        "colab": {
          "base_uri": "https://localhost:8080/",
          "height": 455
        },
        "id": "ZunebqHl9CEn",
        "outputId": "9bbf9859-000f-44a5-ee76-80a344a64ce5"
      },
      "execution_count": null,
      "outputs": [
        {
          "output_type": "stream",
          "name": "stdout",
          "text": [
            "Confusion matrix for the SVM Linear:\n",
            "[[1975   12]\n",
            " [  59    0]]\n",
            "\n",
            "\n",
            "F1 Score of the SVM Linear Classifier: \n",
            "\n",
            "\tMicro: 0.9652981427174976\n",
            "\tMacro: 0.4911713504103457\n",
            "\n"
          ]
        },
        {
          "output_type": "display_data",
          "data": {
            "text/plain": [
              "<Figure size 432x288 with 2 Axes>"
            ],
            "image/png": "[encoded data removed]"
          },
          "metadata": {
            "needs_background": "light"
          }
        }
      ]
    },
    {
      "cell_type": "markdown",
      "source": [
        "#### rbf"
      ],
      "metadata": {
        "id": "DpLSer2C1kEu"
      }
    },
    {
      "cell_type": "code",
      "source": [
        "model_svm_rbf = SVC( kernel= 'rbf') #rbf\n",
        "model_svm_rbf.fit(x_train, y_train)\n",
        "predictions[\"svm_rbf\"] = model_svm_rbf.predict(x_test)"
      ],
      "metadata": {
        "id": "6P7hPFd0-Mr8"
      },
      "execution_count": null,
      "outputs": []
    },
    {
      "cell_type": "code",
      "source": [
        "svm_rbf_cm = confusion_matrix(y_test, predictions[\"svm_rbf\"])\n",
        "print(\"Confusion matrix for the SVM rbf:\")\n",
        "print(svm_rbf_cm)\n",
        "\n",
        "print(\"\\n\")\n",
        "print(\"F1 Score of the SVM rbf Classifier: \\n\")\n",
        "print(f'\\tMicro: {f1_score(y_test, predictions[\"svm_rbf\"], average = \"micro\")}')\n",
        "print(f'\\tMacro: {f1_score(y_test, predictions[\"svm_rbf\"], average = \"macro\")}\\n')\n",
        "\n",
        "cm = sns.heatmap(confusion_matrix(y_test, predictions[\"svm_rbf\"]), annot=True)\n",
        "cm.plot()\n",
        "plt.title(\"Confusion matrix for the SVM rbf strategy\")\n",
        "plt.show()"
      ],
      "metadata": {
        "colab": {
          "base_uri": "https://localhost:8080/",
          "height": 455
        },
        "id": "9K5T06jv-MiE",
        "outputId": "35c9efe2-c11b-4391-cb24-816ccec53f45"
      },
      "execution_count": null,
      "outputs": [
        {
          "output_type": "stream",
          "name": "stdout",
          "text": [
            "Confusion matrix for the SVM rbf:\n",
            "[[1987    0]\n",
            " [  59    0]]\n",
            "\n",
            "\n",
            "F1 Score of the SVM rbf Classifier: \n",
            "\n",
            "\tMicro: 0.9711632453567938\n",
            "\tMacro: 0.4926853458963551\n",
            "\n"
          ]
        },
        {
          "output_type": "display_data",
          "data": {
            "text/plain": [
              "<Figure size 432x288 with 2 Axes>"
            ],
            "image/png": "[encoded data removed]"
          },
          "metadata": {
            "needs_background": "light"
          }
        }
      ]
    },
    {
      "cell_type": "markdown",
      "source": [
        "#### poly"
      ],
      "metadata": {
        "id": "N_e-hYOc1t3u"
      }
    },
    {
      "cell_type": "code",
      "source": [
        "model_svm_poly = SVC( kernel= 'poly') #poly\n",
        "model_svm_poly.fit(x_train, y_train)\n",
        "predictions[\"svm_poly\"] = model_svm_poly.predict(x_test)"
      ],
      "metadata": {
        "id": "TBzlIuET-Ng_"
      },
      "execution_count": null,
      "outputs": []
    },
    {
      "cell_type": "code",
      "source": [
        "svm_poly_cm = confusion_matrix(y_test, predictions[\"svm_poly\"])\n",
        "print(\"Confusion matrix for the SVM poly:\")\n",
        "print(svm_poly_cm)\n",
        "\n",
        "print(\"\\n\")\n",
        "print(\"F1 Score of the SVM poly Classifier: \\n\")\n",
        "print(f'\\tMicro: {f1_score(y_test, predictions[\"svm_poly\"], average = \"micro\")}')\n",
        "print(f'\\tMacro: {f1_score(y_test, predictions[\"svm_poly\"], average = \"macro\")}\\n')\n",
        "\n",
        "cm = sns.heatmap(confusion_matrix(y_test, predictions[\"svm_poly\"]), annot=True)\n",
        "cm.plot()\n",
        "plt.title(\"Confusion matrix for the SVM poly strategy\")\n",
        "plt.show()"
      ],
      "metadata": {
        "colab": {
          "base_uri": "https://localhost:8080/",
          "height": 455
        },
        "id": "FUFvViC3-Na4",
        "outputId": "ef2bc8ee-51bb-480a-d50a-9ccbf1275364"
      },
      "execution_count": null,
      "outputs": [
        {
          "output_type": "stream",
          "name": "stdout",
          "text": [
            "Confusion matrix for the SVM poly:\n",
            "[[1987    0]\n",
            " [  59    0]]\n",
            "\n",
            "\n",
            "F1 Score of the SVM poly Classifier: \n",
            "\n",
            "\tMicro: 0.9711632453567938\n",
            "\tMacro: 0.4926853458963551\n",
            "\n"
          ]
        },
        {
          "output_type": "display_data",
          "data": {
            "text/plain": [
              "<Figure size 432x288 with 2 Axes>"
            ],
            "image/png": "[encoded data removed]"
          },
          "metadata": {
            "needs_background": "light"
          }
        }
      ]
    },
    {
      "cell_type": "markdown",
      "source": [
        "#### sigmoid"
      ],
      "metadata": {
        "id": "HMVV3mRr15Z1"
      }
    },
    {
      "cell_type": "code",
      "source": [
        "model_svm_sigmoid = SVC( kernel= 'sigmoid') #sigmoid\n",
        "model_svm_sigmoid.fit(x_train, y_train)\n",
        "predictions[\"svm_sigmoid\"] = model_svm_sigmoid.predict(x_test)"
      ],
      "metadata": {
        "id": "N3yMG8dB-NKl"
      },
      "execution_count": null,
      "outputs": []
    },
    {
      "cell_type": "code",
      "source": [
        "svm_sigmoid_cm = confusion_matrix(y_test, predictions[\"svm_sigmoid\"])\n",
        "print(\"Confusion matrix for the SVM sigmoid:\")\n",
        "print(svm_sigmoid_cm)\n",
        "\n",
        "print(\"\\n\")\n",
        "print(\"F1 Score of the SVM sigmoid Classifier: \\n\")\n",
        "print(f'\\tMicro: {f1_score(y_test, predictions[\"svm_sigmoid\"], average = \"micro\")}')\n",
        "print(f'\\tMacro: {f1_score(y_test, predictions[\"svm_sigmoid\"], average = \"macro\")}\\n')\n",
        "\n",
        "cm = sns.heatmap(confusion_matrix(y_test, predictions[\"svm_sigmoid\"]), annot=True)\n",
        "cm.plot()\n",
        "plt.title(\"Confusion matrix for the SVM sigmoid strategy\")\n",
        "plt.show()"
      ],
      "metadata": {
        "colab": {
          "base_uri": "https://localhost:8080/",
          "height": 455
        },
        "id": "dutA2Kjl-NGA",
        "outputId": "62ea8cc9-89bf-4650-8c18-c099316fda1e"
      },
      "execution_count": null,
      "outputs": [
        {
          "output_type": "stream",
          "name": "stdout",
          "text": [
            "Confusion matrix for the SVM sigmoid:\n",
            "[[1942   45]\n",
            " [  58    1]]\n",
            "\n",
            "\n",
            "F1 Score of the SVM sigmoid Classifier: \n",
            "\n",
            "\tMicro: 0.9496578690127078\n",
            "\tMacro: 0.4966068293382063\n",
            "\n"
          ]
        },
        {
          "output_type": "display_data",
          "data": {
            "text/plain": [
              "<Figure size 432x288 with 2 Axes>"
            ],
            "image/png": "[encoded data removed]"
          },
          "metadata": {
            "needs_background": "light"
          }
        }
      ]
    },
    {
      "cell_type": "markdown",
      "source": [
        "### Markdown πίνακας"
      ],
      "metadata": {
        "id": "2zj92LwxBX1S"
      }
    },
    {
      "cell_type": "markdown",
      "source": [
        "| Classifier\\Score | F1 - micro | F1 - macro |\n",
        "|:----:|:------:|:-------:|\n",
        "| **uniform** | 0.497 |0.354 |\n",
        "| **constant 0** |0.971| 0.492 |\n",
        "| **constant 1**|0.029 |0.028 |\n",
        "| **startified**|0.935 | 0.483|\n",
        "| **most frequent**|0.971 |0.492 |\n",
        "| **MLP**|0.955 | 0.570  |\n",
        "| **SVM_linear**| 0.965 | 0.491 |\n",
        "| **SVM_rbf** | 0.971 | 0.492 |\n",
        "| **SVM_poly** | 0.971 | 0.492|\n",
        "| **SVM_sigmoid** | 0.949 | 0.496|"
      ],
      "metadata": {
        "id": "Yy1uQZwJBYSz"
      }
    },
    {
      "cell_type": "markdown",
      "source": [
        "### *Bar plot για τα F1 scores*"
      ],
      "metadata": {
        "id": "aMlnVEfs411c"
      }
    },
    {
      "cell_type": "code",
      "source": [
        "f1_macros, f1_micros, labels = [],[],[]\n",
        "for clf in predictions:  \n",
        "    f1_micros.append(f1_score(y_test,predictions[clf],average='micro'))\n",
        "    f1_macros.append(f1_score(y_test,predictions[clf],average='macro'))\n",
        "    labels.append(clf)\n",
        "\n",
        "x = np.arange(len(labels))\n",
        "width = 0.25\n",
        "\n",
        "fig, ax = plt.subplots()\n",
        "rects1 = ax.bar(x - width/2, f1_micros, width, label='f1_micro', color = \"green\")\n",
        "rects2 = ax.bar(x + width/2, f1_macros, width, label='f1_macro', color = \"orange\")\n",
        "\n",
        "fig.set_size_inches(18.5, 10.5)\n",
        "ax.set_ylabel('Scores')\n",
        "ax.set_title('Performance Comparison on F1-Score')\n",
        "ax.set_xticks(x)\n",
        "ax.set_xticklabels(labels)\n",
        "ax.legend()\n",
        "\n",
        "plt.show()"
      ],
      "metadata": {
        "colab": {
          "base_uri": "https://localhost:8080/"
        },
        "id": "8yyZf9R97tPq",
        "outputId": "efd2bb92-8bc0-4bee-8549-584c405dcca2"
      },
      "execution_count": null,
      "outputs": [
        {
          "output_type": "display_data",
          "data": {
            "text/plain": [
              "<Figure size 1332x756 with 1 Axes>"
            ],
            "image/png": "[encoded data removed]"
          },
          "metadata": {
            "needs_background": "light"
          }
        }
      ]
    },
    {
      "cell_type": "markdown",
      "source": [
        "Παρατηρούμε ότι η μετρική macro δίνει χειρότερη απόδοση (47-55%) σε σχέση με την micro (90-94%). Σε ένα unbalanced dataset επομένως, η macro αστοχεί αφού η κατανομή μεταξύ των δύο κλάσεων είναι άνιση. Οι καλές επιδόσες της micro δεν πρέπει να μας ξεγελάνε, καθώς ευνοούν την minority class. Είναι σημαντικό να προβλέπεται ορθά πότε μια εταιρία θα χρεοκοπήσει, κι όχι απλά αν δεν θα χρεοκοπήσει. Οπότε η f1-macro μετρική θα είχε περισσότερη αξία εδώ να είναι υψηλή.\n",
        "\n",
        "Παρατηρούμε ότι  οι μετρικές για τους ταξινομητές SVM και MLP επίσης δεν είναι χειρότερες από αυτές των Dummy ταξινομητών. Ειδικότερα ο constant-0 και ο most frequent έχουν το ίδιο καλό F1-score με δύο παραλλαγές του SVM. Γιαυτό είναι αναγκαίο να υπάρξει βελτιστοποίηση τόσο του dataset όσο και των ταξινομητών."
      ],
      "metadata": {
        "id": "g7pRmgKQBIYz"
      }
    },
    {
      "cell_type": "markdown",
      "source": [
        "##  Βελτιστοποίηση"
      ],
      "metadata": {
        "id": "dYLAaCH6_xtl"
      }
    },
    {
      "cell_type": "markdown",
      "source": [
        "### *Κανονικοποίηση δεδομένων*"
      ],
      "metadata": {
        "id": "xKHzSTbTFqdu"
      }
    },
    {
      "cell_type": "markdown",
      "source": [
        "Χρησιμοποιούμε έναν minmaxScaler για την κανονικοποίηση των δεδομένων. Είναι σημαντικό να κανονικοποιήσουμε τα δεδομένα μας, καθώς στην συνέχεια θα εφαρμόσουμε κάποιο VarianceThreshold > 0 για την βελτιστοποίηση των ταξινομητών. Με αυτόν τον τρόπο απαλείφουμε μεταβλητές με μεγάλες μέσες τιμές οι οποίες θα δίνουν μεγαλύτερη τιμή variance."
      ],
      "metadata": {
        "id": "QAO4xgWpFqdw"
      }
    },
    {
      "cell_type": "code",
      "source": [
        "from scipy import stats as st\n",
        "import numpy as np\n",
        "\n",
        "from sklearn import preprocessing\n",
        "\n",
        "# το ίδιο με  min max scaling\n",
        "min_max_scaler = preprocessing.MinMaxScaler()\n",
        "x_train_minmax = min_max_scaler.fit_transform(x_train)\n",
        "#print(x_train_minmax, \"\\n\")\n",
        "x_test_minmax = min_max_scaler.transform(x_test)\n",
        "#print(x_test_minmax)\n",
        "# παρατηρούμε ότι στο test set έχουμε τιμές εκτός [0,1] γιατί στο train set το min ήταν -1 και το max 2\n",
        "\n",
        "print(x_test_minmax.mean(axis=0))\n",
        "print(x_test_minmax.std(axis=0))"
      ],
      "metadata": {
        "colab": {
          "base_uri": "https://localhost:8080/"
        },
        "outputId": "eb7f3ceb-408c-4f37-babe-f689c02270d1",
        "id": "KNlW9bqaFqdy"
      },
      "execution_count": null,
      "outputs": [
        {
          "output_type": "stream",
          "name": "stdout",
          "text": [
            "[4.94176191e-01 5.68573685e-01 5.64115134e-01 9.14098213e-01\n",
            " 9.12867174e-01 9.98980138e-01 7.97450979e-01 8.09347566e-01\n",
            " 3.03608648e-01 7.81618298e-01 2.08087569e-01 1.89180276e-01\n",
            " 6.30110561e-01 1.84143488e-02 1.14471004e-01 1.91326473e-01\n",
            " 1.91290039e-01 1.91317720e-01 1.63618721e-01 3.23798756e-01\n",
            " 2.44379290e-04 1.09901784e-01 1.77182220e-01 2.22978766e-02\n",
            " 8.48119522e-01 6.89420163e-01 6.89399710e-01 2.17571265e-01\n",
            " 5.46184772e-01 7.07206910e-05 2.64168002e-01 5.00161045e-01\n",
            " 5.63251324e-12 8.38779577e-04 7.02795044e-01 1.59847465e-03\n",
            " 1.11150214e-01 8.88849786e-01 7.87030515e-03 1.52269222e-01\n",
            " 5.81277832e-03 1.09791570e-01 1.37932852e-01 2.15604923e-01\n",
            " 1.43778551e-01 1.52619124e-03 8.71728257e-04 2.09833401e-01\n",
            " 1.02364672e-01 3.92149119e-02 3.91117802e-04 4.01340282e-01\n",
            " 5.25552738e-04 8.16189845e-01 4.11787195e-01 5.24453738e-01\n",
            " 1.27279634e-01 4.17827608e-04 5.30492963e-03 8.90276002e-02\n",
            " 4.15107279e-01 5.95081132e-01 6.68953130e-03 7.60869462e-01\n",
            " 8.92097804e-01 1.18680459e-01 4.48464663e-03 9.35190272e-01\n",
            " 2.40075535e-03 2.91014523e-02 1.26742036e-01 2.16354819e-01\n",
            " 5.94013575e-01 2.40350996e-01 6.71521276e-01 3.03028235e-11\n",
            " 7.60869462e-01 1.18680459e-01 1.25341969e-01 6.49982654e-01\n",
            " 5.11388851e-01 5.95633575e-01 3.15474719e-01 3.36825312e-02\n",
            " 1.46627566e-03 8.08469340e-01 1.22657493e-03 3.63569597e-01\n",
            " 9.14097940e-01 8.40488897e-01 1.19093856e-01 2.53344658e-02\n",
            " 7.67047662e-01 4.92746086e-02]\n",
            "[6.30831793e-02 6.69741731e-02 6.80412057e-02 2.79802376e-02\n",
            " 2.79044207e-02 7.27562914e-04 1.65232103e-03 1.88437631e-03\n",
            " 3.48172389e-03 1.56650392e-03 3.28444137e-01 2.56825107e-01\n",
            " 2.54145668e-02 1.16461920e-01 1.32730693e-01 3.24272246e-02\n",
            " 3.25031821e-02 3.25019538e-02 3.41755344e-02 1.53842560e-02\n",
            " 1.10512405e-02 2.59927294e-02 2.96024400e-02 2.51297918e-03\n",
            " 1.30563066e-03 7.34027211e-03 7.49702313e-03 1.58076905e-03\n",
            " 2.88108204e-01 3.19810819e-03 1.23411873e-03 3.07850984e-02\n",
            " 7.37026033e-12 2.19545134e-02 1.08799621e-02 4.17240097e-02\n",
            " 5.30214707e-02 5.30214707e-02 1.39678231e-02 2.46358223e-02\n",
            " 1.64274511e-03 2.58070202e-02 2.93682077e-02 8.32778666e-02\n",
            " 1.03220684e-01 2.84810241e-02 2.54530542e-02 3.23346938e-01\n",
            " 2.49854051e-01 3.92781598e-02 1.76870024e-02 3.27366125e-02\n",
            " 2.37663757e-02 5.92808155e-02 2.09283032e-01 2.19813965e-01\n",
            " 1.45506882e-01 1.88948647e-02 6.19813910e-02 4.96928800e-02\n",
            " 4.86108491e-02 3.51756772e-02 6.35706538e-02 2.10176941e-01\n",
            " 1.26286326e-02 1.96217323e-02 4.94644968e-02 2.36805392e-02\n",
            " 3.58781648e-04 2.63939600e-02 2.89862259e-01 3.36577759e-01\n",
            " 1.50048617e-03 2.88639133e-01 2.56024388e-03 2.41972534e-11\n",
            " 2.10176941e-01 1.96217323e-02 2.33237034e-02 4.99490539e-02\n",
            " 3.70053912e-02 6.01388884e-02 1.11016843e-02 3.51305744e-02\n",
            " 3.82638955e-02 4.05525841e-02 2.81268895e-02 2.78219861e-02\n",
            " 2.79802908e-02 1.27052473e-02 1.80958440e-02 1.41883184e-02\n",
            " 2.22225704e-02 5.30863983e-02]\n"
          ]
        }
      ]
    },
    {
      "cell_type": "markdown",
      "source": [
        "### Μείωση διαστάσεων"
      ],
      "metadata": {
        "id": "FF7YsUgA5AdY"
      }
    },
    {
      "cell_type": "markdown",
      "source": [
        "Έχουμε ήδη αφαιρέσει μια στήλη που όλες οι τιμές ήταν ίσες, αλλά για έλεγχο βρίσκουμε παρακάτω και τον πίνακα με τις διακυμάνσεις όλων των τιμών των χαρακτηριστικών και τεστάρουμε ότι δεν υπάρχει χαρακτηριστικό με μηδενική διακύμανση:"
      ],
      "metadata": {
        "id": "jAA3Qocs5IL6"
      }
    },
    {
      "cell_type": "code",
      "source": [
        "xvar = np.var(x_train, axis=0)\n",
        "print(0 in xvar) #checks for zeros in the array of the variances"
      ],
      "metadata": {
        "colab": {
          "base_uri": "https://localhost:8080/"
        },
        "id": "_sl9MgsD4_9Z",
        "outputId": "9e0db845-1e10-43b0-8d7f-a7ca0b72eaea"
      },
      "execution_count": null,
      "outputs": [
        {
          "output_type": "stream",
          "name": "stdout",
          "text": [
            "False\n"
          ]
        }
      ]
    },
    {
      "cell_type": "markdown",
      "source": [
        "Επιλέγουμε ως threshold για τη διακύμανση τον αριθμό 0,001 που είναι αρκετά μικρός ώστε να μειώσουμε τις διαστάσεις."
      ],
      "metadata": {
        "id": "2a2ztIAW5NUo"
      }
    },
    {
      "cell_type": "code",
      "source": [
        "from sklearn.feature_selection import VarianceThreshold\n",
        "\n",
        "#print(x_train)\n",
        "# αρχικοποιούμε έναν selector\n",
        "selector = VarianceThreshold(threshold=0.001)\n",
        "# όπως κάναμε και με τους ταξινομητές τον κάνουμε fit στα δεδομένα εκπαίδευσης\n",
        "train_reduced = selector.fit_transform(x_train_minmax)\n",
        "#print(train_reduced)\n",
        "mask = selector.get_support()\n",
        "#print(mask)\n",
        "\n",
        "#print(x_test.shape)\n",
        "\n",
        "test_reduced = selector.transform(x_test_minmax)\n",
        "#print(test_reduced)\n",
        "print(train_reduced.shape)"
      ],
      "metadata": {
        "colab": {
          "base_uri": "https://localhost:8080/"
        },
        "id": "OdF92jq-5Nnl",
        "outputId": "a127e146-b9b0-46a8-8ddf-9358f5e6c47a"
      },
      "execution_count": null,
      "outputs": [
        {
          "output_type": "stream",
          "name": "stdout",
          "text": [
            "(4773, 45)\n"
          ]
        }
      ]
    },
    {
      "cell_type": "markdown",
      "source": [
        "### Εξισορρόπηση δεδομένων"
      ],
      "metadata": {
        "id": "ZMPNsc7GKEEA"
      }
    },
    {
      "cell_type": "markdown",
      "source": [
        "Όπως έχουμε παρατηρήσει το dataset μας είναι unbalanced. Για να εξισσοροπούμε το dataset μας θα δοκιμάσουμε την τεχνική oversampling με την οποία επιλέγουμε τυχαία ορισμένα παραδείγματα από τις λιγότερο συχνές κατηγορίες και τα επαναλαμβάνουμε. Προτιμούμε αυτή συγκριτικά με το undersampling καθώς έτσι δεν χάνουμε δεδομένα εκπαίδευσης.\n",
        "\n",
        "Θα πειραματιστούμε με δύο τεχνικές oversampling, την RandomOverSampler η οποία απλά εναλαμβάνει τυχαία ορισμένα παραδείγματα από τις λιγότερο συχνές κατηγορίες και την Smote η οποία δεν επαναλαμβάνει τις ήδη υπάρχουσες τιμές στην λιγότερα συχνή κατηγορία, αλλά δημιουργεί δικά της τεχνικά δεδομένα χρησιμοποιώντας τους γείτονες που υπάρχουν στην λιγότερο συχνή κατηγορία."
      ],
      "metadata": {
        "id": "whZSjrUIDfak"
      }
    },
    {
      "cell_type": "code",
      "source": [
        "print(df['Bankrupt?'].value_counts())  #δείγματα που αντιστοιχουν ανά κλάση"
      ],
      "metadata": {
        "colab": {
          "base_uri": "https://localhost:8080/"
        },
        "id": "XgNcTbsQDf6m",
        "outputId": "65657262-9a0e-488e-fbd0-2c91058b8ff5"
      },
      "execution_count": null,
      "outputs": [
        {
          "output_type": "stream",
          "name": "stdout",
          "text": [
            "0    6599\n",
            "1     220\n",
            "Name: Bankrupt?, dtype: int64\n"
          ]
        }
      ]
    },
    {
      "cell_type": "code",
      "source": [
        "!pip install -U imbalanced-learn"
      ],
      "metadata": {
        "colab": {
          "base_uri": "https://localhost:8080/"
        },
        "id": "7cBi15XHELGc",
        "outputId": "c8b14e1c-719f-4aef-dd7d-f63c06918d7e"
      },
      "execution_count": null,
      "outputs": [
        {
          "output_type": "stream",
          "name": "stdout",
          "text": [
            "Looking in indexes: https://pypi.org/simple, https://us-python.pkg.dev/colab-wheels/public/simple/\n",
            "Requirement already satisfied: imbalanced-learn in /usr/local/lib/python3.7/dist-packages (0.8.1)\n",
            "Collecting imbalanced-learn\n",
            "  Downloading imbalanced_learn-0.9.1-py3-none-any.whl (199 kB)\n",
            "\u001b[K     |████████████████████████████████| 199 kB 6.6 MB/s \n",
            "\u001b[?25hRequirement already satisfied: scipy>=1.3.2 in /usr/local/lib/python3.7/dist-packages (from imbalanced-learn) (1.7.3)\n",
            "  Downloading imbalanced_learn-0.9.0-py3-none-any.whl (199 kB)\n",
            "\u001b[K     |████████████████████████████████| 199 kB 63.9 MB/s \n",
            "\u001b[?25hRequirement already satisfied: scikit-learn>=1.0.1 in /usr/local/lib/python3.7/dist-packages (from imbalanced-learn) (1.0.2)\n",
            "Requirement already satisfied: joblib>=0.11 in /usr/local/lib/python3.7/dist-packages (from imbalanced-learn) (1.2.0)\n",
            "Requirement already satisfied: threadpoolctl>=2.0.0 in /usr/local/lib/python3.7/dist-packages (from imbalanced-learn) (3.1.0)\n",
            "Requirement already satisfied: numpy>=1.14.6 in /usr/local/lib/python3.7/dist-packages (from imbalanced-learn) (1.21.6)\n",
            "Installing collected packages: imbalanced-learn\n",
            "  Attempting uninstall: imbalanced-learn\n",
            "    Found existing installation: imbalanced-learn 0.8.1\n",
            "    Uninstalling imbalanced-learn-0.8.1:\n",
            "      Successfully uninstalled imbalanced-learn-0.8.1\n",
            "Successfully installed imbalanced-learn-0.9.0\n"
          ]
        }
      ]
    },
    {
      "cell_type": "code",
      "source": [
        "#RandomOverSampler\n",
        "from imblearn.over_sampling import RandomOverSampler\n",
        "from sklearn.preprocessing import MultiLabelBinarizer\n",
        "from collections import Counter\n",
        "\n",
        "ros = RandomOverSampler(random_state = 0)\n",
        "x_train_over, y_train_over = ros.fit_resample(train_reduced,y_train)\n",
        "\n",
        "\n",
        "freq=Counter(y_train_over)\n",
        "print(freq)            #dictionary με συχνότητες\n",
        "\n",
        "print(\"Size of new x_train:\", x_train_over.shape)\n",
        "print(\"Size of new y_train:\", y_train_over.shape)"
      ],
      "metadata": {
        "colab": {
          "base_uri": "https://localhost:8080/"
        },
        "id": "PhmU6lVwEPEP",
        "outputId": "8ee5ebd7-e996-490d-b484-a5757af6ca76"
      },
      "execution_count": null,
      "outputs": [
        {
          "output_type": "stream",
          "name": "stdout",
          "text": [
            "Counter({0: 4612, 1: 4612})\n",
            "Size of new x_train: (9224, 45)\n",
            "Size of new y_train: (9224,)\n"
          ]
        }
      ]
    },
    {
      "cell_type": "code",
      "source": [
        "#SMOTE\n",
        "from imblearn.over_sampling import SMOTE, ADASYN\n",
        "\n",
        "smote= SMOTE()\n",
        "x_train_smote, y_train_smote = smote.fit_resample(train_reduced, y_train)\n",
        "\n",
        "freq=Counter(y_train_over)\n",
        "print(freq)            #dictionary με συχνότητες\n",
        "\n",
        "print(\"Size of new x_train:\", x_train_smote.shape)\n",
        "print(\"Size of new y_train:\", y_train_smote.shape)"
      ],
      "metadata": {
        "colab": {
          "base_uri": "https://localhost:8080/"
        },
        "id": "Kzi-LI7MEaRV",
        "outputId": "85daa081-e348-4534-ea52-f00256356b9e"
      },
      "execution_count": null,
      "outputs": [
        {
          "output_type": "stream",
          "name": "stdout",
          "text": [
            "Counter({0: 4612, 1: 4612})\n",
            "Size of new x_train: (9224, 45)\n",
            "Size of new y_train: (9224,)\n"
          ]
        }
      ]
    },
    {
      "cell_type": "markdown",
      "source": [
        "Βλέπουμε πως πλέον η αναλογία των κλάσεων είναι 1:1 και συνεπώς το training set είναι ισορροπημένο. Το Oversamping έγινε μόνο στο training set, αφού το test set θέλουμε να μείνει αναλοίωτο."
      ],
      "metadata": {
        "id": "lyw7AE0c-ZiF"
      }
    },
    {
      "cell_type": "markdown",
      "source": [
        "### PCA"
      ],
      "metadata": {
        "id": "2Bmu_gFJPUqd"
      }
    },
    {
      "cell_type": "markdown",
      "source": [
        "Με τη τεχνική PC μπορούμε να συνοψίσουμε το περιεχόμενο πληροφοριών σε πίνακες δεδομένων μέσω ενός μικρότερου συνόλου δεικτών που μπορούν να οπτικοποιηθούν και να αναλυθούν πιο εύκολα."
      ],
      "metadata": {
        "id": "huNIs1k2Sr9q"
      }
    },
    {
      "cell_type": "code",
      "source": [
        "from sklearn.decomposition import PCA\n",
        "\n",
        "#SMOTE\n",
        "#from imblearn.over_sampling import SMOTE\n",
        "\n",
        "#smote= SMOTE()\n",
        "#x_train_smote, y_train_smote = smote.fit_resample(x_train_minmax , y_train)\n",
        "\n",
        "from imblearn.over_sampling import RandomOverSampler\n",
        "from sklearn.preprocessing import MultiLabelBinarizer\n",
        "from collections import Counter\n",
        "\n",
        "#τα κάνω oversampler για να τσεκάρω αν αλλάζει κάτι στο plot\n",
        "\n",
        "pca = PCA(n_components=45)\n",
        "\n",
        "#principalComponents = pca.fit_transform(x_train_smote)\n",
        "principalComponents = pca.fit_transform(x_train_over)\n",
        "\n",
        "print(\"The first component contains {:.2f}% of the total information and the second one contains {:.2f}%\".format( (100*pca.explained_variance_ratio_[0]),(100*pca.explained_variance_ratio_[1]) ) )\n",
        "print(\"In total the 2 components contains {:.2f}% of the total information\".format((100*pca.explained_variance_ratio_[0])+(100*pca.explained_variance_ratio_[1])) )"
      ],
      "metadata": {
        "colab": {
          "base_uri": "https://localhost:8080/"
        },
        "id": "I87pbc48PX23",
        "outputId": "0eb57bc5-94c8-4365-d44f-037f88b0980d"
      },
      "execution_count": null,
      "outputs": [
        {
          "output_type": "stream",
          "name": "stdout",
          "text": [
            "The first component contains 17.15% of the total information and the second one contains 13.85%\n",
            "In total the 2 components contains 31.01% of the total information\n"
          ]
        }
      ]
    },
    {
      "cell_type": "code",
      "source": [
        "# Θα τυπωσουμε το συσσωρευτικό ποσοστό διασποράς που εξηγείται από τις κύριες συνιστώσες\n",
        "evar = pca.explained_variance_ratio_\n",
        "cum_evar = np.cumsum(evar)\n",
        "print(cum_evar)\n",
        "plt.figure(1, figsize=(5, 5))\n",
        "plt.xlabel(\"Principal Component number\")\n",
        "plt.ylabel('Cumulative Variance')\n",
        "plt.plot(cum_evar, linewidth=2)\n",
        "plt.show()"
      ],
      "metadata": {
        "colab": {
          "base_uri": "https://localhost:8080/",
          "height": 473
        },
        "id": "sXrLw4wCN0Jr",
        "outputId": "2907b3a2-d975-4e30-e2a6-f4199b49f7e4"
      },
      "execution_count": null,
      "outputs": [
        {
          "output_type": "stream",
          "name": "stdout",
          "text": [
            "[0.17153836 0.31008333 0.41177552 0.5041468  0.58027608 0.65304617\n",
            " 0.71834248 0.77473231 0.82506216 0.86389657 0.8954528  0.91276972\n",
            " 0.92806618 0.93943467 0.94815043 0.95520514 0.96130858 0.96729248\n",
            " 0.97161614 0.97569177 0.97962775 0.98315804 0.98642276 0.98943304\n",
            " 0.99201734 0.99379677 0.995114   0.99594245 0.99670419 0.99732637\n",
            " 0.99789656 0.99842323 0.99887968 0.99926116 0.99952678 0.99976704\n",
            " 0.99988839 0.99995074 0.99997953 0.99999776 0.99999952 1.\n",
            " 1.         1.         1.        ]\n"
          ]
        },
        {
          "output_type": "display_data",
          "data": {
            "text/plain": [
              "<Figure size 360x360 with 1 Axes>"
            ],
            "image/png": "[encoded data removed]"
          },
          "metadata": {
            "needs_background": "light"
          }
        }
      ]
    },
    {
      "cell_type": "markdown",
      "source": [
        "### Βελτιστοποίηση με χρήση pipelines"
      ],
      "metadata": {
        "id": "BaIUO3ZpR-ep"
      }
    },
    {
      "cell_type": "markdown",
      "source": [
        "Στην συνέχεια θα χρησιμοποιήσουμε pipelines για να μελετήσουμε ειδικότερα την επίδραση διαφορετικών βελτιστοποιήσεων στην απόδοση των ταξινομητών βρίσκοντας ποιες υπερπαράμετροι σε κάθε ταξινομητή είναι οι βέλτιστες.\n",
        "\n",
        "Για να το καταφέρουμε αυτό θα κάνουμε tuning υπερπαραμέτρων ώστε να βρούμε τους κατάλληλους συνδυασμούς που θα βελτιστοποιήσουν τους ταξινομητές μας (MLP,SVM).\n",
        "\n",
        "Κάνουμε Grid-search με 5-fold-cross validation, το οποίο είναι χρονοβόρο. Κάνουμε cross validation με μετρική micro γιατί ενδείκνυται για imbalanced δεδομένα. Ωστόσο η τελική εκτύπωση της απόδοσης είναι σε macro.\n",
        "\n",
        "Στην προεπεξεργασία μείωσαμε το variance των δεδομένων μας και είδαμε ότι οι τιμές της διασποράς είναι κοντά στο 0 (έχουμε απαλείψει προηγουμένως το ένα χαρακτηριστικό με μηδενική διασπορά). Τo variance thresholding μπορεί να θεωρηθεί ως υπερπαράμετρος, την οποία αρχικά εισάγαμε ως μέρος της αρχιτεκτονικής του pipeline αλλά παρατηρήσαμε πως πάντα επιλεγόταν threshold κάτω από το min των τιμών, δηλαδή τα αποτελέσματα είναι χειρότερα κάνοντας variance thresholding. Οπότε δεν αποτελεί τόσο χρήσιμη υπερπαράμετρο στο συγκεκριμένο πρόβλημα γιαυτό δεν την λαβάνουμε υπόψιν.\n",
        "\n",
        "Η στρατηγική εύρεσης υπερπαραμέτρων που θα χρησιμοποιήσουμε είναι η ακόλουθη: Για κάθε ταξινομητή που θα μελετήσουμε (MLP , SVM_linear , SVM_rbf , SVM_poly) για τις δύο διαφορετικές τεχνικές oversampling(randomoversampling και SMOTE) και με PCA για τεχνική dimensionality reduction υπολογίζουμε τις υπερπαραμέτρους. Στη συνέχεια θα αναλύουμε πως επηρεάζει κάθε τεχνική την απόδοση και στο τέλος θα συγκρίνουμε με bar plots όλους τους ταξινομητές."
      ],
      "metadata": {
        "id": "XML7xNrPTgvX"
      }
    },
    {
      "cell_type": "code",
      "source": [
        "!pip install --upgrade imbalanced-learn"
      ],
      "metadata": {
        "colab": {
          "base_uri": "https://localhost:8080/"
        },
        "id": "aGLHZYLJSFVf",
        "outputId": "fe76ba1d-e534-4cab-87d8-2b95803d739e"
      },
      "execution_count": null,
      "outputs": [
        {
          "output_type": "stream",
          "name": "stdout",
          "text": [
            "Looking in indexes: https://pypi.org/simple, https://us-python.pkg.dev/colab-wheels/public/simple/\n",
            "Requirement already satisfied: imbalanced-learn in /usr/local/lib/python3.7/dist-packages (0.9.0)\n",
            "Collecting imbalanced-learn\n",
            "  Using cached imbalanced_learn-0.9.1-py3-none-any.whl (199 kB)\n",
            "Requirement already satisfied: joblib>=1.0.0 in /usr/local/lib/python3.7/dist-packages (from imbalanced-learn) (1.2.0)\n",
            "Requirement already satisfied: scipy>=1.3.2 in /usr/local/lib/python3.7/dist-packages (from imbalanced-learn) (1.7.3)\n",
            "Requirement already satisfied: numpy>=1.17.3 in /usr/local/lib/python3.7/dist-packages (from imbalanced-learn) (1.21.6)\n",
            "Requirement already satisfied: threadpoolctl>=2.0.0 in /usr/local/lib/python3.7/dist-packages (from imbalanced-learn) (3.1.0)\n",
            "Requirement already satisfied: scikit-learn>=1.0.1 in /usr/local/lib/python3.7/dist-packages (from imbalanced-learn) (1.0.2)\n"
          ]
        }
      ]
    },
    {
      "cell_type": "code",
      "source": [
        "from imblearn.pipeline import Pipeline\n",
        "from sklearn.model_selection import GridSearchCV\n",
        "from sklearn.metrics import classification_report\n",
        "\n",
        "from sklearn.svm import SVC\n",
        "from sklearn.svm import LinearSVC\n",
        "\n",
        "from imblearn.over_sampling import RandomOverSampler\n",
        "from imblearn.over_sampling import SMOTE\n",
        "\n",
        "from sklearn.feature_selection import VarianceThreshold\n",
        "from sklearn.decomposition import FactorAnalysis\n",
        "\n",
        "from sklearn.decomposition import PCA"
      ],
      "metadata": {
        "id": "bO8y3VSASJa8"
      },
      "execution_count": null,
      "outputs": []
    },
    {
      "cell_type": "markdown",
      "source": [
        "#### *MLP*"
      ],
      "metadata": {
        "id": "qYAx7fy5QY8L"
      }
    },
    {
      "cell_type": "markdown",
      "source": [
        "Για τη βελτιστοποίηση του ταξινομητή MLP θα χρησιμοποιήσουμε τη βιβλιοθήκη Optuna."
      ],
      "metadata": {
        "id": "7sNIKyXAWYRL"
      }
    },
    {
      "cell_type": "code",
      "source": [
        "!pip install --upgrade optuna"
      ],
      "metadata": {
        "id": "Rp4T0dL2SL6H",
        "colab": {
          "base_uri": "https://localhost:8080/"
        },
        "outputId": "44efce31-4b55-475b-86d0-767b6e8f64f0"
      },
      "execution_count": null,
      "outputs": [
        {
          "output_type": "stream",
          "name": "stdout",
          "text": [
            "Looking in indexes: https://pypi.org/simple, https://us-python.pkg.dev/colab-wheels/public/simple/\n",
            "Collecting optuna\n",
            "  Downloading optuna-3.0.3-py3-none-any.whl (348 kB)\n",
            "\u001b[K     |████████████████████████████████| 348 kB 6.7 MB/s \n",
            "\u001b[?25hCollecting cmaes>=0.8.2\n",
            "  Downloading cmaes-0.9.0-py3-none-any.whl (23 kB)\n",
            "Requirement already satisfied: PyYAML in /usr/local/lib/python3.7/dist-packages (from optuna) (6.0)\n",
            "Requirement already satisfied: packaging>=20.0 in /usr/local/lib/python3.7/dist-packages (from optuna) (21.3)\n",
            "Requirement already satisfied: sqlalchemy>=1.3.0 in /usr/local/lib/python3.7/dist-packages (from optuna) (1.4.44)\n",
            "Requirement already satisfied: numpy in /usr/local/lib/python3.7/dist-packages (from optuna) (1.21.6)\n",
            "Requirement already satisfied: tqdm in /usr/local/lib/python3.7/dist-packages (from optuna) (4.64.1)\n",
            "Requirement already satisfied: scipy<1.9.0,>=1.7.0 in /usr/local/lib/python3.7/dist-packages (from optuna) (1.7.3)\n",
            "Collecting alembic>=1.5.0\n",
            "  Downloading alembic-1.8.1-py3-none-any.whl (209 kB)\n",
            "\u001b[K     |████████████████████████████████| 209 kB 55.4 MB/s \n",
            "\u001b[?25hRequirement already satisfied: importlib-metadata<5.0.0 in /usr/local/lib/python3.7/dist-packages (from optuna) (4.13.0)\n",
            "Collecting colorlog\n",
            "  Downloading colorlog-6.7.0-py2.py3-none-any.whl (11 kB)\n",
            "Collecting cliff\n",
            "  Downloading cliff-3.10.1-py3-none-any.whl (81 kB)\n",
            "\u001b[K     |████████████████████████████████| 81 kB 10.5 MB/s \n",
            "\u001b[?25hCollecting Mako\n",
            "  Downloading Mako-1.2.4-py3-none-any.whl (78 kB)\n",
            "\u001b[K     |████████████████████████████████| 78 kB 7.2 MB/s \n",
            "\u001b[?25hRequirement already satisfied: importlib-resources in /usr/local/lib/python3.7/dist-packages (from alembic>=1.5.0->optuna) (5.10.0)\n",
            "Requirement already satisfied: zipp>=0.5 in /usr/local/lib/python3.7/dist-packages (from importlib-metadata<5.0.0->optuna) (3.10.0)\n",
            "Requirement already satisfied: typing-extensions>=3.6.4 in /usr/local/lib/python3.7/dist-packages (from importlib-metadata<5.0.0->optuna) (4.1.1)\n",
            "Requirement already satisfied: pyparsing!=3.0.5,>=2.0.2 in /usr/local/lib/python3.7/dist-packages (from packaging>=20.0->optuna) (3.0.9)\n",
            "Requirement already satisfied: greenlet!=0.4.17 in /usr/local/lib/python3.7/dist-packages (from sqlalchemy>=1.3.0->optuna) (2.0.1)\n",
            "Requirement already satisfied: PrettyTable>=0.7.2 in /usr/local/lib/python3.7/dist-packages (from cliff->optuna) (3.5.0)\n",
            "Collecting pbr!=2.1.0,>=2.0.0\n",
            "  Downloading pbr-5.11.0-py2.py3-none-any.whl (112 kB)\n",
            "\u001b[K     |████████████████████████████████| 112 kB 46.9 MB/s \n",
            "\u001b[?25hCollecting stevedore>=2.0.1\n",
            "  Downloading stevedore-3.5.2-py3-none-any.whl (50 kB)\n",
            "\u001b[K     |████████████████████████████████| 50 kB 6.4 MB/s \n",
            "\u001b[?25hCollecting cmd2>=1.0.0\n",
            "  Downloading cmd2-2.4.2-py3-none-any.whl (147 kB)\n",
            "\u001b[K     |████████████████████████████████| 147 kB 56.3 MB/s \n",
            "\u001b[?25hCollecting autopage>=0.4.0\n",
            "  Downloading autopage-0.5.1-py3-none-any.whl (29 kB)\n",
            "Requirement already satisfied: wcwidth>=0.1.7 in /usr/local/lib/python3.7/dist-packages (from cmd2>=1.0.0->cliff->optuna) (0.2.5)\n",
            "Collecting pyperclip>=1.6\n",
            "  Downloading pyperclip-1.8.2.tar.gz (20 kB)\n",
            "Requirement already satisfied: attrs>=16.3.0 in /usr/local/lib/python3.7/dist-packages (from cmd2>=1.0.0->cliff->optuna) (22.1.0)\n",
            "Requirement already satisfied: MarkupSafe>=0.9.2 in /usr/local/lib/python3.7/dist-packages (from Mako->alembic>=1.5.0->optuna) (2.0.1)\n",
            "Building wheels for collected packages: pyperclip\n",
            "  Building wheel for pyperclip (setup.py) ... \u001b[?25l\u001b[?25hdone\n",
            "  Created wheel for pyperclip: filename=pyperclip-1.8.2-py3-none-any.whl size=11136 sha256=6ab9fb65b8f74e24b97c917f4adf7f07f267e70de1103e4bc7411a0e0cb29e11\n",
            "  Stored in directory: /root/.cache/pip/wheels/9f/18/84/8f69f8b08169c7bae2dde6bd7daf0c19fca8c8e500ee620a28\n",
            "Successfully built pyperclip\n",
            "Installing collected packages: pyperclip, pbr, stevedore, Mako, cmd2, autopage, colorlog, cmaes, cliff, alembic, optuna\n",
            "Successfully installed Mako-1.2.4 alembic-1.8.1 autopage-0.5.1 cliff-3.10.1 cmaes-0.9.0 cmd2-2.4.2 colorlog-6.7.0 optuna-3.0.3 pbr-5.11.0 pyperclip-1.8.2 stevedore-3.5.2\n"
          ]
        }
      ]
    },
    {
      "cell_type": "code",
      "source": [
        "from sklearn.neural_network import MLPClassifier\n",
        "import optuna"
      ],
      "metadata": {
        "id": "0Q8q6UZ4SPR5"
      },
      "execution_count": null,
      "outputs": []
    },
    {
      "cell_type": "code",
      "source": [
        "f1_macro_optimized_MLP = [] #εδώ θα βάλουμε τα F1-scores από το τρέξιμο των βελτιστοποίησεων"
      ],
      "metadata": {
        "id": "2QOihf5YSRXs"
      },
      "execution_count": null,
      "outputs": []
    },
    {
      "cell_type": "code",
      "source": [
        "def objective(trial, x_train, y_train , x_test , y_test):\n",
        "\n",
        "    pca = PCA(n_components=45)\n",
        "    x_train = pca.fit_transform(x_train)\n",
        "    x_test = pca.transform(x_test)\n",
        "    \n",
        "    n_layers = trial.suggest_int('n_layers', 1, 2 )           #number of layers\n",
        "\n",
        "    layers = []\n",
        "    for i in range(n_layers):\n",
        "        layers.append(trial.suggest_int(f'n_units_{i}', 10, 20 ))      #space of neurons per layer\n",
        "\n",
        "    #alpha=trial.suggest_loguniform('alpha',1e-4,100)     # penalty  parameter.\n",
        "    #tol=trial.suggest_float('tol',1e-8,1e-4)             # tol\n",
        "\n",
        "    clf = MLPClassifier(hidden_layer_sizes=tuple(layers), max_iter=1000)\n",
        "\n",
        "    clf.fit(x_train, y_train)\n",
        "\n",
        "    score = clf.score(x_test, y_test)\n",
        "\n",
        "    f1_macro_optimized_MLP.append(score)\n",
        "\n",
        "    return score"
      ],
      "metadata": {
        "id": "UyChoQzlSWhN"
      },
      "execution_count": null,
      "outputs": []
    },
    {
      "cell_type": "code",
      "source": [
        "#for RandomOversampling\n",
        "study = optuna.create_study(direction='maximize')\n",
        "print(\"THIS IS PCA\")\n",
        "study.optimize(lambda trial: objective(trial, x_train_over, y_train_over, test_reduced, y_test) , n_trials=3) "
      ],
      "metadata": {
        "colab": {
          "base_uri": "https://localhost:8080/"
        },
        "id": "VMPcpt01S6YS",
        "outputId": "8798154f-647b-4586-c58c-eb732cbc558e"
      },
      "execution_count": null,
      "outputs": [
        {
          "output_type": "stream",
          "name": "stderr",
          "text": [
            "\u001b[32m[I 2022-11-25 14:25:34,879]\u001b[0m A new study created in memory with name: no-name-5c57e0fd-3043-4fc2-8ba5-d43d14e24f5b\u001b[0m\n"
          ]
        },
        {
          "output_type": "stream",
          "name": "stdout",
          "text": [
            "THIS IS PCA\n"
          ]
        },
        {
          "output_type": "stream",
          "name": "stderr",
          "text": [
            "\u001b[32m[I 2022-11-25 14:26:15,621]\u001b[0m Trial 0 finished with value: 0.9486803519061584 and parameters: {'n_layers': 2, 'n_units_0': 17, 'n_units_1': 18}. Best is trial 0 with value: 0.9486803519061584.\u001b[0m\n",
            "\u001b[32m[I 2022-11-25 14:27:00,592]\u001b[0m Trial 1 finished with value: 0.9457478005865103 and parameters: {'n_layers': 2, 'n_units_0': 13, 'n_units_1': 11}. Best is trial 0 with value: 0.9486803519061584.\u001b[0m\n",
            "\u001b[32m[I 2022-11-25 14:27:20,464]\u001b[0m Trial 2 finished with value: 0.9599217986314761 and parameters: {'n_layers': 2, 'n_units_0': 17, 'n_units_1': 13}. Best is trial 2 with value: 0.9599217986314761.\u001b[0m\n"
          ]
        }
      ]
    },
    {
      "cell_type": "code",
      "source": [
        "#for SMOTE\n",
        "study = optuna.create_study(direction='maximize')\n",
        "print(\"THIS IS PCA\")\n",
        "study.optimize(lambda trial: objective(trial, x_train_smote, y_train_smote, test_reduced, y_test) , n_trials=3) "
      ],
      "metadata": {
        "colab": {
          "base_uri": "https://localhost:8080/"
        },
        "id": "QjmKqkaQWEhO",
        "outputId": "945b8910-7b7b-4715-a8cd-d89e281d87ea"
      },
      "execution_count": null,
      "outputs": [
        {
          "output_type": "stream",
          "name": "stderr",
          "text": [
            "\u001b[32m[I 2022-11-25 14:27:20,477]\u001b[0m A new study created in memory with name: no-name-d2975873-aec2-4afd-9cbb-2c99f5cc352e\u001b[0m\n"
          ]
        },
        {
          "output_type": "stream",
          "name": "stdout",
          "text": [
            "THIS IS PCA\n"
          ]
        },
        {
          "output_type": "stream",
          "name": "stderr",
          "text": [
            "\u001b[32m[I 2022-11-25 14:27:47,941]\u001b[0m Trial 0 finished with value: 0.947702834799609 and parameters: {'n_layers': 1, 'n_units_0': 15}. Best is trial 0 with value: 0.947702834799609.\u001b[0m\n",
            "\u001b[32m[I 2022-11-25 14:28:17,988]\u001b[0m Trial 1 finished with value: 0.9457478005865103 and parameters: {'n_layers': 2, 'n_units_0': 12, 'n_units_1': 19}. Best is trial 0 with value: 0.947702834799609.\u001b[0m\n",
            "\u001b[32m[I 2022-11-25 14:28:39,562]\u001b[0m Trial 2 finished with value: 0.9286412512218963 and parameters: {'n_layers': 1, 'n_units_0': 16}. Best is trial 0 with value: 0.947702834799609.\u001b[0m\n"
          ]
        }
      ]
    },
    {
      "cell_type": "markdown",
      "source": [
        "#### *SVM*"
      ],
      "metadata": {
        "id": "2imTWTPMWstp"
      }
    },
    {
      "cell_type": "markdown",
      "source": [
        "Για την βελτιστοποίηση των SVM ταξινομητών θα χρησιμοοιήσουμε την skicit-learn"
      ],
      "metadata": {
        "id": "t8duuwxFYKH4"
      }
    },
    {
      "cell_type": "code",
      "source": [
        "f1_macro_scoreslist_SVM = [] #εδώ θα βάλουμε τα F1-scores από το τρέξιμο των βελτιστοποίησεων"
      ],
      "metadata": {
        "id": "iS1O0XnSWzf2"
      },
      "execution_count": null,
      "outputs": []
    },
    {
      "cell_type": "code",
      "source": [
        "def gridsearch_class_report(classifier, param_grid, pipe, train, train_labels, test, test_labels):\n",
        "\n",
        "                                                # X_train_minmax , y_train , X_test_minmax , y_test\n",
        "\n",
        "    # We will use 5 fold validation\n",
        "    estimator = GridSearchCV(pipe, param_grid=param_grid, cv=5, scoring='f1_micro', n_jobs=-1, verbose=10)\n",
        "\n",
        "    %time estimator.fit(train, train_labels)\n",
        "    \n",
        "    \n",
        "    preds = estimator.predict(test)                         #test = X_test_minmax\n",
        "    \n",
        "    print(classification_report(test_labels, preds))\n",
        "\n",
        "    print(estimator.best_estimator_)\n",
        "    print(estimator.best_params_)\n",
        "\n",
        "    #f1_acc_optimized[classifier] = rep_dict['accuracy']\n",
        "\n",
        "    # Compute confusion matrix\n",
        "    pred = estimator.predict(test)\n",
        "    print(\"Confusion matrix\\n\")\n",
        "    cnf_matrix = confusion_matrix(test_labels, pred)\n",
        "    print(classifier, \"Classifier\", )\n",
        "    print(cnf_matrix, end='\\n\\n')\n",
        "\n",
        "    rep_dict = classification_report(test_labels, preds, output_dict = True)\n",
        "\n",
        "    f1_macro_scoreslist_SVM.append(rep_dict['weighted avg']['f1-score'])\n",
        "    #f1_macro_optimized[classifier] = mylist "
      ],
      "metadata": {
        "id": "2hS4c6XuXVCy"
      },
      "execution_count": null,
      "outputs": []
    },
    {
      "cell_type": "markdown",
      "source": [
        "##### **linear**"
      ],
      "metadata": {
        "id": "6T9I1m5XYFW_"
      }
    },
    {
      "cell_type": "markdown",
      "source": [
        "Για αρχή δοκιμάζω τα παρακάτω διαστήματα για τις υπερπαραμέτρους:\n",
        "\n"
      ],
      "metadata": {
        "id": "wLHCdKQwX12S"
      }
    },
    {
      "cell_type": "code",
      "source": [
        "#dimensionality reduction params\n",
        "vthreshold = [0.001, 0.003 , 0.005]\n",
        "\n",
        "#linear_svm params\n",
        "loss = [\"hinge\", \"squared_hinge\"]        # default ‘squared_hinge’\n",
        "tol = [1e-4, 1e-8, 1e-14]                 # default 1e-3\n",
        "c = [1, 10, 30, 50, 70]\n",
        "\n",
        "linear_svm = LinearSVC()\n",
        "selector = VarianceThreshold()\n",
        "sampler = RandomOverSampler()\n",
        "\n",
        "\n",
        "param_grid = dict(selector__threshold=vthreshold , linearsvm__loss = loss, linearsvm__tol = tol , linearsvm__C = c)\n",
        "\n",
        "pipe = Pipeline(steps=[('sampler' , sampler) , ('selector', selector), ('linearsvm', linear_svm) ], memory = 'tmp')\n",
        "\n",
        "gridsearch_class_report('SVM_linear', param_grid, pipe, x_train_minmax, y_train, x_test_minmax, y_test)"
      ],
      "metadata": {
        "colab": {
          "base_uri": "https://localhost:8080/"
        },
        "id": "I_RxVZ3YVTS2",
        "outputId": "e70ea93b-1dd0-4630-af3e-51a0c168c019"
      },
      "execution_count": null,
      "outputs": [
        {
          "output_type": "stream",
          "name": "stdout",
          "text": [
            "Fitting 5 folds for each of 90 candidates, totalling 450 fits\n",
            "CPU times: user 6.32 s, sys: 320 ms, total: 6.64 s\n",
            "Wall time: 5min 26s\n",
            "              precision    recall  f1-score   support\n",
            "\n",
            "           0       0.99      0.94      0.96      1987\n",
            "           1       0.23      0.64      0.34        59\n",
            "\n",
            "    accuracy                           0.93      2046\n",
            "   macro avg       0.61      0.79      0.65      2046\n",
            "weighted avg       0.97      0.93      0.94      2046\n",
            "\n",
            "Pipeline(memory='tmp',\n",
            "         steps=[('sampler', RandomOverSampler()),\n",
            "                ('selector', VarianceThreshold(threshold=0.001)),\n",
            "                ('linearsvm', LinearSVC(C=70, tol=1e-08))])\n",
            "{'linearsvm__C': 70, 'linearsvm__loss': 'squared_hinge', 'linearsvm__tol': 1e-08, 'selector__threshold': 0.001}\n",
            "Confusion matrix\n",
            "\n",
            "SVM_linear Classifier\n",
            "[[1860  127]\n",
            " [  21   38]]\n",
            "\n"
          ]
        }
      ]
    },
    {
      "cell_type": "markdown",
      "source": [
        "Μετά από αρκετές δοκιμές βρίσκω καλύτερες τιμές για τις υπερπαραμέτρους."
      ],
      "metadata": {
        "id": "-Q6iZSXM55GZ"
      }
    },
    {
      "cell_type": "code",
      "source": [
        "#dimensionality reduction params\n",
        "vthreshold = [0.001, 0.002 , 0.003]\n",
        "\n",
        "#linear_svm params\n",
        "loss = [\"hinge\", \"squared_hinge\"]        # default ‘squared_hinge’\n",
        "tol = [1e-10, 1e-12, 1e-14]                 # default 1e-3\n",
        "c = [63, 65, 68, 70]\n",
        "\n",
        "linear_svm = LinearSVC()\n",
        "selector = VarianceThreshold()\n",
        "sampler = RandomOverSampler()\n",
        "\n",
        "\n",
        "param_grid = dict(selector__threshold=vthreshold , linearsvm__loss = loss, linearsvm__tol = tol , linearsvm__C = c)\n",
        "\n",
        "pipe = Pipeline(steps=[('sampler' , sampler) , ('selector', selector), ('linearsvm', linear_svm) ], memory = 'tmp')\n",
        "\n",
        "gridsearch_class_report('SVM_linear', param_grid, pipe, x_train_minmax, y_train, x_test_minmax, y_test)"
      ],
      "metadata": {
        "colab": {
          "base_uri": "https://localhost:8080/"
        },
        "id": "4_p6B8nXX09w",
        "outputId": "e84d6830-8276-49d6-a683-4ff199b66161"
      },
      "execution_count": null,
      "outputs": [
        {
          "output_type": "stream",
          "name": "stdout",
          "text": [
            "Fitting 5 folds for each of 72 candidates, totalling 360 fits\n",
            "CPU times: user 5.43 s, sys: 353 ms, total: 5.78 s\n",
            "Wall time: 5min 57s\n",
            "              precision    recall  f1-score   support\n",
            "\n",
            "           0       0.99      0.91      0.95      1987\n",
            "           1       0.19      0.69      0.30        59\n",
            "\n",
            "    accuracy                           0.91      2046\n",
            "   macro avg       0.59      0.80      0.62      2046\n",
            "weighted avg       0.97      0.91      0.93      2046\n",
            "\n",
            "Pipeline(memory='tmp',\n",
            "         steps=[('sampler', RandomOverSampler()),\n",
            "                ('selector', VarianceThreshold(threshold=0.002)),\n",
            "                ('linearsvm', LinearSVC(C=68, tol=1e-10))])\n",
            "{'linearsvm__C': 68, 'linearsvm__loss': 'squared_hinge', 'linearsvm__tol': 1e-10, 'selector__threshold': 0.002}\n",
            "Confusion matrix\n",
            "\n",
            "SVM_linear Classifier\n",
            "[[1812  175]\n",
            " [  18   41]]\n",
            "\n"
          ]
        }
      ]
    },
    {
      "cell_type": "markdown",
      "source": [
        "Μετά από δοκιμές (μετατοπίζοντας το διάστημα των αντίστοιχων υπερπαραμέτρων) οι βέλτιστοι είναι C = 68-70, tol = 1e-10, loss = squared hinge και threshold = 0.002."
      ],
      "metadata": {
        "id": "Yfsx0fpzbS7O"
      }
    },
    {
      "cell_type": "markdown",
      "source": [
        "Δοκιμάζω τώρα με τεχνική oversampling **SMOTE**."
      ],
      "metadata": {
        "id": "p2PT4Aqcb1wO"
      }
    },
    {
      "cell_type": "code",
      "source": [
        "#dimensionality reduction params\n",
        "vthreshold = [0.001, 0.002 , 0.003]\n",
        "\n",
        "#linear_svm params\n",
        "loss = [\"hinge\", \"squared_hinge\"]      \n",
        "tol = [1e-10, 1e-12, 1e-14]                 # default 1e-3\n",
        "c = [63, 65, 68, 70]\n",
        "\n",
        "linear_svm = LinearSVC()\n",
        "selector = VarianceThreshold()\n",
        "sampler = SMOTE()\n",
        "\n",
        "param_grid = dict(selector__threshold=vthreshold , linearsvm__loss = loss, linearsvm__tol = tol , linearsvm__C = c)\n",
        "\n",
        "pipe = Pipeline(steps=[('sampler' , sampler) , ('selector', selector), ('linearsvm', linear_svm) ], memory = 'tmp')\n",
        "\n",
        "gridsearch_class_report('SVM_linear', param_grid, pipe, x_train_minmax, y_train, x_test_minmax, y_test) "
      ],
      "metadata": {
        "colab": {
          "base_uri": "https://localhost:8080/"
        },
        "id": "wF8-ncgJb09h",
        "outputId": "74202a3e-6c0e-45a4-bbd8-7434d88b81e8"
      },
      "execution_count": null,
      "outputs": [
        {
          "output_type": "stream",
          "name": "stdout",
          "text": [
            "Fitting 5 folds for each of 72 candidates, totalling 360 fits\n",
            "CPU times: user 4.25 s, sys: 390 ms, total: 4.64 s\n",
            "Wall time: 4min 6s\n",
            "              precision    recall  f1-score   support\n",
            "\n",
            "           0       0.99      0.86      0.92      1987\n",
            "           1       0.15      0.85      0.26        59\n",
            "\n",
            "    accuracy                           0.86      2046\n",
            "   macro avg       0.57      0.85      0.59      2046\n",
            "weighted avg       0.97      0.86      0.90      2046\n",
            "\n",
            "Pipeline(memory='tmp',\n",
            "         steps=[('sampler', SMOTE()),\n",
            "                ('selector', VarianceThreshold(threshold=0.002)),\n",
            "                ('linearsvm', LinearSVC(C=68, tol=1e-10))])\n",
            "{'linearsvm__C': 68, 'linearsvm__loss': 'squared_hinge', 'linearsvm__tol': 1e-10, 'selector__threshold': 0.002}\n",
            "Confusion matrix\n",
            "\n",
            "SVM_linear Classifier\n",
            "[[1704  283]\n",
            " [   9   50]]\n",
            "\n"
          ]
        }
      ]
    },
    {
      "cell_type": "markdown",
      "source": [
        "Παρατηρούμε ότι πέφτει ελαφρώς η ακρίβεια με την τεχνική SMOTE.\n",
        "\n",
        "Προχωράμε με τη μέθοδο PCA για να δουμε αν θα βελτιωθεί η απόδοση τόσο με RandomOverSampler όσο και SMOTE:"
      ],
      "metadata": {
        "id": "a6AzysGsgS0c"
      }
    },
    {
      "cell_type": "markdown",
      "source": [
        "**PCA**"
      ],
      "metadata": {
        "id": "WrVLLS-nfw2i"
      }
    },
    {
      "cell_type": "code",
      "source": [
        "selector = PCA()\n",
        "\n",
        "#dimensionality reduction params\n",
        "pca_components = [ 50 , 60 , 70 , 80 ]\n",
        "\n",
        "#linear_svm params\n",
        "loss = [\"hinge\", \"squared_hinge\"]        \n",
        "tol = [1e-10, 1e-12, 1e-14]                 # default 1e-3\n",
        "c = [63, 65, 68, 70]\n",
        "\n",
        "linear_svm = LinearSVC()\n",
        "sampler = RandomOverSampler()\n",
        "\n",
        "param_grid = dict(selector__n_components=pca_components , linearsvm__loss = loss, linearsvm__tol = tol , linearsvm__C = c)\n",
        "\n",
        "pipe = Pipeline(steps=[ ('sampler', sampler), ('selector', selector), ('linearsvm' , linear_svm) ] , memory = 'tmp')\n",
        "\n",
        "gridsearch_class_report('SVM_linear', param_grid, pipe, x_train_minmax, y_train, x_test_minmax, y_test)"
      ],
      "metadata": {
        "colab": {
          "base_uri": "https://localhost:8080/"
        },
        "id": "8C6az6oYfnJQ",
        "outputId": "c908964d-83be-4784-9a75-e200d4e935a1"
      },
      "execution_count": null,
      "outputs": [
        {
          "output_type": "stream",
          "name": "stdout",
          "text": [
            "Fitting 5 folds for each of 96 candidates, totalling 480 fits\n",
            "CPU times: user 6.73 s, sys: 459 ms, total: 7.19 s\n",
            "Wall time: 6min 37s\n",
            "              precision    recall  f1-score   support\n",
            "\n",
            "           0       0.99      0.88      0.93      1987\n",
            "           1       0.15      0.75      0.26        59\n",
            "\n",
            "    accuracy                           0.87      2046\n",
            "   macro avg       0.57      0.81      0.59      2046\n",
            "weighted avg       0.97      0.87      0.91      2046\n",
            "\n",
            "Pipeline(memory='tmp',\n",
            "         steps=[('sampler', RandomOverSampler()),\n",
            "                ('selector', PCA(n_components=80)),\n",
            "                ('linearsvm', LinearSVC(C=68, tol=1e-14))])\n",
            "{'linearsvm__C': 68, 'linearsvm__loss': 'squared_hinge', 'linearsvm__tol': 1e-14, 'selector__n_components': 80}\n",
            "Confusion matrix\n",
            "\n",
            "SVM_linear Classifier\n",
            "[[1746  241]\n",
            " [  15   44]]\n",
            "\n"
          ]
        }
      ]
    },
    {
      "cell_type": "code",
      "source": [
        "selector = PCA()\n",
        "\n",
        "#dimensionality reduction params\n",
        "pca_components = [ 50 , 60 , 70 , 80 ]\n",
        "\n",
        "#linear_svm params\n",
        "loss = [\"hinge\", \"squared_hinge\"]       \n",
        "tol = [1e-10, 1e-12, 1e-14]                 # default 1e-3\n",
        "c = [63, 65, 68, 70]\n",
        "\n",
        "linear_svm = LinearSVC()\n",
        "sampler = SMOTE()\n",
        "\n",
        "param_grid = dict(selector__n_components=pca_components , linearsvm__loss = loss, linearsvm__tol = tol , linearsvm__C = c)\n",
        "\n",
        "pipe = Pipeline(steps=[ ('sampler', sampler), ('selector', selector), ('linearsvm' , linear_svm) ] , memory = 'tmp')\n",
        "\n",
        "gridsearch_class_report('SVM_linear', param_grid, pipe, x_train_minmax, y_train, x_test_minmax, y_test)"
      ],
      "metadata": {
        "colab": {
          "base_uri": "https://localhost:8080/"
        },
        "id": "V3_LMYzLgETo",
        "outputId": "c67aa6b8-ff66-4f2d-aaca-ec3e2146e947"
      },
      "execution_count": null,
      "outputs": [
        {
          "output_type": "stream",
          "name": "stdout",
          "text": [
            "Fitting 5 folds for each of 96 candidates, totalling 480 fits\n",
            "CPU times: user 6.28 s, sys: 425 ms, total: 6.71 s\n",
            "Wall time: 5min 15s\n",
            "              precision    recall  f1-score   support\n",
            "\n",
            "           0       0.99      0.90      0.94      1987\n",
            "           1       0.17      0.71      0.28        59\n",
            "\n",
            "    accuracy                           0.89      2046\n",
            "   macro avg       0.58      0.81      0.61      2046\n",
            "weighted avg       0.97      0.89      0.92      2046\n",
            "\n",
            "Pipeline(memory='tmp',\n",
            "         steps=[('sampler', SMOTE()), ('selector', PCA(n_components=80)),\n",
            "                ('linearsvm', LinearSVC(C=65, tol=1e-10))])\n",
            "{'linearsvm__C': 65, 'linearsvm__loss': 'squared_hinge', 'linearsvm__tol': 1e-10, 'selector__n_components': 80}\n",
            "Confusion matrix\n",
            "\n",
            "SVM_linear Classifier\n",
            "[[1788  199]\n",
            " [  17   42]]\n",
            "\n"
          ]
        }
      ]
    },
    {
      "cell_type": "markdown",
      "source": [
        "Συμπεράσματα για linear kernel:\n",
        "\n",
        "* Aφού βρούμε τις κατάλληλες υπερπαραμέτρους loss, tol, C το μοντέλο ισορροπεί γύρω από μία συγκεκριμένη απόδοση και μικροαλλαγές δεν επιφέρουν ουσιαστική αλλαγή(βελτίωση) στην απόδοση και αυτό οφείλεται στο ότι τα δεδομένα μας δεν είναι γραμμικά διαχωρίσιμα.\n",
        "* Καλύτερη απόδοση (με πολύ μικρή διαφορά) εμφανίζεται με RandomOverSampler εξισορρόπηση ανεξάρτητα.\n",
        "\n",
        "Για τους υπόλοιπους kernels θα χρησιμοποιήσουμε μόνο pca ως μεθόδους μείωσης διάστασης."
      ],
      "metadata": {
        "id": "yFaWjv-D7FH0"
      }
    },
    {
      "cell_type": "markdown",
      "source": [
        "##### **rbf**"
      ],
      "metadata": {
        "id": "NfOaruatr6Dx"
      }
    },
    {
      "cell_type": "markdown",
      "source": [
        "Η Radial Basis Function που χρησιμοποιείται σε αυτόν τον kernel περιέχει την υπερπαράμετρο gamma."
      ],
      "metadata": {
        "id": "e_9uG0ib8qpR"
      }
    },
    {
      "cell_type": "code",
      "source": [
        "sampler = RandomOverSampler()\n",
        "selector = PCA()\n",
        "\n",
        "gamma = ['scale'] \n",
        "\n",
        "pca_components = [ 10, 40 , 70 , 80, 90 ]\n",
        "tol = [1e-3, 1e-4] \n",
        "c = [110, 120, 130] \n",
        "\n",
        "rbf_svc = SVC(kernel='rbf')\n",
        "\n",
        "param_grid = dict(selector__n_components=pca_components , rbfsvc__gamma = gamma,  rbfsvc__tol = tol , rbfsvc__C = c)\n",
        "\n",
        "pipe = Pipeline(steps=[ ('sampler', sampler), ('selector', selector), ('rbfsvc', rbf_svc) ] , memory = 'tmp')\n",
        "\n",
        "gridsearch_class_report('SVM_rbf', param_grid, pipe, x_train_minmax, y_train, x_test_minmax, y_test)"
      ],
      "metadata": {
        "colab": {
          "base_uri": "https://localhost:8080/"
        },
        "id": "msAanDDwsXkE",
        "outputId": "a9b23022-dd93-4860-ffd9-93b97a320758"
      },
      "execution_count": null,
      "outputs": [
        {
          "output_type": "stream",
          "name": "stdout",
          "text": [
            "Fitting 5 folds for each of 30 candidates, totalling 150 fits\n",
            "CPU times: user 3.78 s, sys: 490 ms, total: 4.27 s\n",
            "Wall time: 2min 34s\n",
            "              precision    recall  f1-score   support\n",
            "\n",
            "           0       0.98      0.98      0.98      1987\n",
            "           1       0.25      0.27      0.26        59\n",
            "\n",
            "    accuracy                           0.96      2046\n",
            "   macro avg       0.62      0.62      0.62      2046\n",
            "weighted avg       0.96      0.96      0.96      2046\n",
            "\n",
            "Pipeline(memory='tmp',\n",
            "         steps=[('sampler', RandomOverSampler()),\n",
            "                ('selector', PCA(n_components=70)), ('rbfsvc', SVC(C=120))])\n",
            "{'rbfsvc__C': 120, 'rbfsvc__gamma': 'scale', 'rbfsvc__tol': 0.001, 'selector__n_components': 70}\n",
            "Confusion matrix\n",
            "\n",
            "SVM_rbf Classifier\n",
            "[[1940   47]\n",
            " [  43   16]]\n",
            "\n"
          ]
        }
      ]
    },
    {
      "cell_type": "markdown",
      "source": [
        "Η κύρια υπερπαράμετρος είναι η gamma και έπειτα από αρκετά πειράματα διαλέγω gamma = scale και δοκιμάζοντας διάφορες παραμέτρους διαλέγω C = 120, tol = 1e-3 και pca γύρω από το 70."
      ],
      "metadata": {
        "id": "N6F1I37M80EI"
      }
    },
    {
      "cell_type": "code",
      "source": [
        "sampler = SMOTE()\n",
        "selector = PCA()\n",
        "\n",
        "gamma = ['scale'] # default scale\n",
        "\n",
        "pca_components = [ 10, 40 , 70 , 80, 90 ]\n",
        "tol = [1e-3, 1e-4] \n",
        "c = [110, 120, 130] \n",
        "\n",
        "rbf_svc = SVC(kernel='rbf')\n",
        "\n",
        "param_grid = dict(selector__n_components=pca_components , rbfsvc__gamma = gamma,  rbfsvc__tol = tol , rbfsvc__C = c)\n",
        "\n",
        "pipe = Pipeline(steps=[ ('sampler', sampler), ('selector', selector), ('rbfsvc', rbf_svc) ] , memory = 'tmp')\n",
        "\n",
        "gridsearch_class_report('SVM_rbf', param_grid, pipe, x_train_minmax, y_train, x_test_minmax, y_test)"
      ],
      "metadata": {
        "colab": {
          "base_uri": "https://localhost:8080/"
        },
        "id": "vSG8hhqPtVwf",
        "outputId": "04b61b3a-54ba-4a0b-c10f-4317dc2c0c77"
      },
      "execution_count": null,
      "outputs": [
        {
          "output_type": "stream",
          "name": "stdout",
          "text": [
            "Fitting 5 folds for each of 30 candidates, totalling 150 fits\n",
            "CPU times: user 2.92 s, sys: 147 ms, total: 3.07 s\n",
            "Wall time: 2min 16s\n",
            "              precision    recall  f1-score   support\n",
            "\n",
            "           0       0.98      0.98      0.98      1987\n",
            "           1       0.25      0.25      0.25        59\n",
            "\n",
            "    accuracy                           0.96      2046\n",
            "   macro avg       0.61      0.62      0.61      2046\n",
            "weighted avg       0.96      0.96      0.96      2046\n",
            "\n",
            "Pipeline(memory='tmp',\n",
            "         steps=[('sampler', SMOTE()), ('selector', PCA(n_components=80)),\n",
            "                ('rbfsvc', SVC(C=110))])\n",
            "{'rbfsvc__C': 110, 'rbfsvc__gamma': 'scale', 'rbfsvc__tol': 0.001, 'selector__n_components': 80}\n",
            "Confusion matrix\n",
            "\n",
            "SVM_rbf Classifier\n",
            "[[1941   46]\n",
            " [  44   15]]\n",
            "\n"
          ]
        }
      ]
    },
    {
      "cell_type": "markdown",
      "source": [
        "Συμπεράσματα για τον rbf kernel:\n",
        "\n",
        "* Υπερέχει του linear kernel, διότι με το kernel trick αυξάνονται οι διαστάσεις και τα data διαχωρίζονται, οπότε η ταξινόμηση γίνεται πιο αποδοτικά. Καταλήξαμε στην μεταβληρή gamma = scale αντί του auto. Επίσης, παρατηρούμε επειδή έχουμε μικρό variance στα δεδομένα μας πως η τιμή του gamma αυξάνει και όταν βάλαμε δοκιμαστικά μεγαλύτερες τιμές και ο χρόνος βελτιώθηκε αλλά η απόδοση έπεσε, κάτι που περιμέναμε.\n",
        "* Και εδώ παρατηρούμε ότι μειώνεται ελάχιστα η απόδοση όταν χρησιμοποιούμε SMOTE oversampling.\n",
        "υπάρχει βελτίωση απόδοσης (κατά 1%) με factor analysis έναντι της PCA ως τεχνική μείωσης διαστάσεων.\n",
        "\n",
        "Προφανώς καλύτερη τεχνική τόσο σε χρόνο όσο και σε απόδοση από την linear kernel."
      ],
      "metadata": {
        "id": "fUnhX3-y9d3I"
      }
    },
    {
      "cell_type": "markdown",
      "source": [
        "##### **poly**"
      ],
      "metadata": {
        "id": "ld1bc1-Qt-2W"
      }
    },
    {
      "cell_type": "markdown",
      "source": [
        "O poly(πολυωνυμικός) kernel έχει μια επιπλεόν υπερπαράμετρο, την degree, που είναι ο βαθμός του πολυωνύμου που χρησιμοποιούμε. Για degree=1 είναι η περίπτωση του linear kernel."
      ],
      "metadata": {
        "id": "9FlYqkJmKVdq"
      }
    },
    {
      "cell_type": "code",
      "source": [
        "sampler = RandomOverSampler()\n",
        "\n",
        "selector = PCA()\n",
        "\n",
        "#dimensionality reduction params\n",
        "pca_components = [ 45, 50 , 55 ]\n",
        "\n",
        "#poly_svm params\n",
        "degree = [ 3, 4 , 5, 6]\n",
        "tol = [1e-3, 1e-4]                \n",
        "c = [35 , 40, 45 ]\n",
        "\n",
        "poly_svm = SVC(kernel='poly')\n",
        "\n",
        "param_grid = dict(selector__n_components=pca_components , polysvm__tol = tol , polysvm__C = c, polysvm__degree = degree)\n",
        "\n",
        "pipe = Pipeline(steps=[ ('sampler', sampler), ('selector', selector), ('polysvm' , poly_svm) ] , memory = 'tmp')\n",
        "\n",
        "gridsearch_class_report('SVM_poly', param_grid, pipe, x_train_minmax, y_train, x_test_minmax, y_test)"
      ],
      "metadata": {
        "colab": {
          "base_uri": "https://localhost:8080/"
        },
        "id": "HYgIqog_t-Fb",
        "outputId": "f4286d8f-42e8-40f4-ff2f-4125e7d520d3"
      },
      "execution_count": null,
      "outputs": [
        {
          "output_type": "stream",
          "name": "stdout",
          "text": [
            "Fitting 5 folds for each of 72 candidates, totalling 360 fits\n",
            "CPU times: user 4.95 s, sys: 450 ms, total: 5.4 s\n",
            "Wall time: 4min 37s\n",
            "              precision    recall  f1-score   support\n",
            "\n",
            "           0       0.98      0.96      0.97      1987\n",
            "           1       0.24      0.42      0.31        59\n",
            "\n",
            "    accuracy                           0.95      2046\n",
            "   macro avg       0.61      0.69      0.64      2046\n",
            "weighted avg       0.96      0.95      0.95      2046\n",
            "\n",
            "Pipeline(memory='tmp',\n",
            "         steps=[('sampler', RandomOverSampler()),\n",
            "                ('selector', PCA(n_components=45)),\n",
            "                ('polysvm', SVC(C=40, degree=5, kernel='poly'))])\n",
            "{'polysvm__C': 40, 'polysvm__degree': 5, 'polysvm__tol': 0.001, 'selector__n_components': 45}\n",
            "Confusion matrix\n",
            "\n",
            "SVM_poly Classifier\n",
            "[[1909   78]\n",
            " [  34   25]]\n",
            "\n"
          ]
        }
      ]
    },
    {
      "cell_type": "markdown",
      "source": [
        "Έπειτα από δοκιμές διαλέγουμε degree = 4."
      ],
      "metadata": {
        "id": "-PM43UvcKczr"
      }
    },
    {
      "cell_type": "code",
      "source": [
        "sampler = SMOTE()\n",
        "\n",
        "selector = PCA()\n",
        "\n",
        "#dimensionality reduction params\n",
        "pca_components = [ 45, 50 , 55 ]\n",
        "\n",
        "#poly_svm params\n",
        "degree = [ 3, 4 , 5, 6]\n",
        "tol = [1e-3, 1e-4]                \n",
        "c = [35 , 40, 45 ]\n",
        "\n",
        "poly_svm = SVC(kernel='poly')\n",
        "\n",
        "param_grid = dict(selector__n_components=pca_components , polysvm__tol = tol , polysvm__C = c , polysvm__degree= degree)\n",
        "\n",
        "pipe = Pipeline(steps=[ ('sampler', sampler), ('selector', selector), ('polysvm' , poly_svm) ] , memory = 'tmp')\n",
        "\n",
        "gridsearch_class_report('SVM_poly', param_grid, pipe, x_train_minmax, y_train, x_test_minmax, y_test)"
      ],
      "metadata": {
        "colab": {
          "base_uri": "https://localhost:8080/"
        },
        "id": "1-yOAvriuJqC",
        "outputId": "42521a89-d7ab-4b14-a2d7-144bd5a8b584"
      },
      "execution_count": null,
      "outputs": [
        {
          "output_type": "stream",
          "name": "stdout",
          "text": [
            "Fitting 5 folds for each of 72 candidates, totalling 360 fits\n",
            "CPU times: user 5.2 s, sys: 561 ms, total: 5.76 s\n",
            "Wall time: 5min 22s\n",
            "              precision    recall  f1-score   support\n",
            "\n",
            "           0       0.98      0.96      0.97      1987\n",
            "           1       0.20      0.31      0.24        59\n",
            "\n",
            "    accuracy                           0.95      2046\n",
            "   macro avg       0.59      0.63      0.61      2046\n",
            "weighted avg       0.96      0.95      0.95      2046\n",
            "\n",
            "Pipeline(memory='tmp',\n",
            "         steps=[('sampler', SMOTE()), ('selector', PCA(n_components=45)),\n",
            "                ('polysvm', SVC(C=45, degree=4, kernel='poly'))])\n",
            "{'polysvm__C': 45, 'polysvm__degree': 4, 'polysvm__tol': 0.001, 'selector__n_components': 45}\n",
            "Confusion matrix\n",
            "\n",
            "SVM_poly Classifier\n",
            "[[1917   70]\n",
            " [  41   18]]\n",
            "\n"
          ]
        }
      ]
    },
    {
      "cell_type": "markdown",
      "source": [
        "Συμπεράσματα για τον poly kernel:\n",
        "\n",
        "* Καταλήγουμε σε βαθμό πολυωνύμου 4 και παρατηρούμε ότι όσο αυξάνουμε τον βαθμό του πολυωνύμου τόσο αυξάνεται και ο χρόνος \"εκπαίδευσης\" του μοντέλου.\n",
        "* Και εδώ το SMOTE μειώνει σχεδόν ανεπαίσθητα την απόδοση."
      ],
      "metadata": {
        "id": "J8_G5PDUKhre"
      }
    },
    {
      "cell_type": "markdown",
      "source": [
        "### Markdown πίνακας"
      ],
      "metadata": {
        "id": "63K2e6rBMag7"
      }
    },
    {
      "cell_type": "markdown",
      "source": [
        "| Classifier\\Score | F1 - macro |\n",
        "|:----:|:------:|\n",
        "| **MLP**| 0.9599  |\n",
        "| **SVM_linear**| 0.9306 |\n",
        "| **SVM_rbf** | 0.9567 |\n",
        "| **SVM_poly** | 0.9523 |"
      ],
      "metadata": {
        "id": "vnrEiHRoMlAI"
      }
    },
    {
      "cell_type": "markdown",
      "source": [
        "### Bar plots"
      ],
      "metadata": {
        "id": "LC0BAyiWySWU"
      }
    },
    {
      "cell_type": "code",
      "source": [
        "from statistics import mean"
      ],
      "metadata": {
        "id": "Ut8Bc05ZyUmi"
      },
      "execution_count": null,
      "outputs": []
    },
    {
      "cell_type": "code",
      "source": [
        "#MLP\n",
        "f1_macro_MLP_splitted = [f1_macro_optimized_MLP[x:x+3] for x in range(0, 6, 3)]\n",
        "f1_macro_MLP_splitted\n",
        "\n",
        "f1_macro_MLP_max = [max(sublist) for sublist in f1_macro_MLP_splitted]\n",
        "\n",
        "f1_macro_MLP = max(f1_macro_MLP_max) \n",
        "\n",
        "print(f1_macro_MLP)"
      ],
      "metadata": {
        "colab": {
          "base_uri": "https://localhost:8080/"
        },
        "id": "UofCixHIyfea",
        "outputId": "59974cc0-24dd-44f4-d259-f5f3b09eece6"
      },
      "execution_count": null,
      "outputs": [
        {
          "output_type": "stream",
          "name": "stdout",
          "text": [
            "0.9599217986314761\n"
          ]
        }
      ]
    },
    {
      "cell_type": "code",
      "source": [
        "#SVM\n",
        "f1_macro_SVM_kernel = max(f1_macro_scoreslist_SVM[1:5])\n",
        "\n",
        "f1_macro_SVM_rbf = max(f1_macro_scoreslist_SVM[5:7])\n",
        "\n",
        "f1_macro_SVM_poly = max(f1_macro_scoreslist_SVM[7:9])\n",
        "\n",
        "f1_optimized_values = [f1_macro_MLP , f1_macro_SVM_kernel , f1_macro_SVM_rbf , f1_macro_SVM_poly]\n",
        "f1_optimized_values"
      ],
      "metadata": {
        "colab": {
          "base_uri": "https://localhost:8080/"
        },
        "id": "tsbFWPVUk1gd",
        "outputId": "7fab3970-ad9c-4660-b0f6-a08f5af842ad"
      },
      "execution_count": null,
      "outputs": [
        {
          "output_type": "execute_result",
          "data": {
            "text/plain": [
              "[0.9599217986314761, 0.9306566523022614, 0.9567106890448132, 0.952386561355343]"
            ]
          },
          "metadata": {},
          "execution_count": 97
        }
      ]
    },
    {
      "cell_type": "code",
      "source": [
        "#plot\n",
        "n=4\n",
        "r = np.arange(n)\n",
        "width = 0.25\n",
        "  \n",
        "percent_f1_optimized_values = [element for element in f1_optimized_values]\n",
        "\n",
        "plt.bar(r + width, percent_f1_optimized_values , color = 'b', width = width, edgecolor = 'black')\n",
        "  \n",
        "plt.xlabel(\"model\")\n",
        "plt.ylabel(\"F1 macro score\")\n",
        "plt.title(\"F1 macro score:  default vs optimized\")\n",
        "  \n",
        "# plt.grid(linestyle='--')\n",
        "plt.xticks(r + width/2, ['MLP','SVM_linear','SVM_rbf','SVM_poly'])\n",
        "  \n",
        "plt.show()"
      ],
      "metadata": {
        "colab": {
          "base_uri": "https://localhost:8080/",
          "height": 296
        },
        "id": "lmODQ6CZltjk",
        "outputId": "fbd7745d-ad7b-4be9-ea50-3455e54cef59"
      },
      "execution_count": null,
      "outputs": [
        {
          "output_type": "display_data",
          "data": {
            "text/plain": [
              "<Figure size 432x288 with 1 Axes>"
            ],
            "image/png": "[encoded data removed]"
          },
          "metadata": {
            "needs_background": "light"
          }
        }
      ]
    },
    {
      "cell_type": "markdown",
      "source": [
        "Γενικά συμπεράσματα ύστερα από αρκετές \"εκπαιδεύσεις\" του μοντέλου:\n",
        "\n",
        "Γενικά βελτιώνεται ουσιαστικά η απόδοση με την βελτιστοποίηση, όπως ήταν και ο στόχος.\n",
        "\n",
        "O MLP έχει την βέλτιστη απόδοση ωστόσο δεν είναι σταθερή, υπάρχουν απότομες διακυμάνσεις μεταξύ 0.93-0.95. Αυτό οφείλεται στο ότι το MLP έχει μη κυρτή συνάρτηση κόστους με πολλές υπερπαραμέτρους, οπότε είναι δύσκολο να βρεθούν τιμές για όλες.\n",
        "\n",
        "Από τους SVC ο rbf έχει τη βέλτιστη απόδοση πάντα και ακολουθεί ο πολυωνυμικός με πολυώνυμο βαθμού 4. Ο kernel linear έχει τη χειρότερη, όπως αναμενόταν, αφού τα data δεν είναι γραμμικά διαχωρίσιμα.\n",
        "\n",
        "Η χρήση του framework Optuna για την μελέτη απόδοσης του MLP προσφέρει ταχύτητα σε αντίθεση με το scikit learn, άρα γενικά ο MLP ταξινομητής θερωείται αρκετά καλή επιλογή. Από τους SVC o rbf έχει τόσο την καλύτερη απόδοση όσο και χρόνο εκπαίδευσης."
      ],
      "metadata": {
        "id": "2nfpCLlnNBvB"
      }
    }
  ]
}